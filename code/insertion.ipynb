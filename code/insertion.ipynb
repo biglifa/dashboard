{
 "cells": [
  {
   "cell_type": "code",
   "execution_count": 1,
   "metadata": {},
   "outputs": [],
   "source": [
    "import pyodbc as pb\n",
    "import pandas as pd\n",
    "import numpy as np\n",
    "import cx_Oracle as cx"
   ]
  },
  {
   "cell_type": "code",
   "execution_count": 2,
   "metadata": {},
   "outputs": [],
   "source": [
    "dsn_tns = cx.makedsn (host='telline.univ-tlse3.fr',port=1521,sid='etupre') \n",
    "conn = cx.connect (user = 'bhm0322a', password ='sid2019', dsn = dsn_tns) \n",
    "c = conn.cursor ()"
   ]
  },
  {
   "cell_type": "markdown",
   "metadata": {},
   "source": [
    "## Collection"
   ]
  },
  {
   "cell_type": "code",
   "execution_count": 10,
   "metadata": {},
   "outputs": [
    {
     "data": {
      "text/html": [
       "<div>\n",
       "<style scoped>\n",
       "    .dataframe tbody tr th:only-of-type {\n",
       "        vertical-align: middle;\n",
       "    }\n",
       "\n",
       "    .dataframe tbody tr th {\n",
       "        vertical-align: top;\n",
       "    }\n",
       "\n",
       "    .dataframe thead th {\n",
       "        text-align: right;\n",
       "    }\n",
       "</style>\n",
       "<table border=\"1\" class=\"dataframe\">\n",
       "  <thead>\n",
       "    <tr style=\"text-align: right;\">\n",
       "      <th></th>\n",
       "      <th>ISSN</th>\n",
       "      <th>NOM_COLLECTION</th>\n",
       "      <th>NB_NUMERO</th>\n",
       "      <th>NB_DOCUMENT</th>\n",
       "      <th>ANNEE_CREATION</th>\n",
       "      <th>ANNEE_FIN</th>\n",
       "      <th>EDITEUR</th>\n",
       "      <th>DISCIPLINE</th>\n",
       "    </tr>\n",
       "  </thead>\n",
       "  <tbody>\n",
       "  </tbody>\n",
       "</table>\n",
       "</div>"
      ],
      "text/plain": [
       "Empty DataFrame\n",
       "Columns: [ISSN, NOM_COLLECTION, NB_NUMERO, NB_DOCUMENT, ANNEE_CREATION, ANNEE_FIN, EDITEUR, DISCIPLINE]\n",
       "Index: []"
      ]
     },
     "execution_count": 10,
     "metadata": {},
     "output_type": "execute_result"
    }
   ],
   "source": [
    "query = \"SELECT * FROM COLLECTION\"\n",
    "df = pd.read_sql(query,conn)\n",
    "df.head(3)"
   ]
  },
  {
   "cell_type": "code",
   "execution_count": 25,
   "metadata": {},
   "outputs": [
    {
     "data": {
      "text/html": [
       "<div>\n",
       "<style scoped>\n",
       "    .dataframe tbody tr th:only-of-type {\n",
       "        vertical-align: middle;\n",
       "    }\n",
       "\n",
       "    .dataframe tbody tr th {\n",
       "        vertical-align: top;\n",
       "    }\n",
       "\n",
       "    .dataframe thead th {\n",
       "        text-align: right;\n",
       "    }\n",
       "</style>\n",
       "<table border=\"1\" class=\"dataframe\">\n",
       "  <thead>\n",
       "    <tr style=\"text-align: right;\">\n",
       "      <th></th>\n",
       "      <th>issn</th>\n",
       "      <th>nom_clt</th>\n",
       "      <th>nb_numeros</th>\n",
       "      <th>nb_document</th>\n",
       "      <th>pre_année_pub</th>\n",
       "      <th>der_année_pub</th>\n",
       "      <th>discpline</th>\n",
       "      <th>editeur</th>\n",
       "    </tr>\n",
       "  </thead>\n",
       "  <tbody>\n",
       "    <tr>\n",
       "      <td>0</td>\n",
       "      <td>2262-3353</td>\n",
       "      <td>Hommes &amp; Migrations</td>\n",
       "      <td>180</td>\n",
       "      <td>4523</td>\n",
       "      <td>1987</td>\n",
       "      <td>2008</td>\n",
       "      <td>démographie, science politique</td>\n",
       "      <td>Musée de l'Histoire de l'Immigration</td>\n",
       "    </tr>\n",
       "    <tr>\n",
       "      <td>1</td>\n",
       "      <td>1950-6694</td>\n",
       "      <td>Revue économique</td>\n",
       "      <td>320</td>\n",
       "      <td>6776</td>\n",
       "      <td>1950</td>\n",
       "      <td>2002</td>\n",
       "      <td>économie</td>\n",
       "      <td>SciencesPo</td>\n",
       "    </tr>\n",
       "    <tr>\n",
       "      <td>2</td>\n",
       "      <td>1783-1768</td>\n",
       "      <td>Revue Philosophique de Louvain</td>\n",
       "      <td>441</td>\n",
       "      <td>12292</td>\n",
       "      <td>1894</td>\n",
       "      <td>2015</td>\n",
       "      <td>philosophie</td>\n",
       "      <td>Peeters</td>\n",
       "    </tr>\n",
       "    <tr>\n",
       "      <td>3</td>\n",
       "      <td>1957-7966</td>\n",
       "      <td>Population</td>\n",
       "      <td>320</td>\n",
       "      <td>12794</td>\n",
       "      <td>1946</td>\n",
       "      <td>2004</td>\n",
       "      <td>démographie</td>\n",
       "      <td>INED (Institut national d’études démographiques)</td>\n",
       "    </tr>\n",
       "    <tr>\n",
       "      <td>4</td>\n",
       "      <td>1777-5418</td>\n",
       "      <td>Revue Européenne des Migrations Internationales</td>\n",
       "      <td>49</td>\n",
       "      <td>814</td>\n",
       "      <td>1985</td>\n",
       "      <td>2001</td>\n",
       "      <td>démographie</td>\n",
       "      <td>MSH Poitiers</td>\n",
       "    </tr>\n",
       "  </tbody>\n",
       "</table>\n",
       "</div>"
      ],
      "text/plain": [
       "        issn                                          nom_clt  nb_numeros  \\\n",
       "0  2262-3353                              Hommes & Migrations         180   \n",
       "1  1950-6694                                 Revue économique         320   \n",
       "2  1783-1768                   Revue Philosophique de Louvain         441   \n",
       "3  1957-7966                                       Population         320   \n",
       "4  1777-5418  Revue Européenne des Migrations Internationales          49   \n",
       "\n",
       "   nb_document  pre_année_pub  der_année_pub                       discpline  \\\n",
       "0         4523           1987           2008  démographie, science politique   \n",
       "1         6776           1950           2002                        économie   \n",
       "2        12292           1894           2015                     philosophie   \n",
       "3        12794           1946           2004                     démographie   \n",
       "4          814           1985           2001                     démographie   \n",
       "\n",
       "                                            editeur  \n",
       "0              Musée de l'Histoire de l'Immigration  \n",
       "1                                        SciencesPo  \n",
       "2                                           Peeters  \n",
       "3  INED (Institut national d’études démographiques)  \n",
       "4                                      MSH Poitiers  "
      ]
     },
     "execution_count": 25,
     "metadata": {},
     "output_type": "execute_result"
    }
   ],
   "source": [
    "df_collection=pd.read_csv(\"t_collection.csv\")\n",
    "df_collection.head()"
   ]
  },
  {
   "cell_type": "code",
   "execution_count": 82,
   "metadata": {},
   "outputs": [
    {
     "name": "stdout",
     "output_type": "stream",
     "text": [
      "INSERT INTO COLLECTION VALUES ('2262-3353','Hommes & Migrations',180,4523,1987,2008,'Muse de l Histoire de l Immigration','dmographie, science politique')\n"
     ]
    },
    {
     "ename": "OperationalError",
     "evalue": "ORA-03113: end-of-file on communication channel\nID de processus : 57887\nID de session : 275,  Numero de serie : 40213",
     "output_type": "error",
     "traceback": [
      "\u001b[0;31m---------------------------------------------------------------------------\u001b[0m",
      "\u001b[0;31mOperationalError\u001b[0m                          Traceback (most recent call last)",
      "\u001b[0;32m<ipython-input-82-6d219ab2fe10>\u001b[0m in \u001b[0;36m<module>\u001b[0;34m\u001b[0m\n\u001b[1;32m     15\u001b[0m     \u001b[0mquery\u001b[0m\u001b[0;34m=\u001b[0m\u001b[0;34m\"INSERT INTO COLLECTION VALUES (\"\u001b[0m\u001b[0;34m+\u001b[0m\u001b[0mvalue\u001b[0m\u001b[0;34m+\u001b[0m\u001b[0;34m\")\"\u001b[0m\u001b[0;34m\u001b[0m\u001b[0;34m\u001b[0m\u001b[0m\n\u001b[1;32m     16\u001b[0m     \u001b[0mprint\u001b[0m\u001b[0;34m(\u001b[0m\u001b[0mquery\u001b[0m\u001b[0;34m)\u001b[0m\u001b[0;34m\u001b[0m\u001b[0;34m\u001b[0m\u001b[0m\n\u001b[0;32m---> 17\u001b[0;31m     \u001b[0mcursor\u001b[0m\u001b[0;34m.\u001b[0m\u001b[0mexecute\u001b[0m\u001b[0;34m(\u001b[0m\u001b[0mquery\u001b[0m\u001b[0;34m)\u001b[0m\u001b[0;34m\u001b[0m\u001b[0;34m\u001b[0m\u001b[0m\n\u001b[0m\u001b[1;32m     18\u001b[0m     \u001b[0mconn\u001b[0m\u001b[0;34m.\u001b[0m\u001b[0mcommit\u001b[0m\u001b[0;34m(\u001b[0m\u001b[0;34m)\u001b[0m\u001b[0;34m\u001b[0m\u001b[0;34m\u001b[0m\u001b[0m\n\u001b[1;32m     19\u001b[0m \u001b[0mcursor\u001b[0m\u001b[0;34m.\u001b[0m\u001b[0mclose\u001b[0m\u001b[0;34m(\u001b[0m\u001b[0;34m)\u001b[0m\u001b[0;34m\u001b[0m\u001b[0;34m\u001b[0m\u001b[0m\n",
      "\u001b[0;31mOperationalError\u001b[0m: ORA-03113: end-of-file on communication channel\nID de processus : 57887\nID de session : 275,  Numero de serie : 40213"
     ]
    }
   ],
   "source": [
    "cursor = conn.cursor()\n",
    "cols=list(df_collection[:5].columns)\n",
    "for ind,row in df_collection.iterrows():\n",
    "    issn=row[cols[0]]\n",
    "    nom_clt=row[cols[1]]\n",
    "    nb_n=str(row[cols[2]])\n",
    "    nb_d=str(row[cols[3]])\n",
    "    deb=str(row[cols[4]])\n",
    "    fin=str(row[cols[5]])\n",
    "    edit=row[cols[7]].replace(\"'\",\" \")\n",
    "    disc=row[cols[6]].replace(\"'\",\" \")\n",
    "    \n",
    "    value=\"'\"+issn+\"','\"+nom_clt+\"',\"+nb_n+\",\"+nb_d+\",\"+deb+\",\"+fin+\",'\"+edit+\"','\"+disc+\"'\"\n",
    "    value=value.encode('ascii', 'ignore').decode('ascii')\n",
    "    query=\"INSERT INTO COLLECTION VALUES (\"+value+\")\"\n",
    "    print(query)\n",
    "    cursor.execute(query)\n",
    "    conn.commit()\n",
    "cursor.close()"
   ]
  },
  {
   "cell_type": "code",
   "execution_count": null,
   "metadata": {},
   "outputs": [],
   "source": []
  },
  {
   "cell_type": "code",
   "execution_count": null,
   "metadata": {},
   "outputs": [],
   "source": [
    "cols=list(df_collection.columns)\n",
    "cols"
   ]
  }
 ],
 "metadata": {
  "kernelspec": {
   "display_name": "Python 3",
   "language": "python",
   "name": "python3"
  },
  "language_info": {
   "codemirror_mode": {
    "name": "ipython",
    "version": 3
   },
   "file_extension": ".py",
   "mimetype": "text/x-python",
   "name": "python",
   "nbconvert_exporter": "python",
   "pygments_lexer": "ipython3",
   "version": "3.7.4"
  }
 },
 "nbformat": 4,
 "nbformat_minor": 4
}
