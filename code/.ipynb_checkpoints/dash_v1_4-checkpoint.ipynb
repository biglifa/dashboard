{
  "nbformat": 4,
  "nbformat_minor": 0,
  "metadata": {
    "kernelspec": {
      "display_name": "Python 3",
      "language": "python",
      "name": "python3"
    },
    "language_info": {
      "codemirror_mode": {
        "name": "ipython",
        "version": 3
      },
      "file_extension": ".py",
      "mimetype": "text/x-python",
      "name": "python",
      "nbconvert_exporter": "python",
      "pygments_lexer": "ipython3",
      "version": "3.7.4"
    },
    "colab": {
      "name": "dash_v1.1.ipynb",
      "provenance": []
    }
  },
  "cells": [
    {
      "cell_type": "code",
      "metadata": {
        "id": "yNj5zESFES1y",
        "colab_type": "code",
        "outputId": "27809b8f-4f97-4a6d-99a5-490020be4401",
        "colab": {
          "base_uri": "https://localhost:8080/",
          "height": 1000
        }
      },
      "source": [
        "!pip install selenium\n",
        "!apt-get update # to update ubuntu to correctly run apt install\n",
        "!apt install chromium-chromedriver\n",
        "!cp /usr/lib/chromium-browser/chromedriver /usr/bin"
      ],
      "execution_count": 1,
      "outputs": [
        {
          "output_type": "stream",
          "text": [
            "Collecting selenium\n",
            "\u001b[?25l  Downloading https://files.pythonhosted.org/packages/80/d6/4294f0b4bce4de0abf13e17190289f9d0613b0a44e5dd6a7f5ca98459853/selenium-3.141.0-py2.py3-none-any.whl (904kB)\n",
            "\u001b[K     |████████████████████████████████| 911kB 2.8MB/s \n",
            "\u001b[?25hRequirement already satisfied: urllib3 in /usr/local/lib/python3.6/dist-packages (from selenium) (1.24.3)\n",
            "Installing collected packages: selenium\n",
            "Successfully installed selenium-3.141.0\n",
            "Get:1 http://security.ubuntu.com/ubuntu bionic-security InRelease [88.7 kB]\n",
            "Ign:2 https://developer.download.nvidia.com/compute/cuda/repos/ubuntu1804/x86_64  InRelease\n",
            "Hit:3 http://archive.ubuntu.com/ubuntu bionic InRelease\n",
            "Hit:4 http://ppa.launchpad.net/graphics-drivers/ppa/ubuntu bionic InRelease\n",
            "Ign:5 https://developer.download.nvidia.com/compute/machine-learning/repos/ubuntu1804/x86_64  InRelease\n",
            "Hit:6 https://developer.download.nvidia.com/compute/cuda/repos/ubuntu1804/x86_64  Release\n",
            "Hit:7 https://developer.download.nvidia.com/compute/machine-learning/repos/ubuntu1804/x86_64  Release\n",
            "Get:8 https://cloud.r-project.org/bin/linux/ubuntu bionic-cran35/ InRelease [3,626 B]\n",
            "Get:9 http://archive.ubuntu.com/ubuntu bionic-updates InRelease [88.7 kB]\n",
            "Hit:10 http://ppa.launchpad.net/marutter/c2d4u3.5/ubuntu bionic InRelease\n",
            "Get:11 http://security.ubuntu.com/ubuntu bionic-security/main amd64 Packages [836 kB]\n",
            "Get:12 http://archive.ubuntu.com/ubuntu bionic-backports InRelease [74.6 kB]\n",
            "Get:15 http://archive.ubuntu.com/ubuntu bionic-updates/main amd64 Packages [1,128 kB]\n",
            "Get:16 http://archive.ubuntu.com/ubuntu bionic-updates/universe amd64 Packages [1,351 kB]\n",
            "Fetched 3,572 kB in 2s (1,484 kB/s)\n",
            "Reading package lists... Done\n",
            "Reading package lists... Done\n",
            "Building dependency tree       \n",
            "Reading state information... Done\n",
            "The following additional packages will be installed:\n",
            "  chromium-browser chromium-browser-l10n chromium-codecs-ffmpeg-extra\n",
            "Suggested packages:\n",
            "  webaccounts-chromium-extension unity-chromium-extension adobe-flashplugin\n",
            "The following NEW packages will be installed:\n",
            "  chromium-browser chromium-browser-l10n chromium-chromedriver\n",
            "  chromium-codecs-ffmpeg-extra\n",
            "0 upgraded, 4 newly installed, 0 to remove and 25 not upgraded.\n",
            "Need to get 74.4 MB of archives.\n",
            "After this operation, 264 MB of additional disk space will be used.\n",
            "Get:1 http://archive.ubuntu.com/ubuntu bionic-updates/universe amd64 chromium-codecs-ffmpeg-extra amd64 80.0.3987.87-0ubuntu0.18.04.1 [1,095 kB]\n",
            "Get:2 http://archive.ubuntu.com/ubuntu bionic-updates/universe amd64 chromium-browser amd64 80.0.3987.87-0ubuntu0.18.04.1 [66.1 MB]\n",
            "Get:3 http://archive.ubuntu.com/ubuntu bionic-updates/universe amd64 chromium-browser-l10n all 80.0.3987.87-0ubuntu0.18.04.1 [3,155 kB]\n",
            "Get:4 http://archive.ubuntu.com/ubuntu bionic-updates/universe amd64 chromium-chromedriver amd64 80.0.3987.87-0ubuntu0.18.04.1 [4,044 kB]\n",
            "Fetched 74.4 MB in 3s (23.8 MB/s)\n",
            "Selecting previously unselected package chromium-codecs-ffmpeg-extra.\n",
            "(Reading database ... 134448 files and directories currently installed.)\n",
            "Preparing to unpack .../chromium-codecs-ffmpeg-extra_80.0.3987.87-0ubuntu0.18.04.1_amd64.deb ...\n",
            "Unpacking chromium-codecs-ffmpeg-extra (80.0.3987.87-0ubuntu0.18.04.1) ...\n",
            "Selecting previously unselected package chromium-browser.\n",
            "Preparing to unpack .../chromium-browser_80.0.3987.87-0ubuntu0.18.04.1_amd64.deb ...\n",
            "Unpacking chromium-browser (80.0.3987.87-0ubuntu0.18.04.1) ...\n",
            "Selecting previously unselected package chromium-browser-l10n.\n",
            "Preparing to unpack .../chromium-browser-l10n_80.0.3987.87-0ubuntu0.18.04.1_all.deb ...\n",
            "Unpacking chromium-browser-l10n (80.0.3987.87-0ubuntu0.18.04.1) ...\n",
            "Selecting previously unselected package chromium-chromedriver.\n",
            "Preparing to unpack .../chromium-chromedriver_80.0.3987.87-0ubuntu0.18.04.1_amd64.deb ...\n",
            "Unpacking chromium-chromedriver (80.0.3987.87-0ubuntu0.18.04.1) ...\n",
            "Setting up chromium-codecs-ffmpeg-extra (80.0.3987.87-0ubuntu0.18.04.1) ...\n",
            "Setting up chromium-browser (80.0.3987.87-0ubuntu0.18.04.1) ...\n",
            "update-alternatives: using /usr/bin/chromium-browser to provide /usr/bin/x-www-browser (x-www-browser) in auto mode\n",
            "update-alternatives: using /usr/bin/chromium-browser to provide /usr/bin/gnome-www-browser (gnome-www-browser) in auto mode\n",
            "Setting up chromium-chromedriver (80.0.3987.87-0ubuntu0.18.04.1) ...\n",
            "Setting up chromium-browser-l10n (80.0.3987.87-0ubuntu0.18.04.1) ...\n",
            "Processing triggers for hicolor-icon-theme (0.17-2) ...\n",
            "Processing triggers for mime-support (3.60ubuntu1) ...\n",
            "Processing triggers for man-db (2.8.3-2ubuntu0.1) ...\n",
            "cp: '/usr/lib/chromium-browser/chromedriver' and '/usr/bin/chromedriver' are the same file\n"
          ],
          "name": "stdout"
        }
      ]
    },
    {
      "cell_type": "code",
      "metadata": {
        "id": "vHRuv1qvnbp7",
        "colab_type": "code",
        "colab": {}
      },
      "source": [
        "import pandas as pd\n",
        "import re\n",
        "import sys\n",
        "sys.path.append('/usr/lib/chromium-browser/chromedriver')\n",
        "from selenium import webdriver\n",
        "from selenium.webdriver import Chrome\n",
        "from selenium.webdriver.chrome.options import Options\n",
        "from selenium.webdriver.common.by import By \n",
        "from selenium.webdriver.support.ui import WebDriverWait \n",
        "from selenium.webdriver.support import expected_conditions as EC\n",
        "from selenium.webdriver.chrome.options import Options\n",
        "from selenium.common.exceptions import NoSuchElementException\n",
        "\n",
        "\n",
        "import time\n",
        "import numpy as np\n",
        "import random\n",
        "import re"
      ],
      "execution_count": 0,
      "outputs": []
    },
    {
      "cell_type": "code",
      "metadata": {
        "id": "-bXprev1nbqR",
        "colab_type": "code",
        "outputId": "0e6bb9b3-32b4-47d2-8286-3f97c9b93979",
        "colab": {
          "base_uri": "https://localhost:8080/",
          "height": 51
        }
      },
      "source": [
        "# Activation of Chrome Options\n",
        "\n",
        "chrome_options = Options()\n",
        "chrome_options.add_argument('--headless')\n",
        "chrome_options.add_argument('--no-sandbox')\n",
        "chrome_options.add_argument('--disable-dev-shm-usage')\n",
        "chrome_options.add_argument('--disable-impl-side-painting')\n",
        "\n",
        "\n",
        "#mettre le bon chemin \n",
        "driver = webdriver.Chrome(\"chromedriver\",chrome_options=chrome_options) \n",
        "\n",
        "#recupérer la page web\n",
        "driver.get(\"https://www.persee.fr/search?ta=article&q=fuite+des+cerveaux+europe\")"
      ],
      "execution_count": 3,
      "outputs": [
        {
          "output_type": "stream",
          "text": [
            "/usr/local/lib/python3.6/dist-packages/ipykernel_launcher.py:10: DeprecationWarning: use options instead of chrome_options\n",
            "  # Remove the CWD from sys.path while we load stuff.\n"
          ],
          "name": "stderr"
        }
      ]
    },
    {
      "cell_type": "code",
      "metadata": {
        "id": "wMDVnrNknbqm",
        "colab_type": "code",
        "colab": {}
      },
      "source": [
        "# fonction pause\n",
        "def pause():\n",
        "    time_break = random.randint(1, 2)\n",
        "    return time.sleep(time_break)"
      ],
      "execution_count": 0,
      "outputs": []
    },
    {
      "cell_type": "code",
      "metadata": {
        "id": "lPrOOp6Pnbrb",
        "colab_type": "code",
        "outputId": "45d32a53-a6bd-4ef5-9eae-77049f1c7afb",
        "colab": {
          "base_uri": "https://localhost:8080/",
          "height": 71
        }
      },
      "source": [
        "#Les sites des personnes\n",
        "site_personne= webdriver.Chrome(\"chromedriver\",chrome_options=chrome_options) \n",
        "\n",
        "def f_personne(doc):\n",
        "    \"\"\"\n",
        "        Une fonction pour un document donné et son numero en paramère renvoie les infos des auteurs\n",
        "    \n",
        "    \"\"\"\n",
        "    personnes=[]\n",
        "    try:\n",
        "        contributeur=doc.find_elements_by_class_name(\"contributor\")        \n",
        "        for con in contributeur:\n",
        "            #Au cas ou le lien n'existe pas\n",
        "            try:\n",
        "                #Recuperer le lien et se connecter au site de l'auteur\n",
        "                lien=con.find_element_by_class_name(\"authority\").get_attribute(\"href\")\n",
        "                site_personne.get(lien)\n",
        "\n",
        "                #Recuper les infos de l'auteur\n",
        "                infos=site_personne.find_element_by_class_name(\"authority-idcard\")\n",
        "                info=infos.find_element_by_xpath(\"//h2[@itemprop]\").text\n",
        "\n",
        "                #Son nom\n",
        "                nom=re.search(r\"([A-Z]*\\w*[, .-]*)*\",info).group(0).replace(\",\",\"\")\n",
        "\n",
        "                #Date naissance s'il existe\n",
        "                try:\n",
        "                    birth=re.search(r\"\\([0-9]{4}\",info).group(0)\n",
        "                    birth=int(str(birth)[1:])\n",
        "                except:\n",
        "                    birth=''\n",
        "\n",
        "                #Date de decès s'il existe\n",
        "                try:\n",
        "                    death=re.search(r\"\\-[0-9]{4}\",info).group(0)\n",
        "                    death=int(str(death)[1:])\n",
        "                except:\n",
        "                    death=''\n",
        "            except:\n",
        "                nom=con.find_element_by_class_name(\"authority\").text.replace(\",\",\"\")\n",
        "                birth=''\n",
        "                death=''\n",
        "                pass\n",
        "                 \n",
        "            #Son role \n",
        "            try:\n",
        "                role=con.find_element_by_class_name(\"role\").text\n",
        "                role=str(role)[1:-1]\n",
        "            except NoSuchElementException:\n",
        "                role='Auteur'\n",
        "                pass\n",
        "            \n",
        "            #Son biographie s'il existe (au cas où on voudrait le recupérer)\n",
        "            #try:\n",
        "            #    bio=site.find_element_by_class_name(\"authority-bio\").text\n",
        "            #except:\n",
        "            #    bio=''\n",
        "            #personne.append(bio)\n",
        "            \n",
        "            personnes.append([nom,birth,death,role])\n",
        "    except NoSuchElementException:\n",
        "        personnes=[['','','','']]\n",
        "        \n",
        "    return personnes"
      ],
      "execution_count": 8,
      "outputs": [
        {
          "output_type": "stream",
          "text": [
            "/usr/local/lib/python3.6/dist-packages/ipykernel_launcher.py:1: DeprecationWarning: use options instead of chrome_options\n",
            "  \"\"\"Entry point for launching an IPython kernel.\n"
          ],
          "name": "stderr"
        }
      ]
    },
    {
      "cell_type": "code",
      "metadata": {
        "id": "-J8hM7YXnbr7",
        "colab_type": "code",
        "colab": {}
      },
      "source": [
        "def f_document(doc):\n",
        "    \"\"\"\n",
        "        Pour un document donné et le numero, la fonction renvoie son titre, date publication ...\n",
        "    \"\"\"\n",
        "    \n",
        "    #Title\n",
        "    try:\n",
        "        title=doc.find_elements_by_class_name(\"title\")[0].text\n",
        "    except NoSuchElementException:\n",
        "        title=''\n",
        "        pass\n",
        "    \n",
        "    #Type\n",
        "    try:\n",
        "        typee=re.search(r\"\\[\\w+([ ',-]\\w+)*\\]\",doc.find_elements_by_css_selector(\"div\")[0].text).group(0)\n",
        "        typee=str(typee)[1:-1]\n",
        "    except:\n",
        "        typee=''\n",
        "        pass\n",
        "    \n",
        "    #Date de publication\n",
        "    try:\n",
        "        datePub=int(doc.find_element_by_class_name(\"documentYear\").text[5:])\n",
        "    except NoSuchElementException:\n",
        "        datePub=''\n",
        "        pass\n",
        "    \n",
        "    \n",
        "    #Numero publication\n",
        "    try:\n",
        "        numPub=doc.find_element_by_class_name(\"documentIssue\").text\n",
        "    except NoSuchElementException:\n",
        "        numPub=''\n",
        "        pass\n",
        "\n",
        "    #Texte\n",
        "    try:\n",
        "        texte=doc.find_element_by_class_name(\"searchContext\").text\n",
        "    except NoSuchElementException:\n",
        "        texte=''\n",
        "        pass\n",
        "    \n",
        "    return [title,typee,datePub,numPub,texte]"
      ],
      "execution_count": 0,
      "outputs": []
    },
    {
      "cell_type": "code",
      "metadata": {
        "id": "iS3y1pl1nbsP",
        "colab_type": "code",
        "outputId": "7b1383b8-7964-44ea-9fb5-11cd796093ed",
        "colab": {
          "base_uri": "https://localhost:8080/",
          "height": 105
        }
      },
      "source": [
        "#Sites des collections et des collections erudits\n",
        "site_collection= webdriver.Chrome(\"chromedriver\",chrome_options=chrome_options) \n",
        "site_erudit= webdriver.Chrome(\"chromedriver\",chrome_options=chrome_options) \n",
        "\n",
        "def f_collection(doc):\n",
        "    \"\"\"\n",
        "        Pour un document donné en paramètre, il renvoie son eissn, nom ...\n",
        "            \n",
        "    \"\"\"\n",
        "    try:\n",
        "        #Recuperer le lien et se connecter au site\n",
        "        clt=doc.find_element_by_class_name(\"collection\")\n",
        "        lien=clt.find_element_by_css_selector(\"a\").get_attribute(\"href\")\n",
        "        site_collection.get(lien)\n",
        "        try:\n",
        "            info_box=site_collection.find_element_by_class_name(\"info-box\")\n",
        "            divs=info_box.find_elements_by_css_selector(\"div\")\n",
        "            \n",
        "            annee_deb=int(re.search(r\"[0-9]+\",divs[0].text).group(0))\n",
        "            annee_fin=int(re.search(r\" [0-9]+\",divs[0].text).group(0))\n",
        "            nb_num=int(re.search(r\"[0-9]+\",divs[1].text).group(0))\n",
        "            nb_doc=int(re.search(r\"[0-9]+\",divs[2].text).group(0))\n",
        "            try:\n",
        "                issn=re.search(r\"[0-9]+\\-[0-9]+\",divs[3].text).group(0)\n",
        "            except:\n",
        "                issn=str(annee_deb)+'-'+str(annee_fin)\n",
        "\n",
        "            nom_clt=site_collection.find_element_by_id(\"collection-header\").find_element_by_css_selector(\"h2\").text\n",
        "            collection=[issn,nom_clt,nb_num,nb_doc,annee_deb,annee_fin]\n",
        "        except:\n",
        "            #Les sites érudits\n",
        "            nom_clt=site_collection.find_element_by_class_name(\"journal-title\").text\n",
        "        \n",
        "            #Recuperer le lien de redirection et s'y connecter\n",
        "            link=site_collection.find_element_by_css_selector(\"link\").get_attribute(\"href\")\n",
        "            site_erudit.get(link+\"#back-issues\")\n",
        "        \n",
        "        \n",
        "            back=site_erudit.find_element_by_id(\"back-issues\")\n",
        "            nb_num=re.search(r\"[0-9]+\",back.find_element_by_css_selector('h2').text).group(0)\n",
        "            annees=back.find_elements_by_class_name(\"year-list__title\")\n",
        "            annee_fin=annees[0].text\n",
        "            annee_deb=annees[-1].text\n",
        "            nb_doc=len(back.find_elements_by_css_selector(\"li\"))\n",
        "        \n",
        "            fiche=site_erudit.find_elements_by_class_name(\"sidebar-block\")[2].text\n",
        "            issn=re.search(r\"[0-9]+\\-[0-9]+ \\(numérique\",fiche).group(0)[:-11]\n",
        "        \n",
        "            collection=[issn,nom_clt,nb_num,nb_doc,annee_deb,annee_fin]\n",
        "            \n",
        "    except NoSuchElementException:\n",
        "        collection=['','','','','','']\n",
        "        pass\n",
        "    return collection"
      ],
      "execution_count": 10,
      "outputs": [
        {
          "output_type": "stream",
          "text": [
            "/usr/local/lib/python3.6/dist-packages/ipykernel_launcher.py:1: DeprecationWarning: use options instead of chrome_options\n",
            "  \"\"\"Entry point for launching an IPython kernel.\n",
            "/usr/local/lib/python3.6/dist-packages/ipykernel_launcher.py:2: DeprecationWarning: use options instead of chrome_options\n",
            "  \n"
          ],
          "name": "stderr"
        }
      ]
    },
    {
      "cell_type": "code",
      "metadata": {
        "id": "nGbVrkKunbsa",
        "colab_type": "code",
        "colab": {}
      },
      "source": [
        "#Creer les dataframes\n",
        "df_document = pd.DataFrame(columns=['num_doc','title','type','annee_publication','num_publication','texte','issn'])\n",
        "df_personne= pd.DataFrame(columns=['nom','annee_naissance','annee_decès'])\n",
        "df_redige=pd.DataFrame(columns=['nom','num_doc','role'])\n",
        "df_collection=pd.DataFrame(columns=['issn','nom_clt','nb_numeros','nb_document','pre_année_pub','der_année_pub'])"
      ],
      "execution_count": 0,
      "outputs": []
    },
    {
      "cell_type": "code",
      "metadata": {
        "id": "Crb2VMOiXyR0",
        "colab_type": "code",
        "colab": {}
      },
      "source": [
        "#Initialiser\n",
        "N=0\n",
        "M=0\n",
        "j=0 "
      ],
      "execution_count": 0,
      "outputs": []
    },
    {
      "cell_type": "code",
      "metadata": {
        "scrolled": true,
        "id": "JYKfZQxVnbsy",
        "colab_type": "code",
        "outputId": "ddcf8b9a-bbd2-489c-d26e-4b2f635649d5",
        "colab": {
          "base_uri": "https://localhost:8080/",
          "height": 34
        }
      },
      "source": [
        "#Je vais recuperer seulement les 50000 premiers documents\n",
        "\n",
        "while N<20000:\n",
        "    \n",
        "    # scroller jusqu'en bas de page\n",
        "    driver.execute_script (\"window.scrollTo (0, document.body.scrollHeight);\")\n",
        "    docs=driver.find_elements_by_class_name(\"doc-result\")\n",
        "    N=len(docs)\n",
        "\n",
        "    if N>M:\n",
        "        for i in range(M,N): \n",
        "            doc=docs[i]\n",
        "        \n",
        "            #Inserer dans le Dataframe collection\n",
        "            collection=f_collection(doc)\n",
        "            if collection[0] not in list(df_collection['issn']):\n",
        "                df_collection.loc[i,:]=collection\n",
        "            \n",
        "            #Inserer dans le Dataframe Document\n",
        "            document=f_document(doc)\n",
        "            document.insert(0,i+1)\n",
        "            document.append(collection[0])\n",
        "            df_document.loc[i,:]=document\n",
        "            \n",
        "            #Inserer dans le Dataframe Personne\n",
        "            personnes=f_personne(doc)\n",
        "            for personne in personnes:\n",
        "                if personne[0] not in list(df_personne['nom']):\n",
        "                    df_personne.loc[j,:]=personne[:-1]\n",
        "            #Inserer dans le Dataframe Redige\n",
        "                df_redige.loc[j,:]=[personne[0],i+1,personne[-1]]\n",
        "                j+=1\n",
        "                  \n",
        "\n",
        "        \n",
        "        M=N\n",
        "    #Se positionner au dernier élement recuperé\n",
        "    driver.execute_script(\"arguments[0].scrollIntoView({behavior: 'smooth', block: 'center', inline: 'nearest'});\", docs[M-1])\n",
        "    if N%1000==0:\n",
        "        print(N)\n",
        "    pause()"
      ],
      "execution_count": 0,
      "outputs": [
        {
          "output_type": "stream",
          "text": [
            "1000\n"
          ],
          "name": "stdout"
        }
      ]
    },
    {
      "cell_type": "code",
      "metadata": {
        "id": "D5VjzBC6Qk_E",
        "colab_type": "code",
        "colab": {}
      },
      "source": [
        "df_personne.head()"
      ],
      "execution_count": 0,
      "outputs": []
    },
    {
      "cell_type": "code",
      "metadata": {
        "id": "gmZcxv_jrRVc",
        "colab_type": "code",
        "colab": {}
      },
      "source": [
        "df_document.tail(205)"
      ],
      "execution_count": 0,
      "outputs": []
    },
    {
      "cell_type": "code",
      "metadata": {
        "id": "EwU237b-nbtA",
        "colab_type": "code",
        "colab": {}
      },
      "source": [
        "df_document.head()"
      ],
      "execution_count": 0,
      "outputs": []
    },
    {
      "cell_type": "code",
      "metadata": {
        "id": "UNeUHQK7nbtY",
        "colab_type": "code",
        "colab": {}
      },
      "source": [
        "df_redige.head()"
      ],
      "execution_count": 0,
      "outputs": []
    },
    {
      "cell_type": "code",
      "metadata": {
        "id": "-rdY79SPnbti",
        "colab_type": "code",
        "outputId": "a1365b97-c9a9-4255-9d5c-aa6056d7e417",
        "colab": {
          "base_uri": "https://localhost:8080/",
          "height": 163
        }
      },
      "source": [
        "df_collection.head()"
      ],
      "execution_count": 5,
      "outputs": [
        {
          "output_type": "error",
          "ename": "NameError",
          "evalue": "ignored",
          "traceback": [
            "\u001b[0;31m---------------------------------------------------------------------------\u001b[0m",
            "\u001b[0;31mNameError\u001b[0m                                 Traceback (most recent call last)",
            "\u001b[0;32m<ipython-input-5-c5628a5dfa6b>\u001b[0m in \u001b[0;36m<module>\u001b[0;34m()\u001b[0m\n\u001b[0;32m----> 1\u001b[0;31m \u001b[0mdf_collection\u001b[0m\u001b[0;34m.\u001b[0m\u001b[0mhead\u001b[0m\u001b[0;34m(\u001b[0m\u001b[0;34m)\u001b[0m\u001b[0;34m\u001b[0m\u001b[0;34m\u001b[0m\u001b[0m\n\u001b[0m",
            "\u001b[0;31mNameError\u001b[0m: name 'df_collection' is not defined"
          ]
        }
      ]
    },
    {
      "cell_type": "code",
      "metadata": {
        "id": "eCG-7Gfinbtv",
        "colab_type": "code",
        "colab": {}
      },
      "source": [
        "#Tranformer en csv\n",
        "df_collection.to_csv(sep=',', path_or_buf='collection'+str(N)+'.csv')\n",
        "df_document.to_csv(sep=',', path_or_buf='documents'+str(N)+'.csv')\n",
        "df_personne.to_csv(sep=',', path_or_buf='personne'+str(N)+'.csv')\n",
        "df_redige.to_csv(sep=',', path_or_buf='redige'+str(N)+'.csv')"
      ],
      "execution_count": 0,
      "outputs": []
    },
    {
      "cell_type": "code",
      "metadata": {
        "id": "rfKgoERhWk6c",
        "colab_type": "code",
        "colab": {}
      },
      "source": [
        ""
      ],
      "execution_count": 0,
      "outputs": []
    },
    {
      "cell_type": "code",
      "metadata": {
        "id": "uUEl0F5zWAek",
        "colab_type": "code",
        "colab": {}
      },
      "source": [
        ""
      ],
      "execution_count": 0,
      "outputs": []
    }
  ]
}