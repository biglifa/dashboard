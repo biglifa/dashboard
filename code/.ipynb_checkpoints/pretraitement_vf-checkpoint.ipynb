{
 "cells": [
  {
   "cell_type": "code",
   "execution_count": 1,
   "metadata": {
    "colab": {
     "base_uri": "https://localhost:8080/",
     "height": 51
    },
    "colab_type": "code",
    "executionInfo": {
     "elapsed": 15008,
     "status": "ok",
     "timestamp": 1584354388357,
     "user": {
      "displayName": "Fallou BAH",
      "photoUrl": "https://lh3.googleusercontent.com/a-/AOh14GgQ3C--84gNEGgo5hZ113Vb_Dp0IlAa__Oc27QWOQ=s64",
      "userId": "04677688741139167736"
     },
     "user_tz": -60
    },
    "id": "hQ0WzDZKpiId",
    "outputId": "5596ba62-2e38-498d-ff6e-4ce6d0745759"
   },
   "outputs": [
    {
     "name": "stderr",
     "output_type": "stream",
     "text": [
      "[nltk_data] Downloading package stopwords to\n",
      "[nltk_data]     /home/biglifa/nltk_data...\n",
      "[nltk_data]   Package stopwords is already up-to-date!\n"
     ]
    }
   ],
   "source": [
    "import pycountry as py\n",
    "import pandas as pd\n",
    "import re\n",
    "import numpy as np\n",
    "import nltk \n",
    "from nltk import PorterStemmer, download\n",
    "from nltk.corpus import stopwords\n",
    "from string import punctuation\n",
    "download('stopwords')\n",
    "import collections as c\n",
    "import pandasql as sql"
   ]
  },
  {
   "cell_type": "code",
   "execution_count": 2,
   "metadata": {
    "colab": {},
    "colab_type": "code",
    "id": "Dk0u82VdrCLp"
   },
   "outputs": [],
   "source": [
    "df_collection=pd.read_csv('../data/df_collection.csv')\n",
    "df_article=pd.read_csv('../data/df_article.csv')\n",
    "df_auteur=pd.read_csv('../data/df_auteur.csv')\n",
    "df_redige=pd.read_csv('../data/df_redige.csv')"
   ]
  },
  {
   "cell_type": "markdown",
   "metadata": {
    "colab_type": "text",
    "id": "KdvOGn7VrMQz"
   },
   "source": [
    "# Collection"
   ]
  },
  {
   "cell_type": "code",
   "execution_count": 3,
   "metadata": {
    "colab": {
     "base_uri": "https://localhost:8080/",
     "height": 394
    },
    "colab_type": "code",
    "executionInfo": {
     "elapsed": 523,
     "status": "ok",
     "timestamp": 1584354480897,
     "user": {
      "displayName": "Fallou BAH",
      "photoUrl": "https://lh3.googleusercontent.com/a-/AOh14GgQ3C--84gNEGgo5hZ113Vb_Dp0IlAa__Oc27QWOQ=s64",
      "userId": "04677688741139167736"
     },
     "user_tz": -60
    },
    "id": "yQaT25aMrgEZ",
    "outputId": "c0065a76-d335-4f1c-c80d-f0bfa0b24e19"
   },
   "outputs": [
    {
     "data": {
      "text/html": [
       "<div>\n",
       "<style scoped>\n",
       "    .dataframe tbody tr th:only-of-type {\n",
       "        vertical-align: middle;\n",
       "    }\n",
       "\n",
       "    .dataframe tbody tr th {\n",
       "        vertical-align: top;\n",
       "    }\n",
       "\n",
       "    .dataframe thead th {\n",
       "        text-align: right;\n",
       "    }\n",
       "</style>\n",
       "<table border=\"1\" class=\"dataframe\">\n",
       "  <thead>\n",
       "    <tr style=\"text-align: right;\">\n",
       "      <th></th>\n",
       "      <th>issn</th>\n",
       "      <th>nom_clt</th>\n",
       "      <th>nb_numeros</th>\n",
       "      <th>nb_document</th>\n",
       "      <th>pre_année_pub</th>\n",
       "      <th>der_année_pub</th>\n",
       "      <th>discpline</th>\n",
       "      <th>editeur</th>\n",
       "    </tr>\n",
       "  </thead>\n",
       "  <tbody>\n",
       "    <tr>\n",
       "      <td>0</td>\n",
       "      <td>2262-3353</td>\n",
       "      <td>Hommes &amp; Migrations</td>\n",
       "      <td>180.0</td>\n",
       "      <td>4523.0</td>\n",
       "      <td>1987.0</td>\n",
       "      <td>2008.0</td>\n",
       "      <td>démographie, science politique</td>\n",
       "      <td>Musée de l'Histoire de l'Immigration</td>\n",
       "    </tr>\n",
       "    <tr>\n",
       "      <td>1</td>\n",
       "      <td>1950-6694</td>\n",
       "      <td>Revue économique</td>\n",
       "      <td>320.0</td>\n",
       "      <td>6776.0</td>\n",
       "      <td>1950.0</td>\n",
       "      <td>2002.0</td>\n",
       "      <td>économie</td>\n",
       "      <td>SciencesPo</td>\n",
       "    </tr>\n",
       "    <tr>\n",
       "      <td>2</td>\n",
       "      <td>1783-1768</td>\n",
       "      <td>Revue Philosophique de Louvain</td>\n",
       "      <td>441.0</td>\n",
       "      <td>12292.0</td>\n",
       "      <td>1894.0</td>\n",
       "      <td>2015.0</td>\n",
       "      <td>philosophie</td>\n",
       "      <td>Peeters</td>\n",
       "    </tr>\n",
       "    <tr>\n",
       "      <td>3</td>\n",
       "      <td>1957-7966</td>\n",
       "      <td>Population</td>\n",
       "      <td>320.0</td>\n",
       "      <td>12794.0</td>\n",
       "      <td>1946.0</td>\n",
       "      <td>2004.0</td>\n",
       "      <td>démographie</td>\n",
       "      <td>INED (Institut national d’études démographiques)</td>\n",
       "    </tr>\n",
       "    <tr>\n",
       "      <td>4</td>\n",
       "      <td>1777-5418</td>\n",
       "      <td>Revue Européenne des Migrations Internationales</td>\n",
       "      <td>49.0</td>\n",
       "      <td>814.0</td>\n",
       "      <td>1985.0</td>\n",
       "      <td>2001.0</td>\n",
       "      <td>démographie</td>\n",
       "      <td>MSH Poitiers</td>\n",
       "    </tr>\n",
       "  </tbody>\n",
       "</table>\n",
       "</div>"
      ],
      "text/plain": [
       "        issn                                          nom_clt  nb_numeros  \\\n",
       "0  2262-3353                              Hommes & Migrations       180.0   \n",
       "1  1950-6694                                 Revue économique       320.0   \n",
       "2  1783-1768                   Revue Philosophique de Louvain       441.0   \n",
       "3  1957-7966                                       Population       320.0   \n",
       "4  1777-5418  Revue Européenne des Migrations Internationales        49.0   \n",
       "\n",
       "   nb_document  pre_année_pub  der_année_pub                       discpline  \\\n",
       "0       4523.0         1987.0         2008.0  démographie, science politique   \n",
       "1       6776.0         1950.0         2002.0                        économie   \n",
       "2      12292.0         1894.0         2015.0                     philosophie   \n",
       "3      12794.0         1946.0         2004.0                     démographie   \n",
       "4        814.0         1985.0         2001.0                     démographie   \n",
       "\n",
       "                                            editeur  \n",
       "0              Musée de l'Histoire de l'Immigration  \n",
       "1                                        SciencesPo  \n",
       "2                                           Peeters  \n",
       "3  INED (Institut national d’études démographiques)  \n",
       "4                                      MSH Poitiers  "
      ]
     },
     "execution_count": 3,
     "metadata": {},
     "output_type": "execute_result"
    }
   ],
   "source": [
    "df_collection.head()"
   ]
  },
  {
   "cell_type": "code",
   "execution_count": 4,
   "metadata": {
    "colab": {
     "base_uri": "https://localhost:8080/",
     "height": 142
    },
    "colab_type": "code",
    "executionInfo": {
     "elapsed": 513,
     "status": "ok",
     "timestamp": 1584354509519,
     "user": {
      "displayName": "Fallou BAH",
      "photoUrl": "https://lh3.googleusercontent.com/a-/AOh14GgQ3C--84gNEGgo5hZ113Vb_Dp0IlAa__Oc27QWOQ=s64",
      "userId": "04677688741139167736"
     },
     "user_tz": -60
    },
    "id": "3yZL2CW-mDd3",
    "outputId": "c0280666-3624-4989-b6d4-942b5aaad614"
   },
   "outputs": [
    {
     "data": {
      "text/html": [
       "<div>\n",
       "<style scoped>\n",
       "    .dataframe tbody tr th:only-of-type {\n",
       "        vertical-align: middle;\n",
       "    }\n",
       "\n",
       "    .dataframe tbody tr th {\n",
       "        vertical-align: top;\n",
       "    }\n",
       "\n",
       "    .dataframe thead th {\n",
       "        text-align: right;\n",
       "    }\n",
       "</style>\n",
       "<table border=\"1\" class=\"dataframe\">\n",
       "  <thead>\n",
       "    <tr style=\"text-align: right;\">\n",
       "      <th></th>\n",
       "      <th>issn</th>\n",
       "      <th>nom_clt</th>\n",
       "      <th>nb_numeros</th>\n",
       "      <th>nb_document</th>\n",
       "      <th>pre_année_pub</th>\n",
       "      <th>der_année_pub</th>\n",
       "      <th>discpline</th>\n",
       "      <th>editeur</th>\n",
       "    </tr>\n",
       "  </thead>\n",
       "  <tbody>\n",
       "    <tr>\n",
       "      <td>26</td>\n",
       "      <td>NaN</td>\n",
       "      <td>NaN</td>\n",
       "      <td>NaN</td>\n",
       "      <td>NaN</td>\n",
       "      <td>NaN</td>\n",
       "      <td>NaN</td>\n",
       "      <td>NaN</td>\n",
       "      <td>NaN</td>\n",
       "    </tr>\n",
       "    <tr>\n",
       "      <td>207</td>\n",
       "      <td>NaN</td>\n",
       "      <td>NaN</td>\n",
       "      <td>NaN</td>\n",
       "      <td>NaN</td>\n",
       "      <td>NaN</td>\n",
       "      <td>NaN</td>\n",
       "      <td>NaN</td>\n",
       "      <td>NaN</td>\n",
       "    </tr>\n",
       "    <tr>\n",
       "      <td>243</td>\n",
       "      <td>NaN</td>\n",
       "      <td>NaN</td>\n",
       "      <td>NaN</td>\n",
       "      <td>NaN</td>\n",
       "      <td>NaN</td>\n",
       "      <td>NaN</td>\n",
       "      <td>NaN</td>\n",
       "      <td>NaN</td>\n",
       "    </tr>\n",
       "  </tbody>\n",
       "</table>\n",
       "</div>"
      ],
      "text/plain": [
       "    issn nom_clt  nb_numeros  nb_document  pre_année_pub  der_année_pub  \\\n",
       "26   NaN     NaN         NaN          NaN            NaN            NaN   \n",
       "207  NaN     NaN         NaN          NaN            NaN            NaN   \n",
       "243  NaN     NaN         NaN          NaN            NaN            NaN   \n",
       "\n",
       "    discpline editeur  \n",
       "26        NaN     NaN  \n",
       "207       NaN     NaN  \n",
       "243       NaN     NaN  "
      ]
     },
     "execution_count": 4,
     "metadata": {},
     "output_type": "execute_result"
    }
   ],
   "source": [
    "df_collection[df_collection['issn'].isnull()]"
   ]
  },
  {
   "cell_type": "code",
   "execution_count": 5,
   "metadata": {
    "colab": {},
    "colab_type": "code",
    "id": "gcnRk1QMs7sD"
   },
   "outputs": [],
   "source": [
    "#Supprimer des collections non referencées\n",
    "df_collection.drop([26,207,243], inplace=True)"
   ]
  },
  {
   "cell_type": "code",
   "execution_count": 6,
   "metadata": {
    "colab": {},
    "colab_type": "code",
    "id": "albpCunmueiI"
   },
   "outputs": [],
   "source": [
    "df_collection=df_collection.fillna('')"
   ]
  },
  {
   "cell_type": "code",
   "execution_count": 7,
   "metadata": {
    "colab": {
     "base_uri": "https://localhost:8080/",
     "height": 204
    },
    "colab_type": "code",
    "executionInfo": {
     "elapsed": 884,
     "status": "ok",
     "timestamp": 1584354612764,
     "user": {
      "displayName": "Fallou BAH",
      "photoUrl": "https://lh3.googleusercontent.com/a-/AOh14GgQ3C--84gNEGgo5hZ113Vb_Dp0IlAa__Oc27QWOQ=s64",
      "userId": "04677688741139167736"
     },
     "user_tz": -60
    },
    "id": "w0S-BceurpD1",
    "outputId": "1c558260-8d18-4a3a-903c-d29d3309840f"
   },
   "outputs": [
    {
     "data": {
      "text/html": [
       "<div>\n",
       "<style scoped>\n",
       "    .dataframe tbody tr th:only-of-type {\n",
       "        vertical-align: middle;\n",
       "    }\n",
       "\n",
       "    .dataframe tbody tr th {\n",
       "        vertical-align: top;\n",
       "    }\n",
       "\n",
       "    .dataframe thead th {\n",
       "        text-align: right;\n",
       "    }\n",
       "</style>\n",
       "<table border=\"1\" class=\"dataframe\">\n",
       "  <thead>\n",
       "    <tr style=\"text-align: right;\">\n",
       "      <th></th>\n",
       "      <th>issn</th>\n",
       "      <th>nom_clt</th>\n",
       "      <th>nb_numeros</th>\n",
       "      <th>nb_document</th>\n",
       "      <th>pre_année_pub</th>\n",
       "      <th>der_année_pub</th>\n",
       "      <th>discpline</th>\n",
       "      <th>editeur</th>\n",
       "    </tr>\n",
       "  </thead>\n",
       "  <tbody>\n",
       "    <tr>\n",
       "      <td>0</td>\n",
       "      <td>2262-3353</td>\n",
       "      <td>Hommes &amp; Migrations</td>\n",
       "      <td>180</td>\n",
       "      <td>4523</td>\n",
       "      <td>1987</td>\n",
       "      <td>2008</td>\n",
       "      <td>démographie, science politique</td>\n",
       "      <td>Musée de l'Histoire de l'Immigration</td>\n",
       "    </tr>\n",
       "    <tr>\n",
       "      <td>1</td>\n",
       "      <td>1950-6694</td>\n",
       "      <td>Revue économique</td>\n",
       "      <td>320</td>\n",
       "      <td>6776</td>\n",
       "      <td>1950</td>\n",
       "      <td>2002</td>\n",
       "      <td>économie</td>\n",
       "      <td>SciencesPo</td>\n",
       "    </tr>\n",
       "    <tr>\n",
       "      <td>2</td>\n",
       "      <td>1783-1768</td>\n",
       "      <td>Revue Philosophique de Louvain</td>\n",
       "      <td>441</td>\n",
       "      <td>12292</td>\n",
       "      <td>1894</td>\n",
       "      <td>2015</td>\n",
       "      <td>philosophie</td>\n",
       "      <td>Peeters</td>\n",
       "    </tr>\n",
       "    <tr>\n",
       "      <td>3</td>\n",
       "      <td>1957-7966</td>\n",
       "      <td>Population</td>\n",
       "      <td>320</td>\n",
       "      <td>12794</td>\n",
       "      <td>1946</td>\n",
       "      <td>2004</td>\n",
       "      <td>démographie</td>\n",
       "      <td>INED (Institut national d’études démographiques)</td>\n",
       "    </tr>\n",
       "    <tr>\n",
       "      <td>4</td>\n",
       "      <td>1777-5418</td>\n",
       "      <td>Revue Européenne des Migrations Internationales</td>\n",
       "      <td>49</td>\n",
       "      <td>814</td>\n",
       "      <td>1985</td>\n",
       "      <td>2001</td>\n",
       "      <td>démographie</td>\n",
       "      <td>MSH Poitiers</td>\n",
       "    </tr>\n",
       "  </tbody>\n",
       "</table>\n",
       "</div>"
      ],
      "text/plain": [
       "        issn                                          nom_clt  nb_numeros  \\\n",
       "0  2262-3353                              Hommes & Migrations         180   \n",
       "1  1950-6694                                 Revue économique         320   \n",
       "2  1783-1768                   Revue Philosophique de Louvain         441   \n",
       "3  1957-7966                                       Population         320   \n",
       "4  1777-5418  Revue Européenne des Migrations Internationales          49   \n",
       "\n",
       "   nb_document  pre_année_pub  der_année_pub                       discpline  \\\n",
       "0         4523           1987           2008  démographie, science politique   \n",
       "1         6776           1950           2002                        économie   \n",
       "2        12292           1894           2015                     philosophie   \n",
       "3        12794           1946           2004                     démographie   \n",
       "4          814           1985           2001                     démographie   \n",
       "\n",
       "                                            editeur  \n",
       "0              Musée de l'Histoire de l'Immigration  \n",
       "1                                        SciencesPo  \n",
       "2                                           Peeters  \n",
       "3  INED (Institut national d’études démographiques)  \n",
       "4                                      MSH Poitiers  "
      ]
     },
     "execution_count": 7,
     "metadata": {},
     "output_type": "execute_result"
    }
   ],
   "source": [
    "#Convertir en entier certaines colonnes\n",
    "df_collection['nb_numeros']=df_collection['nb_numeros'].astype(int)\n",
    "df_collection['nb_document']=df_collection['nb_document'].astype(int)\n",
    "df_collection['pre_année_pub']=df_collection['pre_année_pub'].astype(int)\n",
    "df_collection['der_année_pub']=df_collection['der_année_pub'].astype(int)\n",
    "df_collection.head()"
   ]
  },
  {
   "cell_type": "code",
   "execution_count": 8,
   "metadata": {
    "colab": {},
    "colab_type": "code",
    "id": "ra7HC1iuBesd"
   },
   "outputs": [],
   "source": [
    "def verifie_doublons(df):\n",
    "    \"\"\"\n",
    "        Cette fonction verifie s'il y a des doublons sur une colonne donnée en paramètre\n",
    "    \n",
    "    \"\"\"\n",
    "    list_=df.values.tolist()\n",
    "    c_=c.Counter()\n",
    "    for m in list_:\n",
    "        c_[m]+=1\n",
    "    m_=c_.most_common()\n",
    "    lm=[]\n",
    "    for m in m_:\n",
    "        if m[1]<=1:\n",
    "            break\n",
    "        else:\n",
    "            lm.append(m[0])\n",
    "    return lm"
   ]
  },
  {
   "cell_type": "code",
   "execution_count": 9,
   "metadata": {
    "colab": {
     "base_uri": "https://localhost:8080/",
     "height": 34
    },
    "colab_type": "code",
    "executionInfo": {
     "elapsed": 546,
     "status": "ok",
     "timestamp": 1584357584553,
     "user": {
      "displayName": "Fallou BAH",
      "photoUrl": "https://lh3.googleusercontent.com/a-/AOh14GgQ3C--84gNEGgo5hZ113Vb_Dp0IlAa__Oc27QWOQ=s64",
      "userId": "04677688741139167736"
     },
     "user_tz": -60
    },
    "id": "ZRU95maXDAa4",
    "outputId": "9f47d4c4-f4b1-4671-f79d-f7e98726f7b9"
   },
   "outputs": [
    {
     "data": {
      "text/plain": [
       "[]"
      ]
     },
     "execution_count": 9,
     "metadata": {},
     "output_type": "execute_result"
    }
   ],
   "source": [
    "verifie_doublons(df_collection['issn'])"
   ]
  },
  {
   "cell_type": "code",
   "execution_count": 10,
   "metadata": {
    "colab": {},
    "colab_type": "code",
    "id": "3jEs0iCswe8w"
   },
   "outputs": [],
   "source": [
    "df_collection.to_csv(sep=',', path_or_buf='../data/t_collection.csv',index=False)"
   ]
  },
  {
   "cell_type": "markdown",
   "metadata": {
    "colab_type": "text",
    "id": "JuXL0o4lxSc2"
   },
   "source": [
    "# Article\n"
   ]
  },
  {
   "cell_type": "code",
   "execution_count": 11,
   "metadata": {
    "colab": {
     "base_uri": "https://localhost:8080/",
     "height": 204
    },
    "colab_type": "code",
    "executionInfo": {
     "elapsed": 1038,
     "status": "ok",
     "timestamp": 1584354664129,
     "user": {
      "displayName": "Fallou BAH",
      "photoUrl": "https://lh3.googleusercontent.com/a-/AOh14GgQ3C--84gNEGgo5hZ113Vb_Dp0IlAa__Oc27QWOQ=s64",
      "userId": "04677688741139167736"
     },
     "user_tz": -60
    },
    "id": "WzTeXn_kx_yA",
    "outputId": "b80d6cb3-06b9-4279-8d87-03dd7314b8a7"
   },
   "outputs": [
    {
     "data": {
      "text/html": [
       "<div>\n",
       "<style scoped>\n",
       "    .dataframe tbody tr th:only-of-type {\n",
       "        vertical-align: middle;\n",
       "    }\n",
       "\n",
       "    .dataframe tbody tr th {\n",
       "        vertical-align: top;\n",
       "    }\n",
       "\n",
       "    .dataframe thead th {\n",
       "        text-align: right;\n",
       "    }\n",
       "</style>\n",
       "<table border=\"1\" class=\"dataframe\">\n",
       "  <thead>\n",
       "    <tr style=\"text-align: right;\">\n",
       "      <th></th>\n",
       "      <th>num_doc</th>\n",
       "      <th>title</th>\n",
       "      <th>type</th>\n",
       "      <th>annee_publication</th>\n",
       "      <th>num_publication</th>\n",
       "      <th>abstract</th>\n",
       "      <th>issn</th>\n",
       "    </tr>\n",
       "  </thead>\n",
       "  <tbody>\n",
       "    <tr>\n",
       "      <td>0</td>\n",
       "      <td>1</td>\n",
       "      <td>La fuite des cerveaux : le cas de l'ex-URSS</td>\n",
       "      <td>article</td>\n",
       "      <td>1992</td>\n",
       "      <td>1155</td>\n",
       "      <td>La fuite des cerveaux : le cas de l'ex-URSS......</td>\n",
       "      <td>2262-3353</td>\n",
       "    </tr>\n",
       "    <tr>\n",
       "      <td>1</td>\n",
       "      <td>2</td>\n",
       "      <td>Croissance, redistribution et inégalités dans ...</td>\n",
       "      <td>article</td>\n",
       "      <td>1999</td>\n",
       "      <td>50-3</td>\n",
       "      <td>Croissance, redistribution et inégalités dans ...</td>\n",
       "      <td>1950-6694</td>\n",
       "    </tr>\n",
       "    <tr>\n",
       "      <td>2</td>\n",
       "      <td>3</td>\n",
       "      <td>Que nous devons-nous les uns aux autres ? Le c...</td>\n",
       "      <td>article</td>\n",
       "      <td>2008</td>\n",
       "      <td>106-4</td>\n",
       "      <td>La fuite des cerveaux est-elle un phénomène in...</td>\n",
       "      <td>1783-1768</td>\n",
       "    </tr>\n",
       "    <tr>\n",
       "      <td>3</td>\n",
       "      <td>4</td>\n",
       "      <td>Chorafas Dimitri N. — La fuite des cerveaux. L...</td>\n",
       "      <td>compte-rendu</td>\n",
       "      <td>1970</td>\n",
       "      <td>25-5</td>\n",
       "      <td>Chorafas Dimitri N. — La fuite des cerveaux. L...</td>\n",
       "      <td>1957-7966</td>\n",
       "    </tr>\n",
       "    <tr>\n",
       "      <td>4</td>\n",
       "      <td>5</td>\n",
       "      <td>Au-delà de la « fuite des cerveaux » : la mobi...</td>\n",
       "      <td>article</td>\n",
       "      <td>1997</td>\n",
       "      <td>13-1</td>\n",
       "      <td>Au-delà de la « fuite des cerveaux » : la mobi...</td>\n",
       "      <td>1777-5418</td>\n",
       "    </tr>\n",
       "  </tbody>\n",
       "</table>\n",
       "</div>"
      ],
      "text/plain": [
       "   num_doc                                              title          type  \\\n",
       "0        1        La fuite des cerveaux : le cas de l'ex-URSS       article   \n",
       "1        2  Croissance, redistribution et inégalités dans ...       article   \n",
       "2        3  Que nous devons-nous les uns aux autres ? Le c...       article   \n",
       "3        4  Chorafas Dimitri N. — La fuite des cerveaux. L...  compte-rendu   \n",
       "4        5  Au-delà de la « fuite des cerveaux » : la mobi...       article   \n",
       "\n",
       "   annee_publication num_publication  \\\n",
       "0               1992            1155   \n",
       "1               1999            50-3   \n",
       "2               2008           106-4   \n",
       "3               1970            25-5   \n",
       "4               1997            13-1   \n",
       "\n",
       "                                            abstract       issn  \n",
       "0  La fuite des cerveaux : le cas de l'ex-URSS......  2262-3353  \n",
       "1  Croissance, redistribution et inégalités dans ...  1950-6694  \n",
       "2  La fuite des cerveaux est-elle un phénomène in...  1783-1768  \n",
       "3  Chorafas Dimitri N. — La fuite des cerveaux. L...  1957-7966  \n",
       "4  Au-delà de la « fuite des cerveaux » : la mobi...  1777-5418  "
      ]
     },
     "execution_count": 11,
     "metadata": {},
     "output_type": "execute_result"
    }
   ],
   "source": [
    "df_article[['num_doc','annee_publication']]=df_article[['num_doc','annee_publication']].astype(int)\n",
    "df_article.head()"
   ]
  },
  {
   "cell_type": "code",
   "execution_count": 12,
   "metadata": {
    "colab": {
     "base_uri": "https://localhost:8080/",
     "height": 49
    },
    "colab_type": "code",
    "executionInfo": {
     "elapsed": 518,
     "status": "ok",
     "timestamp": 1584354890700,
     "user": {
      "displayName": "Fallou BAH",
      "photoUrl": "https://lh3.googleusercontent.com/a-/AOh14GgQ3C--84gNEGgo5hZ113Vb_Dp0IlAa__Oc27QWOQ=s64",
      "userId": "04677688741139167736"
     },
     "user_tz": -60
    },
    "id": "f7Bg97CQVQhH",
    "outputId": "bbf43fb8-5d0f-45a2-efdc-1ac7cd1e615c"
   },
   "outputs": [
    {
     "data": {
      "text/html": [
       "<div>\n",
       "<style scoped>\n",
       "    .dataframe tbody tr th:only-of-type {\n",
       "        vertical-align: middle;\n",
       "    }\n",
       "\n",
       "    .dataframe tbody tr th {\n",
       "        vertical-align: top;\n",
       "    }\n",
       "\n",
       "    .dataframe thead th {\n",
       "        text-align: right;\n",
       "    }\n",
       "</style>\n",
       "<table border=\"1\" class=\"dataframe\">\n",
       "  <thead>\n",
       "    <tr style=\"text-align: right;\">\n",
       "      <th></th>\n",
       "      <th>num_doc</th>\n",
       "      <th>title</th>\n",
       "      <th>type</th>\n",
       "      <th>annee_publication</th>\n",
       "      <th>num_publication</th>\n",
       "      <th>abstract</th>\n",
       "      <th>issn</th>\n",
       "    </tr>\n",
       "  </thead>\n",
       "  <tbody>\n",
       "  </tbody>\n",
       "</table>\n",
       "</div>"
      ],
      "text/plain": [
       "Empty DataFrame\n",
       "Columns: [num_doc, title, type, annee_publication, num_publication, abstract, issn]\n",
       "Index: []"
      ]
     },
     "execution_count": 12,
     "metadata": {},
     "output_type": "execute_result"
    }
   ],
   "source": [
    "df_article[df_article['num_doc'].isnull()]"
   ]
  },
  {
   "cell_type": "code",
   "execution_count": 13,
   "metadata": {
    "colab": {},
    "colab_type": "code",
    "id": "kE_PAQQ_53D4"
   },
   "outputs": [],
   "source": [
    "df_article=df_article.fillna('')"
   ]
  },
  {
   "cell_type": "code",
   "execution_count": 14,
   "metadata": {
    "colab": {},
    "colab_type": "code",
    "id": "CbCWjz_jyx8r"
   },
   "outputs": [],
   "source": [
    "t_article=df_article[['num_doc','title','annee_publication','issn']]\n",
    "abstract=df_article[['num_doc','abstract']]"
   ]
  },
  {
   "cell_type": "code",
   "execution_count": 15,
   "metadata": {
    "colab": {
     "base_uri": "https://localhost:8080/",
     "height": 34
    },
    "colab_type": "code",
    "executionInfo": {
     "elapsed": 450,
     "status": "ok",
     "timestamp": 1584357618478,
     "user": {
      "displayName": "Fallou BAH",
      "photoUrl": "https://lh3.googleusercontent.com/a-/AOh14GgQ3C--84gNEGgo5hZ113Vb_Dp0IlAa__Oc27QWOQ=s64",
      "userId": "04677688741139167736"
     },
     "user_tz": -60
    },
    "id": "cRPn6qcFEmEG",
    "outputId": "8fe6647b-2eb8-4ec6-8c55-91da4b7523f5"
   },
   "outputs": [
    {
     "data": {
      "text/plain": [
       "[]"
      ]
     },
     "execution_count": 15,
     "metadata": {},
     "output_type": "execute_result"
    }
   ],
   "source": [
    "verifie_doublons(t_article['num_doc'])"
   ]
  },
  {
   "cell_type": "code",
   "execution_count": 16,
   "metadata": {
    "colab": {},
    "colab_type": "code",
    "id": "Tcl2RrjKzvaR"
   },
   "outputs": [],
   "source": [
    "t_article.to_csv(sep=',', path_or_buf='../data/t_article.csv',index=False)"
   ]
  },
  {
   "cell_type": "markdown",
   "metadata": {
    "colab_type": "text",
    "id": "NguaXHR40Pfe"
   },
   "source": [
    "# Mot article"
   ]
  },
  {
   "cell_type": "code",
   "execution_count": 17,
   "metadata": {
    "colab": {
     "base_uri": "https://localhost:8080/",
     "height": 204
    },
    "colab_type": "code",
    "executionInfo": {
     "elapsed": 619,
     "status": "ok",
     "timestamp": 1584354997223,
     "user": {
      "displayName": "Fallou BAH",
      "photoUrl": "https://lh3.googleusercontent.com/a-/AOh14GgQ3C--84gNEGgo5hZ113Vb_Dp0IlAa__Oc27QWOQ=s64",
      "userId": "04677688741139167736"
     },
     "user_tz": -60
    },
    "id": "mtjM6Ioi0fxx",
    "outputId": "fe6fa98e-44be-4fdb-ef5c-aa4ecdced841"
   },
   "outputs": [
    {
     "data": {
      "text/html": [
       "<div>\n",
       "<style scoped>\n",
       "    .dataframe tbody tr th:only-of-type {\n",
       "        vertical-align: middle;\n",
       "    }\n",
       "\n",
       "    .dataframe tbody tr th {\n",
       "        vertical-align: top;\n",
       "    }\n",
       "\n",
       "    .dataframe thead th {\n",
       "        text-align: right;\n",
       "    }\n",
       "</style>\n",
       "<table border=\"1\" class=\"dataframe\">\n",
       "  <thead>\n",
       "    <tr style=\"text-align: right;\">\n",
       "      <th></th>\n",
       "      <th>num_doc</th>\n",
       "      <th>abstract</th>\n",
       "    </tr>\n",
       "  </thead>\n",
       "  <tbody>\n",
       "    <tr>\n",
       "      <td>0</td>\n",
       "      <td>1</td>\n",
       "      <td>La fuite des cerveaux : le cas de l'ex-URSS......</td>\n",
       "    </tr>\n",
       "    <tr>\n",
       "      <td>1</td>\n",
       "      <td>2</td>\n",
       "      <td>Croissance, redistribution et inégalités dans ...</td>\n",
       "    </tr>\n",
       "    <tr>\n",
       "      <td>2</td>\n",
       "      <td>3</td>\n",
       "      <td>La fuite des cerveaux est-elle un phénomène in...</td>\n",
       "    </tr>\n",
       "    <tr>\n",
       "      <td>3</td>\n",
       "      <td>4</td>\n",
       "      <td>Chorafas Dimitri N. — La fuite des cerveaux. L...</td>\n",
       "    </tr>\n",
       "    <tr>\n",
       "      <td>4</td>\n",
       "      <td>5</td>\n",
       "      <td>Au-delà de la « fuite des cerveaux » : la mobi...</td>\n",
       "    </tr>\n",
       "  </tbody>\n",
       "</table>\n",
       "</div>"
      ],
      "text/plain": [
       "   num_doc                                           abstract\n",
       "0        1  La fuite des cerveaux : le cas de l'ex-URSS......\n",
       "1        2  Croissance, redistribution et inégalités dans ...\n",
       "2        3  La fuite des cerveaux est-elle un phénomène in...\n",
       "3        4  Chorafas Dimitri N. — La fuite des cerveaux. L...\n",
       "4        5  Au-delà de la « fuite des cerveaux » : la mobi..."
      ]
     },
     "execution_count": 17,
     "metadata": {},
     "output_type": "execute_result"
    }
   ],
   "source": [
    "abstract.head()"
   ]
  },
  {
   "cell_type": "code",
   "execution_count": 18,
   "metadata": {
    "colab": {},
    "colab_type": "code",
    "id": "dcZdBSPM02fM"
   },
   "outputs": [],
   "source": [
    "def nettoyer_df(df,col):\n",
    "    \"\"\"\n",
    "        Cette fonction nettoie les abstracts. Enleves les stopwords, les ponctuations et ne prend que les radicales des mots\n",
    "    \n",
    "    \"\"\"\n",
    "       \n",
    "    #Recuperer les stopswords \n",
    "    sr = nltk.corpus.stopwords.words('french')\n",
    "    sc = ['des','cet','cette','celui','celle','celles','leurs','quoi','quel','lequel','laquelle','lesquels','lesquelles','comme','après','avant','tous','tout','toutes','toutes']\n",
    "    stopwordss=list(set().union(sr,sc))\n",
    "  \n",
    "    \n",
    "    #Recuperer les ponctuations\n",
    "    poncts=punctuation\n",
    "    poncts+='’'\n",
    "    \n",
    "    #lemmatisation\n",
    "    stemmer=nltk.stem.snowball.FrenchStemmer()\n",
    "    \n",
    "    for i in df.index:\n",
    "        doc=df.loc[i,[col]][0]\n",
    "        clean_tokens=[]\n",
    "        doc=str(doc)\n",
    "        \n",
    "        #Enlever les ponctuations\n",
    "        for p in poncts :\n",
    "            doc=doc.replace(p,\" \")\n",
    "            \n",
    "        doc=doc.lower()\n",
    "        tokens=doc.split()\n",
    "\n",
    "        #Enlever les stopwords et raciniser\n",
    "        clean_tokens=[stemmer.stem(token) for token in tokens if (token not in stopwordss and len(token)>3)]\n",
    "\n",
    "        #Enlever les chiffres\n",
    "        clean_tokenss=[token for token in clean_tokens if token.isnumeric()==False]\n",
    "        \n",
    "        df.loc[i,[col]]=' '.join(clean_tokenss)\n",
    "    \n",
    "    return df"
   ]
  },
  {
   "cell_type": "code",
   "execution_count": 19,
   "metadata": {},
   "outputs": [
    {
     "data": {
      "text/html": [
       "<div>\n",
       "<style scoped>\n",
       "    .dataframe tbody tr th:only-of-type {\n",
       "        vertical-align: middle;\n",
       "    }\n",
       "\n",
       "    .dataframe tbody tr th {\n",
       "        vertical-align: top;\n",
       "    }\n",
       "\n",
       "    .dataframe thead th {\n",
       "        text-align: right;\n",
       "    }\n",
       "</style>\n",
       "<table border=\"1\" class=\"dataframe\">\n",
       "  <thead>\n",
       "    <tr style=\"text-align: right;\">\n",
       "      <th></th>\n",
       "      <th>num_doc</th>\n",
       "      <th>abstract</th>\n",
       "    </tr>\n",
       "  </thead>\n",
       "  <tbody>\n",
       "    <tr>\n",
       "      <td>0</td>\n",
       "      <td>1</td>\n",
       "      <td>La fuite des cerveaux : le cas de l'ex-URSS......</td>\n",
       "    </tr>\n",
       "    <tr>\n",
       "      <td>1</td>\n",
       "      <td>2</td>\n",
       "      <td>Croissance, redistribution et inégalités dans ...</td>\n",
       "    </tr>\n",
       "    <tr>\n",
       "      <td>2</td>\n",
       "      <td>3</td>\n",
       "      <td>La fuite des cerveaux est-elle un phénomène in...</td>\n",
       "    </tr>\n",
       "    <tr>\n",
       "      <td>3</td>\n",
       "      <td>4</td>\n",
       "      <td>Chorafas Dimitri N. — La fuite des cerveaux. L...</td>\n",
       "    </tr>\n",
       "    <tr>\n",
       "      <td>4</td>\n",
       "      <td>5</td>\n",
       "      <td>Au-delà de la « fuite des cerveaux » : la mobi...</td>\n",
       "    </tr>\n",
       "  </tbody>\n",
       "</table>\n",
       "</div>"
      ],
      "text/plain": [
       "   num_doc                                           abstract\n",
       "0        1  La fuite des cerveaux : le cas de l'ex-URSS......\n",
       "1        2  Croissance, redistribution et inégalités dans ...\n",
       "2        3  La fuite des cerveaux est-elle un phénomène in...\n",
       "3        4  Chorafas Dimitri N. — La fuite des cerveaux. L...\n",
       "4        5  Au-delà de la « fuite des cerveaux » : la mobi..."
      ]
     },
     "execution_count": 19,
     "metadata": {},
     "output_type": "execute_result"
    }
   ],
   "source": [
    "abstrat_copy=abstract.copy()\n",
    "abstrat_copy.head()"
   ]
  },
  {
   "cell_type": "code",
   "execution_count": 20,
   "metadata": {
    "colab": {
     "base_uri": "https://localhost:8080/",
     "height": 306
    },
    "colab_type": "code",
    "executionInfo": {
     "elapsed": 35516,
     "status": "ok",
     "timestamp": 1584355175836,
     "user": {
      "displayName": "Fallou BAH",
      "photoUrl": "https://lh3.googleusercontent.com/a-/AOh14GgQ3C--84gNEGgo5hZ113Vb_Dp0IlAa__Oc27QWOQ=s64",
      "userId": "04677688741139167736"
     },
     "user_tz": -60
    },
    "id": "XIEm-23VWRWp",
    "outputId": "be3e2cfe-9ca4-47ac-8861-63053cd9db8d"
   },
   "outputs": [
    {
     "name": "stderr",
     "output_type": "stream",
     "text": [
      "/home/biglifa/anaconda3/lib/python3.7/site-packages/pandas/core/indexing.py:494: SettingWithCopyWarning: \n",
      "A value is trying to be set on a copy of a slice from a DataFrame.\n",
      "Try using .loc[row_indexer,col_indexer] = value instead\n",
      "\n",
      "See the caveats in the documentation: http://pandas.pydata.org/pandas-docs/stable/user_guide/indexing.html#returning-a-view-versus-a-copy\n",
      "  self.obj[item] = s\n"
     ]
    },
    {
     "data": {
      "text/html": [
       "<div>\n",
       "<style scoped>\n",
       "    .dataframe tbody tr th:only-of-type {\n",
       "        vertical-align: middle;\n",
       "    }\n",
       "\n",
       "    .dataframe tbody tr th {\n",
       "        vertical-align: top;\n",
       "    }\n",
       "\n",
       "    .dataframe thead th {\n",
       "        text-align: right;\n",
       "    }\n",
       "</style>\n",
       "<table border=\"1\" class=\"dataframe\">\n",
       "  <thead>\n",
       "    <tr style=\"text-align: right;\">\n",
       "      <th></th>\n",
       "      <th>num_doc</th>\n",
       "      <th>abstract</th>\n",
       "    </tr>\n",
       "  </thead>\n",
       "  <tbody>\n",
       "    <tr>\n",
       "      <td>0</td>\n",
       "      <td>1</td>\n",
       "      <td>fuit cerveau urss exod inte¬ rieur cess accéle...</td>\n",
       "    </tr>\n",
       "    <tr>\n",
       "      <td>1</td>\n",
       "      <td>2</td>\n",
       "      <td>croissanc redistribu inégal model fuit cerveau...</td>\n",
       "    </tr>\n",
       "    <tr>\n",
       "      <td>2</td>\n",
       "      <td>3</td>\n",
       "      <td>fuit cerveau phénomen individuel légitim socia...</td>\n",
       "    </tr>\n",
       "    <tr>\n",
       "      <td>3</td>\n",
       "      <td>4</td>\n",
       "      <td>choraf dimitr fuit cerveau conquêt sav choraf ...</td>\n",
       "    </tr>\n",
       "    <tr>\n",
       "      <td>4</td>\n",
       "      <td>5</td>\n",
       "      <td>delà fuit cerveau mobil person haut qualifi ou...</td>\n",
       "    </tr>\n",
       "  </tbody>\n",
       "</table>\n",
       "</div>"
      ],
      "text/plain": [
       "   num_doc                                           abstract\n",
       "0        1  fuit cerveau urss exod inte¬ rieur cess accéle...\n",
       "1        2  croissanc redistribu inégal model fuit cerveau...\n",
       "2        3  fuit cerveau phénomen individuel légitim socia...\n",
       "3        4  choraf dimitr fuit cerveau conquêt sav choraf ...\n",
       "4        5  delà fuit cerveau mobil person haut qualifi ou..."
      ]
     },
     "execution_count": 20,
     "metadata": {},
     "output_type": "execute_result"
    }
   ],
   "source": [
    "abstract=nettoyer_df(abstract,'abstract')\n",
    "abstract.head()"
   ]
  },
  {
   "cell_type": "code",
   "execution_count": 21,
   "metadata": {
    "colab": {
     "base_uri": "https://localhost:8080/",
     "height": 34
    },
    "colab_type": "code",
    "executionInfo": {
     "elapsed": 577,
     "status": "ok",
     "timestamp": 1584355200182,
     "user": {
      "displayName": "Fallou BAH",
      "photoUrl": "https://lh3.googleusercontent.com/a-/AOh14GgQ3C--84gNEGgo5hZ113Vb_Dp0IlAa__Oc27QWOQ=s64",
      "userId": "04677688741139167736"
     },
     "user_tz": -60
    },
    "id": "uws5e1KVZnk8",
    "outputId": "7d69c348-a3c2-4ffd-ba1c-710447d03b11"
   },
   "outputs": [
    {
     "data": {
      "text/plain": [
       "['fuit', 'cerveau', 'urss', 'exod', 'inte¬']"
      ]
     },
     "execution_count": 21,
     "metadata": {},
     "output_type": "execute_result"
    }
   ],
   "source": [
    "#Recuper l'ensemble du corpus\n",
    "corpus=(' '.join(abstract['abstract'].values.tolist())).split()\n",
    "corpus[:5]"
   ]
  },
  {
   "cell_type": "code",
   "execution_count": 22,
   "metadata": {
    "colab": {
     "base_uri": "https://localhost:8080/",
     "height": 34
    },
    "colab_type": "code",
    "executionInfo": {
     "elapsed": 741,
     "status": "ok",
     "timestamp": 1584355217038,
     "user": {
      "displayName": "Fallou BAH",
      "photoUrl": "https://lh3.googleusercontent.com/a-/AOh14GgQ3C--84gNEGgo5hZ113Vb_Dp0IlAa__Oc27QWOQ=s64",
      "userId": "04677688741139167736"
     },
     "user_tz": -60
    },
    "id": "lAlK84xdarvw",
    "outputId": "27dd4e1b-8ea2-4900-e04b-5b40415fda48"
   },
   "outputs": [
    {
     "data": {
      "text/plain": [
       "39631"
      ]
     },
     "execution_count": 22,
     "metadata": {},
     "output_type": "execute_result"
    }
   ],
   "source": [
    "#Compter chaque mot du coprus\n",
    "count_mot=c.Counter()\n",
    "for mot in corpus:\n",
    "    count_mot[mot]+=1\n",
    "len(count_mot)"
   ]
  },
  {
   "cell_type": "code",
   "execution_count": 23,
   "metadata": {
    "colab": {
     "base_uri": "https://localhost:8080/",
     "height": 221
    },
    "colab_type": "code",
    "executionInfo": {
     "elapsed": 566,
     "status": "ok",
     "timestamp": 1584355237736,
     "user": {
      "displayName": "Fallou BAH",
      "photoUrl": "https://lh3.googleusercontent.com/a-/AOh14GgQ3C--84gNEGgo5hZ113Vb_Dp0IlAa__Oc27QWOQ=s64",
      "userId": "04677688741139167736"
     },
     "user_tz": -60
    },
    "id": "jinyUWu0VL-J",
    "outputId": "2924974a-9bb7-43f8-9d6c-9cdf713575dd"
   },
   "outputs": [
    {
     "data": {
      "text/plain": [
       "[('europ', 26814),\n",
       " ('fuit', 4275),\n",
       " ('des', 3823),\n",
       " ('plus', 3661),\n",
       " ('pay', 3105),\n",
       " ('cerveau', 2753),\n",
       " ('polit', 2382),\n",
       " ('franc', 2161),\n",
       " ('européen', 2101),\n",
       " ('entre', 1999),\n",
       " ('central', 1961),\n",
       " ('part', 1936)]"
      ]
     },
     "execution_count": 23,
     "metadata": {},
     "output_type": "execute_result"
    }
   ],
   "source": [
    "#Je prends les 10 mots les plus frequents comme mots clé\n",
    "mots_cles=count_mot.most_common(12)\n",
    "mots_cles"
   ]
  },
  {
   "cell_type": "code",
   "execution_count": 24,
   "metadata": {
    "colab": {
     "base_uri": "https://localhost:8080/",
     "height": 187
    },
    "colab_type": "code",
    "executionInfo": {
     "elapsed": 468,
     "status": "ok",
     "timestamp": 1584355265937,
     "user": {
      "displayName": "Fallou BAH",
      "photoUrl": "https://lh3.googleusercontent.com/a-/AOh14GgQ3C--84gNEGgo5hZ113Vb_Dp0IlAa__Oc27QWOQ=s64",
      "userId": "04677688741139167736"
     },
     "user_tz": -60
    },
    "id": "PZEjoYxFoqaj",
    "outputId": "7f03a953-235b-4a56-a649-9e526bfa5cc8"
   },
   "outputs": [
    {
     "data": {
      "text/plain": [
       "['europ',\n",
       " 'fuit',\n",
       " 'plus',\n",
       " 'pay',\n",
       " 'cerveau',\n",
       " 'polit',\n",
       " 'franc',\n",
       " 'européen',\n",
       " 'entre',\n",
       " 'central',\n",
       " 'part']"
      ]
     },
     "execution_count": 24,
     "metadata": {},
     "output_type": "execute_result"
    }
   ],
   "source": [
    "mots_cles=[mot[0] for mot in mots_cles]\n",
    "mots_cles.remove('des')\n",
    "mots_cles"
   ]
  },
  {
   "cell_type": "code",
   "execution_count": 25,
   "metadata": {
    "colab": {
     "base_uri": "https://localhost:8080/",
     "height": 204
    },
    "colab_type": "code",
    "executionInfo": {
     "elapsed": 116221,
     "status": "ok",
     "timestamp": 1584355410624,
     "user": {
      "displayName": "Fallou BAH",
      "photoUrl": "https://lh3.googleusercontent.com/a-/AOh14GgQ3C--84gNEGgo5hZ113Vb_Dp0IlAa__Oc27QWOQ=s64",
      "userId": "04677688741139167736"
     },
     "user_tz": -60
    },
    "id": "Q3IMqP1XWu7-",
    "outputId": "aae6cc2e-f041-421d-fe59-eabaeb1c78ea"
   },
   "outputs": [
    {
     "data": {
      "text/html": [
       "<div>\n",
       "<style scoped>\n",
       "    .dataframe tbody tr th:only-of-type {\n",
       "        vertical-align: middle;\n",
       "    }\n",
       "\n",
       "    .dataframe tbody tr th {\n",
       "        vertical-align: top;\n",
       "    }\n",
       "\n",
       "    .dataframe thead th {\n",
       "        text-align: right;\n",
       "    }\n",
       "</style>\n",
       "<table border=\"1\" class=\"dataframe\">\n",
       "  <thead>\n",
       "    <tr style=\"text-align: right;\">\n",
       "      <th></th>\n",
       "      <th>mot</th>\n",
       "      <th>num_article</th>\n",
       "      <th>frequence</th>\n",
       "      <th>correspondance</th>\n",
       "    </tr>\n",
       "  </thead>\n",
       "  <tbody>\n",
       "    <tr>\n",
       "      <td>0</td>\n",
       "      <td>fuit</td>\n",
       "      <td>1</td>\n",
       "      <td>5</td>\n",
       "      <td>[fuite]</td>\n",
       "    </tr>\n",
       "    <tr>\n",
       "      <td>1</td>\n",
       "      <td>cerveau</td>\n",
       "      <td>1</td>\n",
       "      <td>4</td>\n",
       "      <td>[cerveaux]</td>\n",
       "    </tr>\n",
       "    <tr>\n",
       "      <td>2</td>\n",
       "      <td>fuit</td>\n",
       "      <td>2</td>\n",
       "      <td>8</td>\n",
       "      <td>[fuite]</td>\n",
       "    </tr>\n",
       "    <tr>\n",
       "      <td>3</td>\n",
       "      <td>plus</td>\n",
       "      <td>2</td>\n",
       "      <td>1</td>\n",
       "      <td>[plus]</td>\n",
       "    </tr>\n",
       "    <tr>\n",
       "      <td>4</td>\n",
       "      <td>cerveau</td>\n",
       "      <td>2</td>\n",
       "      <td>8</td>\n",
       "      <td>[cerveaux]</td>\n",
       "    </tr>\n",
       "  </tbody>\n",
       "</table>\n",
       "</div>"
      ],
      "text/plain": [
       "       mot num_article frequence correspondance\n",
       "0     fuit           1         5        [fuite]\n",
       "1  cerveau           1         4     [cerveaux]\n",
       "2     fuit           2         8        [fuite]\n",
       "3     plus           2         1         [plus]\n",
       "4  cerveau           2         8     [cerveaux]"
      ]
     },
     "execution_count": 25,
     "metadata": {},
     "output_type": "execute_result"
    }
   ],
   "source": [
    "#Creer le dataframe article_comporte_mot et en meme cherchant les correspondances des mots clés\n",
    "t_mot_article=pd.DataFrame(columns=['mot','num_article','frequence','correspondance'])\n",
    "j=0\n",
    "for i in abstract.index:\n",
    "    for mot in mots_cles:\n",
    "        text=abstract.loc[i,['abstract']][0].split()\n",
    "        if mot in text:\n",
    "            freq=text.count(mot)\n",
    "            cpd=str(abstrat_copy.loc[i,['abstract']].values).lower()\n",
    "            l_cpd=re.findall(r'[a-z]*'+mot+'[a-z]*',cpd)\n",
    "            l_cpd=list(np.unique(l_cpd))\n",
    "            t_mot_article.loc[j,:]=[mot,i+1,freq,l_cpd]    \n",
    "            j+=1\n",
    "t_mot_article.head()"
   ]
  },
  {
   "cell_type": "code",
   "execution_count": 26,
   "metadata": {},
   "outputs": [],
   "source": [
    "def labeliser_mot(mot):\n",
    "    \n",
    "    val_mot=t_mot_article[t_mot_article['mot']==mot]['correspondance'].values.tolist()\n",
    "    val_mot=[p for pp in val_mot for p in pp]\n",
    "    c_mot=c.Counter()\n",
    "    for p in val_mot:\n",
    "        c_mot[p]+=1\n",
    "\n",
    "    return c_mot.most_common()[0][0]"
   ]
  },
  {
   "cell_type": "code",
   "execution_count": 27,
   "metadata": {},
   "outputs": [
    {
     "data": {
      "text/html": [
       "<div>\n",
       "<style scoped>\n",
       "    .dataframe tbody tr th:only-of-type {\n",
       "        vertical-align: middle;\n",
       "    }\n",
       "\n",
       "    .dataframe tbody tr th {\n",
       "        vertical-align: top;\n",
       "    }\n",
       "\n",
       "    .dataframe thead th {\n",
       "        text-align: right;\n",
       "    }\n",
       "</style>\n",
       "<table border=\"1\" class=\"dataframe\">\n",
       "  <thead>\n",
       "    <tr style=\"text-align: right;\">\n",
       "      <th></th>\n",
       "      <th>mot</th>\n",
       "      <th>num_article</th>\n",
       "      <th>frequence</th>\n",
       "      <th>correspondance</th>\n",
       "    </tr>\n",
       "  </thead>\n",
       "  <tbody>\n",
       "    <tr>\n",
       "      <td>0</td>\n",
       "      <td>fuite</td>\n",
       "      <td>1</td>\n",
       "      <td>5</td>\n",
       "      <td>[fuite]</td>\n",
       "    </tr>\n",
       "    <tr>\n",
       "      <td>1</td>\n",
       "      <td>cerveaux</td>\n",
       "      <td>1</td>\n",
       "      <td>4</td>\n",
       "      <td>[cerveaux]</td>\n",
       "    </tr>\n",
       "    <tr>\n",
       "      <td>2</td>\n",
       "      <td>fuite</td>\n",
       "      <td>2</td>\n",
       "      <td>8</td>\n",
       "      <td>[fuite]</td>\n",
       "    </tr>\n",
       "    <tr>\n",
       "      <td>3</td>\n",
       "      <td>plus</td>\n",
       "      <td>2</td>\n",
       "      <td>1</td>\n",
       "      <td>[plus]</td>\n",
       "    </tr>\n",
       "    <tr>\n",
       "      <td>4</td>\n",
       "      <td>cerveaux</td>\n",
       "      <td>2</td>\n",
       "      <td>8</td>\n",
       "      <td>[cerveaux]</td>\n",
       "    </tr>\n",
       "  </tbody>\n",
       "</table>\n",
       "</div>"
      ],
      "text/plain": [
       "        mot  num_article  frequence correspondance\n",
       "0     fuite            1          5        [fuite]\n",
       "1  cerveaux            1          4     [cerveaux]\n",
       "2     fuite            2          8        [fuite]\n",
       "3      plus            2          1         [plus]\n",
       "4  cerveaux            2          8     [cerveaux]"
      ]
     },
     "execution_count": 27,
     "metadata": {},
     "output_type": "execute_result"
    }
   ],
   "source": [
    "for mot in mots_cles:\n",
    "    t_mot_article=t_mot_article.replace(mot,labeliser_mot(mot))\n",
    "t_mot_article.head()"
   ]
  },
  {
   "cell_type": "code",
   "execution_count": 28,
   "metadata": {},
   "outputs": [
    {
     "data": {
      "text/html": [
       "<div>\n",
       "<style scoped>\n",
       "    .dataframe tbody tr th:only-of-type {\n",
       "        vertical-align: middle;\n",
       "    }\n",
       "\n",
       "    .dataframe tbody tr th {\n",
       "        vertical-align: top;\n",
       "    }\n",
       "\n",
       "    .dataframe thead th {\n",
       "        text-align: right;\n",
       "    }\n",
       "</style>\n",
       "<table border=\"1\" class=\"dataframe\">\n",
       "  <thead>\n",
       "    <tr style=\"text-align: right;\">\n",
       "      <th></th>\n",
       "      <th>mot</th>\n",
       "      <th>num_article</th>\n",
       "      <th>frequence</th>\n",
       "    </tr>\n",
       "  </thead>\n",
       "  <tbody>\n",
       "    <tr>\n",
       "      <td>0</td>\n",
       "      <td>fuite</td>\n",
       "      <td>1</td>\n",
       "      <td>5</td>\n",
       "    </tr>\n",
       "    <tr>\n",
       "      <td>1</td>\n",
       "      <td>cerveaux</td>\n",
       "      <td>1</td>\n",
       "      <td>4</td>\n",
       "    </tr>\n",
       "    <tr>\n",
       "      <td>2</td>\n",
       "      <td>fuite</td>\n",
       "      <td>2</td>\n",
       "      <td>8</td>\n",
       "    </tr>\n",
       "    <tr>\n",
       "      <td>3</td>\n",
       "      <td>plus</td>\n",
       "      <td>2</td>\n",
       "      <td>1</td>\n",
       "    </tr>\n",
       "    <tr>\n",
       "      <td>4</td>\n",
       "      <td>cerveaux</td>\n",
       "      <td>2</td>\n",
       "      <td>8</td>\n",
       "    </tr>\n",
       "  </tbody>\n",
       "</table>\n",
       "</div>"
      ],
      "text/plain": [
       "        mot  num_article  frequence\n",
       "0     fuite            1          5\n",
       "1  cerveaux            1          4\n",
       "2     fuite            2          8\n",
       "3      plus            2          1\n",
       "4  cerveaux            2          8"
      ]
     },
     "execution_count": 28,
     "metadata": {},
     "output_type": "execute_result"
    }
   ],
   "source": [
    "t_mot_article.drop('correspondance',axis=1,inplace=True)\n",
    "t_mot_article.head()"
   ]
  },
  {
   "cell_type": "code",
   "execution_count": 29,
   "metadata": {},
   "outputs": [
    {
     "data": {
      "text/plain": [
       "array(['centrale', 'cerveaux', 'entre', 'europe', 'européenne', 'france',\n",
       "       'fuite', 'partie', 'pays', 'plus', 'politique'], dtype=object)"
      ]
     },
     "execution_count": 29,
     "metadata": {},
     "output_type": "execute_result"
    }
   ],
   "source": [
    "np.unique(t_mot_article['mot'].values)"
   ]
  },
  {
   "cell_type": "code",
   "execution_count": 30,
   "metadata": {},
   "outputs": [],
   "source": [
    "t_mot_article=t_mot_article.replace('européenne','europe')"
   ]
  },
  {
   "cell_type": "code",
   "execution_count": 31,
   "metadata": {},
   "outputs": [
    {
     "data": {
      "text/html": [
       "<div>\n",
       "<style scoped>\n",
       "    .dataframe tbody tr th:only-of-type {\n",
       "        vertical-align: middle;\n",
       "    }\n",
       "\n",
       "    .dataframe tbody tr th {\n",
       "        vertical-align: top;\n",
       "    }\n",
       "\n",
       "    .dataframe thead th {\n",
       "        text-align: right;\n",
       "    }\n",
       "</style>\n",
       "<table border=\"1\" class=\"dataframe\">\n",
       "  <thead>\n",
       "    <tr style=\"text-align: right;\">\n",
       "      <th></th>\n",
       "      <th>mot</th>\n",
       "      <th>num_article</th>\n",
       "      <th>frequence</th>\n",
       "    </tr>\n",
       "  </thead>\n",
       "  <tbody>\n",
       "    <tr>\n",
       "      <td>0</td>\n",
       "      <td>centrale</td>\n",
       "      <td>5</td>\n",
       "      <td>1</td>\n",
       "    </tr>\n",
       "    <tr>\n",
       "      <td>1</td>\n",
       "      <td>centrale</td>\n",
       "      <td>6</td>\n",
       "      <td>1</td>\n",
       "    </tr>\n",
       "    <tr>\n",
       "      <td>2</td>\n",
       "      <td>centrale</td>\n",
       "      <td>33</td>\n",
       "      <td>1</td>\n",
       "    </tr>\n",
       "    <tr>\n",
       "      <td>3</td>\n",
       "      <td>centrale</td>\n",
       "      <td>34</td>\n",
       "      <td>1</td>\n",
       "    </tr>\n",
       "    <tr>\n",
       "      <td>4</td>\n",
       "      <td>centrale</td>\n",
       "      <td>36</td>\n",
       "      <td>2</td>\n",
       "    </tr>\n",
       "  </tbody>\n",
       "</table>\n",
       "</div>"
      ],
      "text/plain": [
       "        mot  num_article  frequence\n",
       "0  centrale            5          1\n",
       "1  centrale            6          1\n",
       "2  centrale           33          1\n",
       "3  centrale           34          1\n",
       "4  centrale           36          2"
      ]
     },
     "execution_count": 31,
     "metadata": {},
     "output_type": "execute_result"
    }
   ],
   "source": [
    "req=\"\"\"select mot,num_article,sum(frequence) as frequence from t_mot_article group by mot,num_article\"\"\"\n",
    "t_mot_article=sql.sqldf(req)\n",
    "t_mot_article.head()"
   ]
  },
  {
   "cell_type": "code",
   "execution_count": 32,
   "metadata": {
    "colab": {},
    "colab_type": "code",
    "id": "qBFEW9cjqkga"
   },
   "outputs": [],
   "source": [
    "t_mot_article.to_csv(sep=',', path_or_buf='../data/t_mot_article.csv',index=False)"
   ]
  },
  {
   "cell_type": "markdown",
   "metadata": {
    "colab_type": "text",
    "id": "50e-ckmWVJln"
   },
   "source": [
    "# Pays article"
   ]
  },
  {
   "cell_type": "code",
   "execution_count": 33,
   "metadata": {
    "colab": {},
    "colab_type": "code",
    "id": "wLZFTa8zp7Nd"
   },
   "outputs": [],
   "source": [
    "#Une fonction qui renvoie la liste des pays du monde\n",
    "def f_pays():\n",
    "    list_pays=[]\n",
    "    for pays in list(py.countries):\n",
    "        a= re.search(\"name='\"+'.+'+\", numeric=\",str(pays))\n",
    "        if a:\n",
    "            a=a.group(0)[6:-11]\n",
    "            list_pays.append(a.lower())\n",
    "    return list_pays"
   ]
  },
  {
   "cell_type": "code",
   "execution_count": 34,
   "metadata": {
    "colab": {
     "base_uri": "https://localhost:8080/",
     "height": 204
    },
    "colab_type": "code",
    "executionInfo": {
     "elapsed": 11266,
     "status": "ok",
     "timestamp": 1584355550205,
     "user": {
      "displayName": "Fallou BAH",
      "photoUrl": "https://lh3.googleusercontent.com/a-/AOh14GgQ3C--84gNEGgo5hZ113Vb_Dp0IlAa__Oc27QWOQ=s64",
      "userId": "04677688741139167736"
     },
     "user_tz": -60
    },
    "id": "cf-ztKFEteYR",
    "outputId": "e08a27e2-d2f8-4492-ce5b-fe3b26605826"
   },
   "outputs": [
    {
     "data": {
      "text/html": [
       "<div>\n",
       "<style scoped>\n",
       "    .dataframe tbody tr th:only-of-type {\n",
       "        vertical-align: middle;\n",
       "    }\n",
       "\n",
       "    .dataframe tbody tr th {\n",
       "        vertical-align: top;\n",
       "    }\n",
       "\n",
       "    .dataframe thead th {\n",
       "        text-align: right;\n",
       "    }\n",
       "</style>\n",
       "<table border=\"1\" class=\"dataframe\">\n",
       "  <thead>\n",
       "    <tr style=\"text-align: right;\">\n",
       "      <th></th>\n",
       "      <th>nom_pays</th>\n",
       "      <th>num_article</th>\n",
       "    </tr>\n",
       "  </thead>\n",
       "  <tbody>\n",
       "    <tr>\n",
       "      <td>0</td>\n",
       "      <td>réunion</td>\n",
       "      <td>15</td>\n",
       "    </tr>\n",
       "    <tr>\n",
       "      <td>1</td>\n",
       "      <td>poland</td>\n",
       "      <td>36</td>\n",
       "    </tr>\n",
       "    <tr>\n",
       "      <td>2</td>\n",
       "      <td>oman</td>\n",
       "      <td>43</td>\n",
       "    </tr>\n",
       "    <tr>\n",
       "      <td>3</td>\n",
       "      <td>pakistan</td>\n",
       "      <td>62</td>\n",
       "    </tr>\n",
       "    <tr>\n",
       "      <td>4</td>\n",
       "      <td>egypt</td>\n",
       "      <td>66</td>\n",
       "    </tr>\n",
       "  </tbody>\n",
       "</table>\n",
       "</div>"
      ],
      "text/plain": [
       "   nom_pays num_article\n",
       "0   réunion          15\n",
       "1    poland          36\n",
       "2      oman          43\n",
       "3  pakistan          62\n",
       "4     egypt          66"
      ]
     },
     "execution_count": 34,
     "metadata": {},
     "output_type": "execute_result"
    }
   ],
   "source": [
    "#Creer le dataframe pays_article\n",
    "t_pays_article=pd.DataFrame(columns=['nom_pays','num_article'])\n",
    "list_pays=f_pays()\n",
    "j=0\n",
    "for i in abstract.index:\n",
    "    text=abstract.loc[i,['abstract']][0]\n",
    "    for pays in list_pays:\n",
    "        p=re.search(pays,text)\n",
    "        if p:\n",
    "            t_pays_article.loc[j,:]=[p.group(0),i+1]\n",
    "            j+=1\n",
    "t_pays_article.head()"
   ]
  },
  {
   "cell_type": "code",
   "execution_count": 35,
   "metadata": {
    "colab": {},
    "colab_type": "code",
    "id": "x43LiV8TwzUf"
   },
   "outputs": [],
   "source": [
    "t_pays_article.to_csv(sep=',', path_or_buf='../data/t_pays_article.csv',index=False)"
   ]
  },
  {
   "cell_type": "markdown",
   "metadata": {
    "colab_type": "text",
    "id": "QVMlox6904nq"
   },
   "source": [
    "# Auteur"
   ]
  },
  {
   "cell_type": "code",
   "execution_count": 36,
   "metadata": {
    "colab": {
     "base_uri": "https://localhost:8080/",
     "height": 204
    },
    "colab_type": "code",
    "executionInfo": {
     "elapsed": 555,
     "status": "ok",
     "timestamp": 1584355983569,
     "user": {
      "displayName": "Fallou BAH",
      "photoUrl": "https://lh3.googleusercontent.com/a-/AOh14GgQ3C--84gNEGgo5hZ113Vb_Dp0IlAa__Oc27QWOQ=s64",
      "userId": "04677688741139167736"
     },
     "user_tz": -60
    },
    "id": "4Tqcq2gz-W1S",
    "outputId": "3b6d8cf3-e32e-4bd8-99c9-8da57603d9c8"
   },
   "outputs": [
    {
     "data": {
      "text/html": [
       "<div>\n",
       "<style scoped>\n",
       "    .dataframe tbody tr th:only-of-type {\n",
       "        vertical-align: middle;\n",
       "    }\n",
       "\n",
       "    .dataframe tbody tr th {\n",
       "        vertical-align: top;\n",
       "    }\n",
       "\n",
       "    .dataframe thead th {\n",
       "        text-align: right;\n",
       "    }\n",
       "</style>\n",
       "<table border=\"1\" class=\"dataframe\">\n",
       "  <thead>\n",
       "    <tr style=\"text-align: right;\">\n",
       "      <th></th>\n",
       "      <th>num</th>\n",
       "      <th>nom</th>\n",
       "      <th>annee_naissance</th>\n",
       "      <th>annee_decès</th>\n",
       "      <th>bio</th>\n",
       "    </tr>\n",
       "  </thead>\n",
       "  <tbody>\n",
       "    <tr>\n",
       "      <td>0</td>\n",
       "      <td>414356</td>\n",
       "      <td>Kortunov Andrei</td>\n",
       "      <td>NaN</td>\n",
       "      <td>NaN</td>\n",
       "      <td>NaN</td>\n",
       "    </tr>\n",
       "    <tr>\n",
       "      <td>1</td>\n",
       "      <td>140232</td>\n",
       "      <td>Bouyssou Rachel</td>\n",
       "      <td>NaN</td>\n",
       "      <td>NaN</td>\n",
       "      <td>NaN</td>\n",
       "    </tr>\n",
       "    <tr>\n",
       "      <td>2</td>\n",
       "      <td>24789</td>\n",
       "      <td>Docquier Frédéric</td>\n",
       "      <td>NaN</td>\n",
       "      <td>NaN</td>\n",
       "      <td>Docteur en sciences économiques. - Macroéconom...</td>\n",
       "    </tr>\n",
       "    <tr>\n",
       "      <td>3</td>\n",
       "      <td>61222</td>\n",
       "      <td>Rapoport Hillel</td>\n",
       "      <td>1963.0</td>\n",
       "      <td>NaN</td>\n",
       "      <td>NaN</td>\n",
       "    </tr>\n",
       "    <tr>\n",
       "      <td>4</td>\n",
       "      <td>731465</td>\n",
       "      <td>Chauvier Stéphane</td>\n",
       "      <td>1959.0</td>\n",
       "      <td>NaN</td>\n",
       "      <td>Maître de conférences de philosophie à l'Unive...</td>\n",
       "    </tr>\n",
       "  </tbody>\n",
       "</table>\n",
       "</div>"
      ],
      "text/plain": [
       "      num                 nom  annee_naissance  annee_decès  \\\n",
       "0  414356     Kortunov Andrei              NaN          NaN   \n",
       "1  140232     Bouyssou Rachel              NaN          NaN   \n",
       "2   24789   Docquier Frédéric              NaN          NaN   \n",
       "3   61222    Rapoport Hillel            1963.0          NaN   \n",
       "4  731465  Chauvier Stéphane            1959.0          NaN   \n",
       "\n",
       "                                                 bio  \n",
       "0                                                NaN  \n",
       "1                                                NaN  \n",
       "2  Docteur en sciences économiques. - Macroéconom...  \n",
       "3                                                NaN  \n",
       "4  Maître de conférences de philosophie à l'Unive...  "
      ]
     },
     "execution_count": 36,
     "metadata": {},
     "output_type": "execute_result"
    }
   ],
   "source": [
    "df_auteur.head()"
   ]
  },
  {
   "cell_type": "code",
   "execution_count": 37,
   "metadata": {
    "colab": {
     "base_uri": "https://localhost:8080/",
     "height": 49
    },
    "colab_type": "code",
    "executionInfo": {
     "elapsed": 484,
     "status": "ok",
     "timestamp": 1584356022565,
     "user": {
      "displayName": "Fallou BAH",
      "photoUrl": "https://lh3.googleusercontent.com/a-/AOh14GgQ3C--84gNEGgo5hZ113Vb_Dp0IlAa__Oc27QWOQ=s64",
      "userId": "04677688741139167736"
     },
     "user_tz": -60
    },
    "id": "R3B4Ytow-dNV",
    "outputId": "14358c66-1397-42f6-fc9d-2b74ea80e17e"
   },
   "outputs": [
    {
     "data": {
      "text/html": [
       "<div>\n",
       "<style scoped>\n",
       "    .dataframe tbody tr th:only-of-type {\n",
       "        vertical-align: middle;\n",
       "    }\n",
       "\n",
       "    .dataframe tbody tr th {\n",
       "        vertical-align: top;\n",
       "    }\n",
       "\n",
       "    .dataframe thead th {\n",
       "        text-align: right;\n",
       "    }\n",
       "</style>\n",
       "<table border=\"1\" class=\"dataframe\">\n",
       "  <thead>\n",
       "    <tr style=\"text-align: right;\">\n",
       "      <th></th>\n",
       "      <th>num</th>\n",
       "      <th>nom</th>\n",
       "      <th>annee_naissance</th>\n",
       "      <th>annee_decès</th>\n",
       "      <th>bio</th>\n",
       "    </tr>\n",
       "  </thead>\n",
       "  <tbody>\n",
       "  </tbody>\n",
       "</table>\n",
       "</div>"
      ],
      "text/plain": [
       "Empty DataFrame\n",
       "Columns: [num, nom, annee_naissance, annee_decès, bio]\n",
       "Index: []"
      ]
     },
     "execution_count": 37,
     "metadata": {},
     "output_type": "execute_result"
    }
   ],
   "source": [
    "df_auteur[df_auteur['num'].isnull()]"
   ]
  },
  {
   "cell_type": "code",
   "execution_count": 38,
   "metadata": {
    "colab": {
     "base_uri": "https://localhost:8080/",
     "height": 204
    },
    "colab_type": "code",
    "executionInfo": {
     "elapsed": 454,
     "status": "ok",
     "timestamp": 1584356036253,
     "user": {
      "displayName": "Fallou BAH",
      "photoUrl": "https://lh3.googleusercontent.com/a-/AOh14GgQ3C--84gNEGgo5hZ113Vb_Dp0IlAa__Oc27QWOQ=s64",
      "userId": "04677688741139167736"
     },
     "user_tz": -60
    },
    "id": "Gr4ofG_b1EZU",
    "outputId": "3cbdbb8d-cb33-470c-c400-649cd1bd2dd2"
   },
   "outputs": [
    {
     "data": {
      "text/html": [
       "<div>\n",
       "<style scoped>\n",
       "    .dataframe tbody tr th:only-of-type {\n",
       "        vertical-align: middle;\n",
       "    }\n",
       "\n",
       "    .dataframe tbody tr th {\n",
       "        vertical-align: top;\n",
       "    }\n",
       "\n",
       "    .dataframe thead th {\n",
       "        text-align: right;\n",
       "    }\n",
       "</style>\n",
       "<table border=\"1\" class=\"dataframe\">\n",
       "  <thead>\n",
       "    <tr style=\"text-align: right;\">\n",
       "      <th></th>\n",
       "      <th>num</th>\n",
       "      <th>nom</th>\n",
       "      <th>annee_naissance</th>\n",
       "      <th>annee_decès</th>\n",
       "      <th>bio</th>\n",
       "    </tr>\n",
       "  </thead>\n",
       "  <tbody>\n",
       "    <tr>\n",
       "      <td>0</td>\n",
       "      <td>414356</td>\n",
       "      <td>Kortunov Andrei</td>\n",
       "      <td></td>\n",
       "      <td></td>\n",
       "      <td></td>\n",
       "    </tr>\n",
       "    <tr>\n",
       "      <td>1</td>\n",
       "      <td>140232</td>\n",
       "      <td>Bouyssou Rachel</td>\n",
       "      <td></td>\n",
       "      <td></td>\n",
       "      <td></td>\n",
       "    </tr>\n",
       "    <tr>\n",
       "      <td>2</td>\n",
       "      <td>24789</td>\n",
       "      <td>Docquier Frédéric</td>\n",
       "      <td></td>\n",
       "      <td></td>\n",
       "      <td>Docteur en sciences économiques. - Macroéconom...</td>\n",
       "    </tr>\n",
       "    <tr>\n",
       "      <td>3</td>\n",
       "      <td>61222</td>\n",
       "      <td>Rapoport Hillel</td>\n",
       "      <td>1963</td>\n",
       "      <td></td>\n",
       "      <td></td>\n",
       "    </tr>\n",
       "    <tr>\n",
       "      <td>4</td>\n",
       "      <td>731465</td>\n",
       "      <td>Chauvier Stéphane</td>\n",
       "      <td>1959</td>\n",
       "      <td></td>\n",
       "      <td>Maître de conférences de philosophie à l'Unive...</td>\n",
       "    </tr>\n",
       "  </tbody>\n",
       "</table>\n",
       "</div>"
      ],
      "text/plain": [
       "      num                 nom annee_naissance annee_decès  \\\n",
       "0  414356     Kortunov Andrei                               \n",
       "1  140232     Bouyssou Rachel                               \n",
       "2   24789   Docquier Frédéric                               \n",
       "3   61222    Rapoport Hillel             1963               \n",
       "4  731465  Chauvier Stéphane             1959               \n",
       "\n",
       "                                                 bio  \n",
       "0                                                     \n",
       "1                                                     \n",
       "2  Docteur en sciences économiques. - Macroéconom...  \n",
       "3                                                     \n",
       "4  Maître de conférences de philosophie à l'Unive...  "
      ]
     },
     "execution_count": 38,
     "metadata": {},
     "output_type": "execute_result"
    }
   ],
   "source": [
    "#Remplacer les Nan par vide\n",
    "df_auteur=df_auteur.fillna('')\n",
    "df_auteur.head()"
   ]
  },
  {
   "cell_type": "code",
   "execution_count": 39,
   "metadata": {
    "colab": {},
    "colab_type": "code",
    "id": "KBLMGbbR6gWk"
   },
   "outputs": [],
   "source": [
    "bios=df_auteur[['num','bio']]"
   ]
  },
  {
   "cell_type": "code",
   "execution_count": 40,
   "metadata": {},
   "outputs": [
    {
     "name": "stderr",
     "output_type": "stream",
     "text": [
      "/home/biglifa/anaconda3/lib/python3.7/site-packages/pandas/core/indexing.py:205: SettingWithCopyWarning: \n",
      "A value is trying to be set on a copy of a slice from a DataFrame\n",
      "\n",
      "See the caveats in the documentation: http://pandas.pydata.org/pandas-docs/stable/user_guide/indexing.html#returning-a-view-versus-a-copy\n",
      "  self._setitem_with_indexer(indexer, value)\n",
      "/home/biglifa/anaconda3/lib/python3.7/site-packages/ipykernel_launcher.py:38: SettingWithCopyWarning: \n",
      "A value is trying to be set on a copy of a slice from a DataFrame\n",
      "\n",
      "See the caveats in the documentation: http://pandas.pydata.org/pandas-docs/stable/user_guide/indexing.html#returning-a-view-versus-a-copy\n"
     ]
    }
   ],
   "source": [
    "bios=nettoyer_df(bios,'bio')"
   ]
  },
  {
   "cell_type": "raw",
   "metadata": {},
   "source": [
    "#Juste pour rechercher les professions les plus frequents\n",
    "\n",
    "\n",
    "profs=bios['bio'].values.tolist()\n",
    "profs=[p for pp in profs for p in pp.split()]\n",
    "c_profs=c.Counter()\n",
    "for p in profs:\n",
    "    c_profs[p]+=1\n",
    "c_profs=c_profs.most_common()\n",
    "c_profs[:3]"
   ]
  },
  {
   "cell_type": "code",
   "execution_count": 41,
   "metadata": {},
   "outputs": [],
   "source": [
    "professions=['professeur','directeur','économ','historien','agreg',\n",
    "             'chercheur','sociolog','philosoph','sociologu','archiv',\n",
    "            'conseil','archéolog','médecin','ingénieur','paléograph','journal',\n",
    "            'jurist','anthropolog','fondateur','théolog','econom','historien','géograph']"
   ]
  },
  {
   "cell_type": "code",
   "execution_count": 42,
   "metadata": {},
   "outputs": [
    {
     "data": {
      "text/html": [
       "<div>\n",
       "<style scoped>\n",
       "    .dataframe tbody tr th:only-of-type {\n",
       "        vertical-align: middle;\n",
       "    }\n",
       "\n",
       "    .dataframe tbody tr th {\n",
       "        vertical-align: top;\n",
       "    }\n",
       "\n",
       "    .dataframe thead th {\n",
       "        text-align: right;\n",
       "    }\n",
       "</style>\n",
       "<table border=\"1\" class=\"dataframe\">\n",
       "  <thead>\n",
       "    <tr style=\"text-align: right;\">\n",
       "      <th></th>\n",
       "      <th>num</th>\n",
       "      <th>nom</th>\n",
       "      <th>annee_naissance</th>\n",
       "      <th>annee_decès</th>\n",
       "      <th>bio</th>\n",
       "      <th>profession</th>\n",
       "    </tr>\n",
       "  </thead>\n",
       "  <tbody>\n",
       "    <tr>\n",
       "      <td>0</td>\n",
       "      <td>414356</td>\n",
       "      <td>Kortunov Andrei</td>\n",
       "      <td></td>\n",
       "      <td></td>\n",
       "      <td></td>\n",
       "      <td></td>\n",
       "    </tr>\n",
       "    <tr>\n",
       "      <td>1</td>\n",
       "      <td>140232</td>\n",
       "      <td>Bouyssou Rachel</td>\n",
       "      <td></td>\n",
       "      <td></td>\n",
       "      <td></td>\n",
       "      <td></td>\n",
       "    </tr>\n",
       "    <tr>\n",
       "      <td>2</td>\n",
       "      <td>24789</td>\n",
       "      <td>Docquier Frédéric</td>\n",
       "      <td></td>\n",
       "      <td></td>\n",
       "      <td>Docteur en sciences économiques. - Macroéconom...</td>\n",
       "      <td>économ</td>\n",
       "    </tr>\n",
       "    <tr>\n",
       "      <td>3</td>\n",
       "      <td>61222</td>\n",
       "      <td>Rapoport Hillel</td>\n",
       "      <td>1963</td>\n",
       "      <td></td>\n",
       "      <td></td>\n",
       "      <td></td>\n",
       "    </tr>\n",
       "    <tr>\n",
       "      <td>4</td>\n",
       "      <td>731465</td>\n",
       "      <td>Chauvier Stéphane</td>\n",
       "      <td>1959</td>\n",
       "      <td></td>\n",
       "      <td>Maître de conférences de philosophie à l'Unive...</td>\n",
       "      <td>philosoph</td>\n",
       "    </tr>\n",
       "  </tbody>\n",
       "</table>\n",
       "</div>"
      ],
      "text/plain": [
       "      num                 nom annee_naissance annee_decès  \\\n",
       "0  414356     Kortunov Andrei                               \n",
       "1  140232     Bouyssou Rachel                               \n",
       "2   24789   Docquier Frédéric                               \n",
       "3   61222    Rapoport Hillel             1963               \n",
       "4  731465  Chauvier Stéphane             1959               \n",
       "\n",
       "                                                 bio profession  \n",
       "0                                                                \n",
       "1                                                                \n",
       "2  Docteur en sciences économiques. - Macroéconom...     économ  \n",
       "3                                                                \n",
       "4  Maître de conférences de philosophie à l'Unive...  philosoph  "
      ]
     },
     "execution_count": 42,
     "metadata": {},
     "output_type": "execute_result"
    }
   ],
   "source": [
    "#Ajouter les professions des auteurs\n",
    "df_auteur['profession']=''\n",
    "for i in df_auteur.index:\n",
    "    bio=bios.loc[i,['bio']][0]\n",
    "    if bio!='':\n",
    "        df_auteur.loc[i,'profession']='autre'\n",
    "        for p in professions:\n",
    "            prof=re.search(p,bio)\n",
    "            if prof:\n",
    "                df_auteur.loc[i,'profession']=prof.group(0)\n",
    "                    \n",
    "df_auteur.head()"
   ]
  },
  {
   "cell_type": "code",
   "execution_count": 43,
   "metadata": {},
   "outputs": [],
   "source": [
    "for i in df_auteur.index:\n",
    "    prof=df_auteur.loc[i,['profession']][0]\n",
    "    if prof!='':\n",
    "        if prof in ['économ','econom']:\n",
    "            df_auteur.loc[i,['profession']]='economiste'\n",
    "        elif prof=='agreg':\n",
    "            df_auteur.loc[i,['profession']]='professeur'\n",
    "        elif prof=='sociolog':\n",
    "            df_auteur.loc[i,['profession']]='sociologue'\n",
    "        elif prof=='philosoph':\n",
    "            df_auteur.loc[i,['profession']]='philosophe'\n",
    "        elif prof=='sociologu':\n",
    "            df_auteur.loc[i,['profession']]='sociologue'\n",
    "        elif prof=='archiv':\n",
    "            df_auteur.loc[i,['profession']]='archiviste'\n",
    "        elif prof=='conseil':\n",
    "            df_auteur.loc[i,['profession']]='conseiller'\n",
    "        elif prof=='archéolog':\n",
    "            df_auteur.loc[i,['profession']]='archéologue'\n",
    "        elif prof=='paléograph':\n",
    "            df_auteur.loc[i,['profession']]='paléographe'\n",
    "        elif prof=='journal':\n",
    "            df_auteur.loc[i,['profession']]='journaliste'\n",
    "        elif prof=='jurist':\n",
    "            df_auteur.loc[i,['profession']]='juriste'\n",
    "        elif prof=='anthropolog':\n",
    "            df_auteur.loc[i,['profession']]='anthropologue'\n",
    "        elif prof=='théolog':\n",
    "            df_auteur.loc[i,['profession']]='théologue'\n",
    "        elif prof=='géograph':\n",
    "            df_auteur.loc[i,['profession']]='géographe'\n",
    "        elif prof=='geograph':\n",
    "            df_auteur.loc[i,['profession']]='géographe'\n"
   ]
  },
  {
   "cell_type": "code",
   "execution_count": 44,
   "metadata": {},
   "outputs": [
    {
     "data": {
      "text/html": [
       "<div>\n",
       "<style scoped>\n",
       "    .dataframe tbody tr th:only-of-type {\n",
       "        vertical-align: middle;\n",
       "    }\n",
       "\n",
       "    .dataframe tbody tr th {\n",
       "        vertical-align: top;\n",
       "    }\n",
       "\n",
       "    .dataframe thead th {\n",
       "        text-align: right;\n",
       "    }\n",
       "</style>\n",
       "<table border=\"1\" class=\"dataframe\">\n",
       "  <thead>\n",
       "    <tr style=\"text-align: right;\">\n",
       "      <th></th>\n",
       "      <th>num</th>\n",
       "      <th>nom</th>\n",
       "      <th>annee_naissance</th>\n",
       "      <th>annee_decès</th>\n",
       "      <th>bio</th>\n",
       "      <th>profession</th>\n",
       "    </tr>\n",
       "  </thead>\n",
       "  <tbody>\n",
       "    <tr>\n",
       "      <td>0</td>\n",
       "      <td>414356</td>\n",
       "      <td>Kortunov Andrei</td>\n",
       "      <td></td>\n",
       "      <td></td>\n",
       "      <td></td>\n",
       "      <td></td>\n",
       "    </tr>\n",
       "    <tr>\n",
       "      <td>1</td>\n",
       "      <td>140232</td>\n",
       "      <td>Bouyssou Rachel</td>\n",
       "      <td></td>\n",
       "      <td></td>\n",
       "      <td></td>\n",
       "      <td></td>\n",
       "    </tr>\n",
       "    <tr>\n",
       "      <td>2</td>\n",
       "      <td>24789</td>\n",
       "      <td>Docquier Frédéric</td>\n",
       "      <td></td>\n",
       "      <td></td>\n",
       "      <td>Docteur en sciences économiques. - Macroéconom...</td>\n",
       "      <td>economiste</td>\n",
       "    </tr>\n",
       "    <tr>\n",
       "      <td>3</td>\n",
       "      <td>61222</td>\n",
       "      <td>Rapoport Hillel</td>\n",
       "      <td>1963</td>\n",
       "      <td></td>\n",
       "      <td></td>\n",
       "      <td></td>\n",
       "    </tr>\n",
       "    <tr>\n",
       "      <td>4</td>\n",
       "      <td>731465</td>\n",
       "      <td>Chauvier Stéphane</td>\n",
       "      <td>1959</td>\n",
       "      <td></td>\n",
       "      <td>Maître de conférences de philosophie à l'Unive...</td>\n",
       "      <td>philosophe</td>\n",
       "    </tr>\n",
       "  </tbody>\n",
       "</table>\n",
       "</div>"
      ],
      "text/plain": [
       "      num                 nom annee_naissance annee_decès  \\\n",
       "0  414356     Kortunov Andrei                               \n",
       "1  140232     Bouyssou Rachel                               \n",
       "2   24789   Docquier Frédéric                               \n",
       "3   61222    Rapoport Hillel             1963               \n",
       "4  731465  Chauvier Stéphane             1959               \n",
       "\n",
       "                                                 bio  profession  \n",
       "0                                                                 \n",
       "1                                                                 \n",
       "2  Docteur en sciences économiques. - Macroéconom...  economiste  \n",
       "3                                                                 \n",
       "4  Maître de conférences de philosophie à l'Unive...  philosophe  "
      ]
     },
     "execution_count": 44,
     "metadata": {},
     "output_type": "execute_result"
    }
   ],
   "source": [
    "df_auteur.head()"
   ]
  },
  {
   "cell_type": "code",
   "execution_count": 45,
   "metadata": {
    "colab": {
     "base_uri": "https://localhost:8080/",
     "height": 204
    },
    "colab_type": "code",
    "executionInfo": {
     "elapsed": 579,
     "status": "ok",
     "timestamp": 1584356329078,
     "user": {
      "displayName": "Fallou BAH",
      "photoUrl": "https://lh3.googleusercontent.com/a-/AOh14GgQ3C--84gNEGgo5hZ113Vb_Dp0IlAa__Oc27QWOQ=s64",
      "userId": "04677688741139167736"
     },
     "user_tz": -60
    },
    "id": "oYr_y6x2CUh4",
    "outputId": "92afd375-31e0-40be-8644-00ba213fabc8"
   },
   "outputs": [
    {
     "data": {
      "text/html": [
       "<div>\n",
       "<style scoped>\n",
       "    .dataframe tbody tr th:only-of-type {\n",
       "        vertical-align: middle;\n",
       "    }\n",
       "\n",
       "    .dataframe tbody tr th {\n",
       "        vertical-align: top;\n",
       "    }\n",
       "\n",
       "    .dataframe thead th {\n",
       "        text-align: right;\n",
       "    }\n",
       "</style>\n",
       "<table border=\"1\" class=\"dataframe\">\n",
       "  <thead>\n",
       "    <tr style=\"text-align: right;\">\n",
       "      <th></th>\n",
       "      <th>num</th>\n",
       "      <th>nom</th>\n",
       "      <th>annee_naissance</th>\n",
       "      <th>annee_decès</th>\n",
       "      <th>profession</th>\n",
       "    </tr>\n",
       "  </thead>\n",
       "  <tbody>\n",
       "    <tr>\n",
       "      <td>0</td>\n",
       "      <td>414356</td>\n",
       "      <td>Kortunov Andrei</td>\n",
       "      <td></td>\n",
       "      <td></td>\n",
       "      <td></td>\n",
       "    </tr>\n",
       "    <tr>\n",
       "      <td>1</td>\n",
       "      <td>140232</td>\n",
       "      <td>Bouyssou Rachel</td>\n",
       "      <td></td>\n",
       "      <td></td>\n",
       "      <td></td>\n",
       "    </tr>\n",
       "    <tr>\n",
       "      <td>2</td>\n",
       "      <td>24789</td>\n",
       "      <td>Docquier Frédéric</td>\n",
       "      <td></td>\n",
       "      <td></td>\n",
       "      <td>economiste</td>\n",
       "    </tr>\n",
       "    <tr>\n",
       "      <td>3</td>\n",
       "      <td>61222</td>\n",
       "      <td>Rapoport Hillel</td>\n",
       "      <td>1963</td>\n",
       "      <td></td>\n",
       "      <td></td>\n",
       "    </tr>\n",
       "    <tr>\n",
       "      <td>4</td>\n",
       "      <td>731465</td>\n",
       "      <td>Chauvier Stéphane</td>\n",
       "      <td>1959</td>\n",
       "      <td></td>\n",
       "      <td>philosophe</td>\n",
       "    </tr>\n",
       "  </tbody>\n",
       "</table>\n",
       "</div>"
      ],
      "text/plain": [
       "      num                 nom annee_naissance annee_decès  profession\n",
       "0  414356     Kortunov Andrei                                        \n",
       "1  140232     Bouyssou Rachel                                        \n",
       "2   24789   Docquier Frédéric                              economiste\n",
       "3   61222    Rapoport Hillel             1963                        \n",
       "4  731465  Chauvier Stéphane             1959              philosophe"
      ]
     },
     "execution_count": 45,
     "metadata": {},
     "output_type": "execute_result"
    }
   ],
   "source": [
    "t_auteur=df_auteur[['num','nom','annee_naissance','annee_decès','profession']]\n",
    "t_auteur.head()"
   ]
  },
  {
   "cell_type": "code",
   "execution_count": 46,
   "metadata": {
    "colab": {
     "base_uri": "https://localhost:8080/",
     "height": 34
    },
    "colab_type": "code",
    "executionInfo": {
     "elapsed": 446,
     "status": "ok",
     "timestamp": 1584357658675,
     "user": {
      "displayName": "Fallou BAH",
      "photoUrl": "https://lh3.googleusercontent.com/a-/AOh14GgQ3C--84gNEGgo5hZ113Vb_Dp0IlAa__Oc27QWOQ=s64",
      "userId": "04677688741139167736"
     },
     "user_tz": -60
    },
    "id": "wJfAoQKkExf1",
    "outputId": "2dcc3295-6fe6-4b6e-8bdd-6a4cf83bc441"
   },
   "outputs": [
    {
     "data": {
      "text/plain": [
       "[]"
      ]
     },
     "execution_count": 46,
     "metadata": {},
     "output_type": "execute_result"
    }
   ],
   "source": [
    "verifie_doublons(t_auteur['num'])"
   ]
  },
  {
   "cell_type": "code",
   "execution_count": 47,
   "metadata": {
    "colab": {},
    "colab_type": "code",
    "id": "BMSRrmlIDaqB"
   },
   "outputs": [],
   "source": [
    "t_auteur.to_csv(sep=',', path_or_buf='../data/t_auteur.csv',index=False)"
   ]
  },
  {
   "cell_type": "markdown",
   "metadata": {
    "colab_type": "text",
    "id": "Ll6f6sazIil1"
   },
   "source": [
    "# Pays auteur\n"
   ]
  },
  {
   "cell_type": "code",
   "execution_count": 48,
   "metadata": {
    "colab": {
     "base_uri": "https://localhost:8080/",
     "height": 476
    },
    "colab_type": "code",
    "executionInfo": {
     "elapsed": 7123,
     "status": "ok",
     "timestamp": 1584356395864,
     "user": {
      "displayName": "Fallou BAH",
      "photoUrl": "https://lh3.googleusercontent.com/a-/AOh14GgQ3C--84gNEGgo5hZ113Vb_Dp0IlAa__Oc27QWOQ=s64",
      "userId": "04677688741139167736"
     },
     "user_tz": -60
    },
    "id": "N9mZUJSMqLVO",
    "outputId": "04ae6741-c495-4433-c408-92f55abaa8f3"
   },
   "outputs": [
    {
     "data": {
      "text/html": [
       "<div>\n",
       "<style scoped>\n",
       "    .dataframe tbody tr th:only-of-type {\n",
       "        vertical-align: middle;\n",
       "    }\n",
       "\n",
       "    .dataframe tbody tr th {\n",
       "        vertical-align: top;\n",
       "    }\n",
       "\n",
       "    .dataframe thead th {\n",
       "        text-align: right;\n",
       "    }\n",
       "</style>\n",
       "<table border=\"1\" class=\"dataframe\">\n",
       "  <thead>\n",
       "    <tr style=\"text-align: right;\">\n",
       "      <th></th>\n",
       "      <th>num</th>\n",
       "      <th>nom_pays</th>\n",
       "    </tr>\n",
       "  </thead>\n",
       "  <tbody>\n",
       "    <tr>\n",
       "      <td>0</td>\n",
       "      <td>155063</td>\n",
       "      <td>oman</td>\n",
       "    </tr>\n",
       "    <tr>\n",
       "      <td>1</td>\n",
       "      <td>221332</td>\n",
       "      <td>oman</td>\n",
       "    </tr>\n",
       "    <tr>\n",
       "      <td>2</td>\n",
       "      <td>47918</td>\n",
       "      <td>mali</td>\n",
       "    </tr>\n",
       "    <tr>\n",
       "      <td>3</td>\n",
       "      <td>158612</td>\n",
       "      <td>mali</td>\n",
       "    </tr>\n",
       "    <tr>\n",
       "      <td>4</td>\n",
       "      <td>254165</td>\n",
       "      <td>madagascar</td>\n",
       "    </tr>\n",
       "  </tbody>\n",
       "</table>\n",
       "</div>"
      ],
      "text/plain": [
       "      num    nom_pays\n",
       "0  155063        oman\n",
       "1  221332        oman\n",
       "2   47918        mali\n",
       "3  158612        mali\n",
       "4  254165  madagascar"
      ]
     },
     "execution_count": 48,
     "metadata": {},
     "output_type": "execute_result"
    }
   ],
   "source": [
    "list_pays=f_pays()\n",
    "nationalite=pd.DataFrame(columns=['num','nom_pays'])\n",
    "j=0\n",
    "for i in bios.index:\n",
    "    bio=bios.loc[i,['bio']][0]\n",
    "    num=bios.loc[i,['num']][0]\n",
    "    if bio!='':\n",
    "        bio=bio.lower()\n",
    "        for pays in list_pays:\n",
    "            pp=re.search(pays,bio)\n",
    "            if pp:\n",
    "                nationalite.loc[j,:]=[num,pp.group(0)]\n",
    "                j+=1\n",
    "nationalite.head()"
   ]
  },
  {
   "cell_type": "code",
   "execution_count": 49,
   "metadata": {
    "colab": {},
    "colab_type": "code",
    "id": "Jk6JuKuDUEGC"
   },
   "outputs": [],
   "source": [
    "nationalite.to_csv(sep=',', path_or_buf='../data/t_nationalite.csv',index=False)"
   ]
  },
  {
   "cell_type": "markdown",
   "metadata": {
    "colab_type": "text",
    "id": "BRq0il24U5w_"
   },
   "source": [
    "# Redige"
   ]
  },
  {
   "cell_type": "code",
   "execution_count": 50,
   "metadata": {
    "colab": {
     "base_uri": "https://localhost:8080/",
     "height": 204
    },
    "colab_type": "code",
    "executionInfo": {
     "elapsed": 491,
     "status": "ok",
     "timestamp": 1584356510811,
     "user": {
      "displayName": "Fallou BAH",
      "photoUrl": "https://lh3.googleusercontent.com/a-/AOh14GgQ3C--84gNEGgo5hZ113Vb_Dp0IlAa__Oc27QWOQ=s64",
      "userId": "04677688741139167736"
     },
     "user_tz": -60
    },
    "id": "B3I7Cs0lxhAt",
    "outputId": "e7c2647f-fe7c-4d12-bc7f-e89d2cbf0f0c"
   },
   "outputs": [
    {
     "data": {
      "text/html": [
       "<div>\n",
       "<style scoped>\n",
       "    .dataframe tbody tr th:only-of-type {\n",
       "        vertical-align: middle;\n",
       "    }\n",
       "\n",
       "    .dataframe tbody tr th {\n",
       "        vertical-align: top;\n",
       "    }\n",
       "\n",
       "    .dataframe thead th {\n",
       "        text-align: right;\n",
       "    }\n",
       "</style>\n",
       "<table border=\"1\" class=\"dataframe\">\n",
       "  <thead>\n",
       "    <tr style=\"text-align: right;\">\n",
       "      <th></th>\n",
       "      <th>nom</th>\n",
       "      <th>num_doc</th>\n",
       "      <th>role</th>\n",
       "    </tr>\n",
       "  </thead>\n",
       "  <tbody>\n",
       "    <tr>\n",
       "      <td>0</td>\n",
       "      <td>414356</td>\n",
       "      <td>1.0</td>\n",
       "      <td>NaN</td>\n",
       "    </tr>\n",
       "    <tr>\n",
       "      <td>1</td>\n",
       "      <td>140232</td>\n",
       "      <td>1.0</td>\n",
       "      <td>Traducteur</td>\n",
       "    </tr>\n",
       "    <tr>\n",
       "      <td>2</td>\n",
       "      <td>24789</td>\n",
       "      <td>2.0</td>\n",
       "      <td>NaN</td>\n",
       "    </tr>\n",
       "    <tr>\n",
       "      <td>3</td>\n",
       "      <td>61222</td>\n",
       "      <td>2.0</td>\n",
       "      <td>NaN</td>\n",
       "    </tr>\n",
       "    <tr>\n",
       "      <td>4</td>\n",
       "      <td>731465</td>\n",
       "      <td>3.0</td>\n",
       "      <td>NaN</td>\n",
       "    </tr>\n",
       "  </tbody>\n",
       "</table>\n",
       "</div>"
      ],
      "text/plain": [
       "      nom  num_doc        role\n",
       "0  414356      1.0         NaN\n",
       "1  140232      1.0  Traducteur\n",
       "2   24789      2.0         NaN\n",
       "3   61222      2.0         NaN\n",
       "4  731465      3.0         NaN"
      ]
     },
     "execution_count": 50,
     "metadata": {},
     "output_type": "execute_result"
    }
   ],
   "source": [
    "df_redige.head()"
   ]
  },
  {
   "cell_type": "code",
   "execution_count": 51,
   "metadata": {
    "colab": {},
    "colab_type": "code",
    "id": "Nml1O0THxjjO"
   },
   "outputs": [],
   "source": [
    "df_redige['num_doc']=df_redige['num_doc'].astype(int)"
   ]
  },
  {
   "cell_type": "code",
   "execution_count": 52,
   "metadata": {
    "colab": {
     "base_uri": "https://localhost:8080/",
     "height": 204
    },
    "colab_type": "code",
    "executionInfo": {
     "elapsed": 547,
     "status": "ok",
     "timestamp": 1584356575681,
     "user": {
      "displayName": "Fallou BAH",
      "photoUrl": "https://lh3.googleusercontent.com/a-/AOh14GgQ3C--84gNEGgo5hZ113Vb_Dp0IlAa__Oc27QWOQ=s64",
      "userId": "04677688741139167736"
     },
     "user_tz": -60
    },
    "id": "75X69Af2yE8-",
    "outputId": "1e3b816f-a7b4-48e5-822a-fdd08a5a33a1"
   },
   "outputs": [
    {
     "data": {
      "text/html": [
       "<div>\n",
       "<style scoped>\n",
       "    .dataframe tbody tr th:only-of-type {\n",
       "        vertical-align: middle;\n",
       "    }\n",
       "\n",
       "    .dataframe tbody tr th {\n",
       "        vertical-align: top;\n",
       "    }\n",
       "\n",
       "    .dataframe thead th {\n",
       "        text-align: right;\n",
       "    }\n",
       "</style>\n",
       "<table border=\"1\" class=\"dataframe\">\n",
       "  <thead>\n",
       "    <tr style=\"text-align: right;\">\n",
       "      <th></th>\n",
       "      <th>nom</th>\n",
       "      <th>num_doc</th>\n",
       "    </tr>\n",
       "  </thead>\n",
       "  <tbody>\n",
       "    <tr>\n",
       "      <td>0</td>\n",
       "      <td>414356</td>\n",
       "      <td>1</td>\n",
       "    </tr>\n",
       "    <tr>\n",
       "      <td>1</td>\n",
       "      <td>140232</td>\n",
       "      <td>1</td>\n",
       "    </tr>\n",
       "    <tr>\n",
       "      <td>2</td>\n",
       "      <td>24789</td>\n",
       "      <td>2</td>\n",
       "    </tr>\n",
       "    <tr>\n",
       "      <td>3</td>\n",
       "      <td>61222</td>\n",
       "      <td>2</td>\n",
       "    </tr>\n",
       "    <tr>\n",
       "      <td>4</td>\n",
       "      <td>731465</td>\n",
       "      <td>3</td>\n",
       "    </tr>\n",
       "  </tbody>\n",
       "</table>\n",
       "</div>"
      ],
      "text/plain": [
       "      nom  num_doc\n",
       "0  414356        1\n",
       "1  140232        1\n",
       "2   24789        2\n",
       "3   61222        2\n",
       "4  731465        3"
      ]
     },
     "execution_count": 52,
     "metadata": {},
     "output_type": "execute_result"
    }
   ],
   "source": [
    "t_redige=df_redige[['nom','num_doc']]\n",
    "t_redige.head()"
   ]
  },
  {
   "cell_type": "code",
   "execution_count": 53,
   "metadata": {
    "colab": {
     "base_uri": "https://localhost:8080/",
     "height": 122
    },
    "colab_type": "code",
    "executionInfo": {
     "elapsed": 646,
     "status": "ok",
     "timestamp": 1584356685629,
     "user": {
      "displayName": "Fallou BAH",
      "photoUrl": "https://lh3.googleusercontent.com/a-/AOh14GgQ3C--84gNEGgo5hZ113Vb_Dp0IlAa__Oc27QWOQ=s64",
      "userId": "04677688741139167736"
     },
     "user_tz": -60
    },
    "id": "2paRNsEkAzug",
    "outputId": "52369c59-a9e5-4cce-c98c-2c2fffd4a8ad"
   },
   "outputs": [
    {
     "name": "stderr",
     "output_type": "stream",
     "text": [
      "/home/biglifa/anaconda3/lib/python3.7/site-packages/pandas/core/frame.py:4223: SettingWithCopyWarning: \n",
      "A value is trying to be set on a copy of a slice from a DataFrame\n",
      "\n",
      "See the caveats in the documentation: http://pandas.pydata.org/pandas-docs/stable/user_guide/indexing.html#returning-a-view-versus-a-copy\n",
      "  return super().rename(**kwargs)\n"
     ]
    }
   ],
   "source": [
    "t_redige.rename(columns={'nom':'num'}, inplace=True)"
   ]
  },
  {
   "cell_type": "code",
   "execution_count": 54,
   "metadata": {},
   "outputs": [
    {
     "data": {
      "text/html": [
       "<div>\n",
       "<style scoped>\n",
       "    .dataframe tbody tr th:only-of-type {\n",
       "        vertical-align: middle;\n",
       "    }\n",
       "\n",
       "    .dataframe tbody tr th {\n",
       "        vertical-align: top;\n",
       "    }\n",
       "\n",
       "    .dataframe thead th {\n",
       "        text-align: right;\n",
       "    }\n",
       "</style>\n",
       "<table border=\"1\" class=\"dataframe\">\n",
       "  <thead>\n",
       "    <tr style=\"text-align: right;\">\n",
       "      <th></th>\n",
       "      <th>num</th>\n",
       "      <th>num_doc</th>\n",
       "    </tr>\n",
       "  </thead>\n",
       "  <tbody>\n",
       "    <tr>\n",
       "      <td>0</td>\n",
       "      <td>414356</td>\n",
       "      <td>1</td>\n",
       "    </tr>\n",
       "    <tr>\n",
       "      <td>1</td>\n",
       "      <td>140232</td>\n",
       "      <td>1</td>\n",
       "    </tr>\n",
       "    <tr>\n",
       "      <td>2</td>\n",
       "      <td>24789</td>\n",
       "      <td>2</td>\n",
       "    </tr>\n",
       "    <tr>\n",
       "      <td>3</td>\n",
       "      <td>61222</td>\n",
       "      <td>2</td>\n",
       "    </tr>\n",
       "    <tr>\n",
       "      <td>4</td>\n",
       "      <td>731465</td>\n",
       "      <td>3</td>\n",
       "    </tr>\n",
       "  </tbody>\n",
       "</table>\n",
       "</div>"
      ],
      "text/plain": [
       "      num  num_doc\n",
       "0  414356        1\n",
       "1  140232        1\n",
       "2   24789        2\n",
       "3   61222        2\n",
       "4  731465        3"
      ]
     },
     "execution_count": 54,
     "metadata": {},
     "output_type": "execute_result"
    }
   ],
   "source": [
    "t_redige.head()"
   ]
  },
  {
   "cell_type": "code",
   "execution_count": 55,
   "metadata": {
    "colab": {},
    "colab_type": "code",
    "id": "zvTSBHubzApO"
   },
   "outputs": [],
   "source": [
    "t_redige.to_csv(sep=',', path_or_buf='../data/t_redige.csv',index=False)"
   ]
  },
  {
   "cell_type": "code",
   "execution_count": null,
   "metadata": {
    "colab": {},
    "colab_type": "code",
    "id": "rNkNmwmcBIfJ"
   },
   "outputs": [],
   "source": []
  }
 ],
 "metadata": {
  "colab": {
   "authorship_tag": "ABX9TyNBclw9LU44WpdDFwN7dFby",
   "collapsed_sections": [
    "KdvOGn7VrMQz"
   ],
   "name": "Pretraitement.ipynb",
   "provenance": []
  },
  "kernelspec": {
   "display_name": "Python 3",
   "language": "python",
   "name": "python3"
  },
  "language_info": {
   "codemirror_mode": {
    "name": "ipython",
    "version": 3
   },
   "file_extension": ".py",
   "mimetype": "text/x-python",
   "name": "python",
   "nbconvert_exporter": "python",
   "pygments_lexer": "ipython3",
   "version": "3.7.4"
  }
 },
 "nbformat": 4,
 "nbformat_minor": 4
}
