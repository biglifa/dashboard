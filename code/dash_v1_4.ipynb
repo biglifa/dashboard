{
 "cells": [
  {
   "cell_type": "code",
   "execution_count": 1,
   "metadata": {
    "colab": {},
    "colab_type": "code",
    "id": "vHRuv1qvnbp7"
   },
   "outputs": [],
   "source": [
    "import pandas as pd\n",
    "import re\n",
    "import sys\n",
    "sys.path.append('/usr/lib/chromium-browser/chromedriver')\n",
    "from selenium import webdriver\n",
    "from selenium.webdriver import Chrome\n",
    "from selenium.webdriver.chrome.options import Options\n",
    "from selenium.webdriver.common.by import By \n",
    "from selenium.webdriver.support.ui import WebDriverWait \n",
    "from selenium.webdriver.support import expected_conditions as EC\n",
    "from selenium.webdriver.chrome.options import Options\n",
    "from selenium.common.exceptions import NoSuchElementException\n",
    "\n",
    "\n",
    "import time\n",
    "import numpy as np\n",
    "import random\n",
    "import re"
   ]
  },
  {
   "cell_type": "code",
   "execution_count": 2,
   "metadata": {
    "colab": {
     "base_uri": "https://localhost:8080/",
     "height": 51
    },
    "colab_type": "code",
    "id": "-bXprev1nbqR",
    "outputId": "0e6bb9b3-32b4-47d2-8286-3f97c9b93979"
   },
   "outputs": [
    {
     "name": "stderr",
     "output_type": "stream",
     "text": [
      "/home/biglifa/anaconda3/lib/python3.7/site-packages/ipykernel_launcher.py:11: DeprecationWarning: use options instead of chrome_options\n",
      "  # This is added back by InteractiveShellApp.init_path()\n"
     ]
    }
   ],
   "source": [
    "# Activation of Chrome Options\n",
    "\n",
    "chrome_options = Options()\n",
    "chrome_options.add_argument('--headless')\n",
    "chrome_options.add_argument('--no-sandbox')\n",
    "chrome_options.add_argument('--disable-dev-shm-usage')\n",
    "chrome_options.add_argument('--disable-impl-side-painting')\n",
    "\n",
    "\n",
    "#mettre le bon chemin \n",
    "driver = webdriver.Chrome(\"chromedriver\",chrome_options=chrome_options) \n",
    "\n",
    "#recupérer la page web\n",
    "driver.get(\"https://www.persee.fr/search?ta=article&q=fuite+des+cerveaux+europe\")"
   ]
  },
  {
   "cell_type": "code",
   "execution_count": 3,
   "metadata": {
    "colab": {},
    "colab_type": "code",
    "id": "wMDVnrNknbqm"
   },
   "outputs": [],
   "source": [
    "# fonction pause\n",
    "def pause():\n",
    "    time_break = random.randint(1, 2)\n",
    "    return time.sleep(time_break)"
   ]
  },
  {
   "cell_type": "code",
   "execution_count": 4,
   "metadata": {
    "colab": {
     "base_uri": "https://localhost:8080/",
     "height": 71
    },
    "colab_type": "code",
    "id": "lPrOOp6Pnbrb",
    "outputId": "45d32a53-a6bd-4ef5-9eae-77049f1c7afb"
   },
   "outputs": [
    {
     "name": "stderr",
     "output_type": "stream",
     "text": [
      "/home/biglifa/anaconda3/lib/python3.7/site-packages/ipykernel_launcher.py:2: DeprecationWarning: use options instead of chrome_options\n",
      "  \n"
     ]
    }
   ],
   "source": [
    "#Les sites des personnes\n",
    "site_personne= webdriver.Chrome(\"chromedriver\",chrome_options=chrome_options) \n",
    "\n",
    "def f_personne(doc):\n",
    "    \"\"\"\n",
    "        Une fonction pour un document donné et son numero en paramère renvoie les infos des auteurs\n",
    "    \n",
    "    \"\"\"\n",
    "    personnes=[]\n",
    "    try:\n",
    "        contributeur=doc.find_elements_by_class_name(\"contributor\")        \n",
    "        for con in contributeur:\n",
    "            #Au cas ou le lien n'existe pas\n",
    "            try:\n",
    "                #Recuperer le lien et se connecter au site de l'auteur\n",
    "                lien=con.find_element_by_class_name(\"authority\").get_attribute(\"href\")\n",
    "                site_personne.get(lien)\n",
    "\n",
    "                #Recuper les infos de l'auteur\n",
    "                infos=site_personne.find_element_by_class_name(\"authority-idcard\")\n",
    "                info=infos.find_element_by_xpath(\"//h2[@itemprop]\").text\n",
    "\n",
    "                #Son nom\n",
    "                nom=re.search(r\"([A-Z]*\\w*[, .-]*)*\",info).group(0).replace(\",\",\"\")\n",
    "\n",
    "                #Date naissance s'il existe\n",
    "                try:\n",
    "                    birth=re.search(r\"\\([0-9]{4}\",info).group(0)\n",
    "                    birth=int(str(birth)[1:])\n",
    "                except:\n",
    "                    birth=''\n",
    "\n",
    "                #Date de decès s'il existe\n",
    "                try:\n",
    "                    death=re.search(r\"\\-[0-9]{4}\",info).group(0)\n",
    "                    death=int(str(death)[1:])\n",
    "                except:\n",
    "                    death=''\n",
    "            except:\n",
    "                nom=con.find_element_by_class_name(\"authority\").text.replace(\",\",\"\")\n",
    "                birth=''\n",
    "                death=''\n",
    "                pass\n",
    "                 \n",
    "            #Son role \n",
    "            try:\n",
    "                role=con.find_element_by_class_name(\"role\").text\n",
    "                role=str(role)[1:-1]\n",
    "            except NoSuchElementException:\n",
    "                role='Auteur'\n",
    "                pass\n",
    "            \n",
    "            #Son biographie s'il existe (au cas où on voudrait le recupérer)\n",
    "            #try:\n",
    "            #    bio=site.find_element_by_class_name(\"authority-bio\").text\n",
    "            #except:\n",
    "            #    bio=''\n",
    "            #personne.append(bio)\n",
    "            \n",
    "            personnes.append([nom,birth,death,role])\n",
    "    except NoSuchElementException:\n",
    "        personnes=[['','','','']]\n",
    "        \n",
    "    return personnes"
   ]
  },
  {
   "cell_type": "code",
   "execution_count": 5,
   "metadata": {
    "colab": {},
    "colab_type": "code",
    "id": "-J8hM7YXnbr7"
   },
   "outputs": [],
   "source": [
    "def f_document(doc):\n",
    "    \"\"\"\n",
    "        Pour un document donné et le numero, la fonction renvoie son titre, date publication ...\n",
    "    \"\"\"\n",
    "    \n",
    "    #Title\n",
    "    try:\n",
    "        title=doc.find_elements_by_class_name(\"title\")[0].text\n",
    "    except NoSuchElementException:\n",
    "        title=''\n",
    "        pass\n",
    "    \n",
    "    #Type\n",
    "    try:\n",
    "        typee=re.search(r\"\\[\\w+([ ',-]\\w+)*\\]\",doc.find_elements_by_css_selector(\"div\")[0].text).group(0)\n",
    "        typee=str(typee)[1:-1]\n",
    "    except:\n",
    "        typee=''\n",
    "        pass\n",
    "    \n",
    "    #Date de publication\n",
    "    try:\n",
    "        datePub=int(doc.find_element_by_class_name(\"documentYear\").text[5:])\n",
    "    except NoSuchElementException:\n",
    "        datePub=''\n",
    "        pass\n",
    "    \n",
    "    \n",
    "    #Numero publication\n",
    "    try:\n",
    "        numPub=doc.find_element_by_class_name(\"documentIssue\").text\n",
    "    except NoSuchElementException:\n",
    "        numPub=''\n",
    "        pass\n",
    "\n",
    "    #Texte\n",
    "    try:\n",
    "        texte=doc.find_element_by_class_name(\"searchContext\").text\n",
    "    except NoSuchElementException:\n",
    "        texte=''\n",
    "        pass\n",
    "    \n",
    "    return [title,typee,datePub,numPub,texte]"
   ]
  },
  {
   "cell_type": "code",
   "execution_count": 6,
   "metadata": {
    "colab": {
     "base_uri": "https://localhost:8080/",
     "height": 105
    },
    "colab_type": "code",
    "id": "iS3y1pl1nbsP",
    "outputId": "7b1383b8-7964-44ea-9fb5-11cd796093ed"
   },
   "outputs": [
    {
     "name": "stderr",
     "output_type": "stream",
     "text": [
      "/home/biglifa/anaconda3/lib/python3.7/site-packages/ipykernel_launcher.py:2: DeprecationWarning: use options instead of chrome_options\n",
      "  \n",
      "/home/biglifa/anaconda3/lib/python3.7/site-packages/ipykernel_launcher.py:3: DeprecationWarning: use options instead of chrome_options\n",
      "  This is separate from the ipykernel package so we can avoid doing imports until\n"
     ]
    }
   ],
   "source": [
    "#Sites des collections et des collections erudits\n",
    "site_collection= webdriver.Chrome(\"chromedriver\",chrome_options=chrome_options) \n",
    "site_erudit= webdriver.Chrome(\"chromedriver\",chrome_options=chrome_options) \n",
    "\n",
    "def f_collection(doc):\n",
    "    \"\"\"\n",
    "        Pour un document donné en paramètre, il renvoie son eissn, nom ...\n",
    "            \n",
    "    \"\"\"\n",
    "    try:\n",
    "        #Recuperer le lien et se connecter au site\n",
    "        clt=doc.find_element_by_class_name(\"collection\")\n",
    "        lien=clt.find_element_by_css_selector(\"a\").get_attribute(\"href\")\n",
    "        site_collection.get(lien)\n",
    "        try:\n",
    "            info_box=site_collection.find_element_by_class_name(\"info-box\")\n",
    "            divs=info_box.find_elements_by_css_selector(\"div\")\n",
    "            \n",
    "            annee_deb=int(re.search(r\"[0-9]+\",divs[0].text).group(0))\n",
    "            annee_fin=int(re.search(r\" [0-9]+\",divs[0].text).group(0))\n",
    "            nb_num=int(re.search(r\"[0-9]+\",divs[1].text).group(0))\n",
    "            nb_doc=int(re.search(r\"[0-9]+\",divs[2].text).group(0))\n",
    "            try:\n",
    "                issn=re.search(r\"[0-9]+\\-[0-9]+\",divs[3].text).group(0)\n",
    "            except:\n",
    "                issn=str(annee_deb)+'-'+str(annee_fin)\n",
    "\n",
    "            nom_clt=site_collection.find_element_by_id(\"collection-header\").find_element_by_css_selector(\"h2\").text\n",
    "            collection=[issn,nom_clt,nb_num,nb_doc,annee_deb,annee_fin]\n",
    "        except:\n",
    "            #Les sites érudits\n",
    "            nom_clt=site_collection.find_element_by_class_name(\"journal-title\").text\n",
    "        \n",
    "            #Recuperer le lien de redirection et s'y connecter\n",
    "            link=site_collection.find_element_by_css_selector(\"link\").get_attribute(\"href\")\n",
    "            site_erudit.get(link+\"#back-issues\")\n",
    "        \n",
    "        \n",
    "            back=site_erudit.find_element_by_id(\"back-issues\")\n",
    "            nb_num=re.search(r\"[0-9]+\",back.find_element_by_css_selector('h2').text).group(0)\n",
    "            annees=back.find_elements_by_class_name(\"year-list__title\")\n",
    "            annee_fin=annees[0].text\n",
    "            annee_deb=annees[-1].text\n",
    "            nb_doc=len(back.find_elements_by_css_selector(\"li\"))\n",
    "        \n",
    "            fiche=site_erudit.find_elements_by_class_name(\"sidebar-block\")[2].text\n",
    "            issn=re.search(r\"[0-9]+\\-[0-9]+ \\(numérique\",fiche).group(0)[:-11]\n",
    "        \n",
    "            collection=[issn,nom_clt,nb_num,nb_doc,annee_deb,annee_fin]\n",
    "            \n",
    "    except NoSuchElementException:\n",
    "        collection=['','','','','','']\n",
    "        pass\n",
    "    return collection"
   ]
  },
  {
   "cell_type": "code",
   "execution_count": 7,
   "metadata": {
    "colab": {},
    "colab_type": "code",
    "id": "nGbVrkKunbsa"
   },
   "outputs": [],
   "source": [
    "#Creer les dataframes\n",
    "df_document = pd.DataFrame(columns=['num_doc','title','type','annee_publication','num_publication','texte','issn'])\n",
    "df_personne= pd.DataFrame(columns=['nom','annee_naissance','annee_decès'])\n",
    "df_redige=pd.DataFrame(columns=['nom','num_doc','role'])\n",
    "df_collection=pd.DataFrame(columns=['issn','nom_clt','nb_numeros','nb_document','pre_année_pub','der_année_pub'])"
   ]
  },
  {
   "cell_type": "code",
   "execution_count": 8,
   "metadata": {
    "colab": {},
    "colab_type": "code",
    "id": "Crb2VMOiXyR0"
   },
   "outputs": [],
   "source": [
    "#Initialiser\n",
    "N=0\n",
    "M=0\n",
    "j=0 "
   ]
  },
  {
   "cell_type": "code",
   "execution_count": null,
   "metadata": {
    "colab": {
     "base_uri": "https://localhost:8080/",
     "height": 34
    },
    "colab_type": "code",
    "id": "JYKfZQxVnbsy",
    "outputId": "ddcf8b9a-bbd2-489c-d26e-4b2f635649d5",
    "scrolled": true
   },
   "outputs": [],
   "source": [
    "#Je vais recuperer seulement les 50000 premiers documents\n",
    "\n",
    "while N<20000:\n",
    "    \n",
    "    # scroller jusqu'en bas de page\n",
    "    driver.execute_script (\"window.scrollTo (0, document.body.scrollHeight);\")\n",
    "    docs=driver.find_elements_by_class_name(\"doc-result\")\n",
    "    N=len(docs)\n",
    "\n",
    "    if N>M:\n",
    "        for i in range(M,N): \n",
    "            doc=docs[i]\n",
    "        \n",
    "            #Inserer dans le Dataframe collection\n",
    "            collection=f_collection(doc)\n",
    "            if collection[0] not in list(df_collection['issn']):\n",
    "                df_collection.loc[i,:]=collection\n",
    "            \n",
    "            #Inserer dans le Dataframe Document\n",
    "            document=f_document(doc)\n",
    "            document.insert(0,i+1)\n",
    "            document.append(collection[0])\n",
    "            df_document.loc[i,:]=document\n",
    "            \n",
    "            #Inserer dans le Dataframe Personne\n",
    "            personnes=f_personne(doc)\n",
    "            for personne in personnes:\n",
    "                if personne[0] not in list(df_personne['nom']):\n",
    "                    df_personne.loc[j,:]=personne[:-1]\n",
    "            #Inserer dans le Dataframe Redige\n",
    "                df_redige.loc[j,:]=[personne[0],i+1,personne[-1]]\n",
    "                j+=1\n",
    "                  \n",
    "\n",
    "        \n",
    "        M=N\n",
    "    #Se positionner au dernier élement recuperé\n",
    "    driver.execute_script(\"arguments[0].scrollIntoView({behavior: 'smooth', block: 'center', inline: 'nearest'});\", docs[M-1])\n",
    "    if N%1000==0:\n",
    "        print(N)\n",
    "    pause()"
   ]
  },
  {
   "cell_type": "code",
   "execution_count": null,
   "metadata": {
    "colab": {},
    "colab_type": "code",
    "id": "D5VjzBC6Qk_E"
   },
   "outputs": [],
   "source": [
    "df_personne.head()"
   ]
  },
  {
   "cell_type": "code",
   "execution_count": null,
   "metadata": {
    "colab": {},
    "colab_type": "code",
    "id": "gmZcxv_jrRVc"
   },
   "outputs": [],
   "source": [
    "df_document.tail(205)"
   ]
  },
  {
   "cell_type": "code",
   "execution_count": null,
   "metadata": {
    "colab": {},
    "colab_type": "code",
    "id": "EwU237b-nbtA"
   },
   "outputs": [],
   "source": [
    "df_document.head()"
   ]
  },
  {
   "cell_type": "code",
   "execution_count": null,
   "metadata": {
    "colab": {},
    "colab_type": "code",
    "id": "UNeUHQK7nbtY"
   },
   "outputs": [],
   "source": [
    "df_redige.head()"
   ]
  },
  {
   "cell_type": "code",
   "execution_count": null,
   "metadata": {
    "colab": {
     "base_uri": "https://localhost:8080/",
     "height": 163
    },
    "colab_type": "code",
    "id": "-rdY79SPnbti",
    "outputId": "a1365b97-c9a9-4255-9d5c-aa6056d7e417"
   },
   "outputs": [],
   "source": [
    "df_collection.head()"
   ]
  },
  {
   "cell_type": "code",
   "execution_count": null,
   "metadata": {
    "colab": {},
    "colab_type": "code",
    "id": "eCG-7Gfinbtv"
   },
   "outputs": [],
   "source": [
    "#Tranformer en csv\n",
    "df_collection.to_csv(sep=',', path_or_buf='collection'+str(N)+'.csv')\n",
    "df_document.to_csv(sep=',', path_or_buf='documents'+str(N)+'.csv')\n",
    "df_personne.to_csv(sep=',', path_or_buf='personne'+str(N)+'.csv')\n",
    "df_redige.to_csv(sep=',', path_or_buf='redige'+str(N)+'.csv')"
   ]
  },
  {
   "cell_type": "code",
   "execution_count": null,
   "metadata": {
    "colab": {},
    "colab_type": "code",
    "id": "rfKgoERhWk6c"
   },
   "outputs": [],
   "source": []
  },
  {
   "cell_type": "code",
   "execution_count": null,
   "metadata": {
    "colab": {},
    "colab_type": "code",
    "id": "uUEl0F5zWAek"
   },
   "outputs": [],
   "source": []
  }
 ],
 "metadata": {
  "colab": {
   "name": "dash_v1.1.ipynb",
   "provenance": []
  },
  "kernelspec": {
   "display_name": "Python 3",
   "language": "python",
   "name": "python3"
  },
  "language_info": {
   "codemirror_mode": {
    "name": "ipython",
    "version": 3
   },
   "file_extension": ".py",
   "mimetype": "text/x-python",
   "name": "python",
   "nbconvert_exporter": "python",
   "pygments_lexer": "ipython3",
   "version": "3.7.4"
  }
 },
 "nbformat": 4,
 "nbformat_minor": 4
}
