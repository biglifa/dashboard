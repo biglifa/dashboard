{
 "cells": [
  {
   "cell_type": "code",
   "execution_count": 1,
   "metadata": {
    "colab": {},
    "colab_type": "code",
    "id": "Lzhxfh5bIPMz"
   },
   "outputs": [],
   "source": [
    "import pandas as pd\n",
    "import re\n",
    "import time\n",
    "import numpy as np\n",
    "import random\n",
    "import sys\n",
    "sys.path.append('/usr/lib/chromium-browser/chromedriver')\n",
    "from selenium import webdriver\n",
    "from selenium.webdriver import Chrome\n",
    "from selenium.webdriver.chrome.options import Options\n",
    "from selenium.webdriver.common.by import By \n",
    "from selenium.webdriver.support.ui import WebDriverWait \n",
    "from selenium.webdriver.support import expected_conditions as EC\n",
    "from selenium.webdriver.chrome.options import Options\n",
    "from selenium.common.exceptions import NoSuchElementException\n",
    "\n",
    "# Activation of Chrome Options\n",
    "chrome_options = Options()\n",
    "chrome_options.add_argument('--headless')\n",
    "chrome_options.add_argument('--no-sandbox')\n",
    "chrome_options.add_argument('--disable-dev-shm-usage')\n",
    "chrome_options.add_argument('--disable-impl-side-painting')"
   ]
  },
  {
   "cell_type": "markdown",
   "metadata": {
    "colab_type": "text",
    "id": "6TikcVeflRSR"
   },
   "source": [
    "# Fonctions de scrappe"
   ]
  },
  {
   "cell_type": "code",
   "execution_count": 2,
   "metadata": {
    "colab": {
     "base_uri": "https://localhost:8080/",
     "height": 51
    },
    "colab_type": "code",
    "executionInfo": {
     "elapsed": 2732,
     "status": "ok",
     "timestamp": 1584394909226,
     "user": {
      "displayName": "Fallou BAH",
      "photoUrl": "https://lh3.googleusercontent.com/a-/AOh14GgQ3C--84gNEGgo5hZ113Vb_Dp0IlAa__Oc27QWOQ=s64",
      "userId": "04677688741139167736"
     },
     "user_tz": -60
    },
    "id": "HLOr-nHlIPNT",
    "outputId": "1b583881-5fc9-42a9-b6b8-f1ac0c77bc29"
   },
   "outputs": [
    {
     "name": "stderr",
     "output_type": "stream",
     "text": [
      "/home/biglifa/anaconda3/lib/python3.7/site-packages/ipykernel_launcher.py:2: DeprecationWarning: use options instead of chrome_options\n",
      "  \n"
     ]
    }
   ],
   "source": [
    "#Creer une session pour les auteurs.\n",
    "site_auteur= webdriver.Chrome(\"chromedriver\",chrome_options=chrome_options) \n",
    "\n",
    "\n",
    "def f_auteur(doc,i):\n",
    "    \"\"\"\n",
    "        Une fonction pour un document donné en paramère renvoie les infos des auteurs\n",
    "    \n",
    "    \"\"\"\n",
    "    auteurs=[]\n",
    "    try:\n",
    "        #Recuperer les auteurs\n",
    "        contributeur=doc.find_elements_by_class_name(\"contributor\")   \n",
    "        c=1     \n",
    "        for con in contributeur:\n",
    "            #Au cas ou le lien n'existe pas\n",
    "            try:\n",
    "                #Recuperer le lien et se connecter au site de l'auteur\n",
    "                lien=con.find_element_by_class_name(\"authority\").get_attribute(\"href\")\n",
    "                site_auteur.get(lien)\n",
    "\n",
    "                #Le numero de l'auteur\n",
    "                num=lien[32:]\n",
    "\n",
    "                #Recuper les infos de l'auteur\n",
    "                infos=site_auteur.find_element_by_class_name(\"authority-idcard\")\n",
    "                info=infos.find_element_by_xpath(\"//h2[@itemprop]\").text\n",
    "\n",
    "                #Son nom\n",
    "                nom=re.search(r\"([A-Z]*\\w*[, .-]*)*\",info).group(0).replace(\",\",\"\")\n",
    "\n",
    "                #Date naissance s'il existe\n",
    "                try:\n",
    "                    birth=re.search(r\"\\([0-9]{4}\",info).group(0)\n",
    "                    birth=str(birth)[1:]\n",
    "                except:\n",
    "                    birth=''\n",
    "\n",
    "                #Date de decès s'il existe\n",
    "                try:\n",
    "                    death=re.search(r\"\\-[0-9]{4}\",info).group(0)\n",
    "                    death=str(death)[1:]\n",
    "                except:\n",
    "                    death=''\n",
    "\n",
    "                #Son biographie s'il existe. Cela nous permettra après de recuperer sa profession et son pays d'origine\n",
    "                try:\n",
    "                    bio=site_auteur.find_element_by_class_name(\"authority-bio\").text\n",
    "                except:\n",
    "                    bio=''\n",
    "            except:\n",
    "                # Les auteurs du site d'érudit\n",
    "                num='000'+str(i)+str(c)\n",
    "                nom=con.find_element_by_class_name(\"authority\").text.replace(\",\",\"\")\n",
    "                birth=''\n",
    "                death=''\n",
    "                bio=''\n",
    "                pass\n",
    "                 \n",
    "            #Son role s'il exite\n",
    "            try:\n",
    "                role=con.find_element_by_class_name(\"role\").text\n",
    "                role=str(role)[1:-1]\n",
    "            except NoSuchElementException:\n",
    "                role=''\n",
    "                pass\n",
    "            \n",
    "            \n",
    "            auteurs.append([num,nom,birth,death,bio,role])\n",
    "            c+=1\n",
    "    except NoSuchElementException:\n",
    "        auteurs=[['','','','','','']]\n",
    "        \n",
    "    return auteurs"
   ]
  },
  {
   "cell_type": "code",
   "execution_count": 3,
   "metadata": {
    "colab": {},
    "colab_type": "code",
    "id": "JdpLyBzrIPNb"
   },
   "outputs": [],
   "source": [
    "def f_article(doc):\n",
    "    \"\"\"\n",
    "        Pour un document donné, la fonction renvoie les infos sur les articles\n",
    "    \"\"\"\n",
    "    \n",
    "    #Titre\n",
    "    try:\n",
    "        title=doc.find_elements_by_class_name(\"title\")[0].text\n",
    "    except NoSuchElementException:\n",
    "        title=''\n",
    "        pass\n",
    "    \n",
    "    #Type\n",
    "    try:\n",
    "        typee=re.search(r\"\\[\\w+([ ',-]\\w+)*\\]\",doc.find_elements_by_css_selector(\"div\")[0].text).group(0)\n",
    "        typee=str(typee)[1:-1]\n",
    "    except:\n",
    "        typee=''\n",
    "        pass\n",
    "    \n",
    "    #Date de publication\n",
    "    try:\n",
    "        datePub=doc.find_element_by_class_name(\"documentYear\").text[5:]\n",
    "    except NoSuchElementException:\n",
    "        datePub=''\n",
    "        pass\n",
    "    \n",
    "    \n",
    "    #Numero publication\n",
    "    try:\n",
    "        numPub=doc.find_element_by_class_name(\"documentIssue\").text\n",
    "    except NoSuchElementException:\n",
    "        numPub=''\n",
    "        pass\n",
    "\n",
    "    #Abstract\n",
    "    try:\n",
    "        abstract=doc.find_element_by_class_name(\"searchContext\").text\n",
    "    except NoSuchElementException:\n",
    "        abstract=''\n",
    "        pass\n",
    "    \n",
    "    return [title,typee,datePub,numPub,abstract]"
   ]
  },
  {
   "cell_type": "code",
   "execution_count": 4,
   "metadata": {
    "colab": {
     "base_uri": "https://localhost:8080/",
     "height": 85
    },
    "colab_type": "code",
    "executionInfo": {
     "elapsed": 5095,
     "status": "ok",
     "timestamp": 1584394911607,
     "user": {
      "displayName": "Fallou BAH",
      "photoUrl": "https://lh3.googleusercontent.com/a-/AOh14GgQ3C--84gNEGgo5hZ113Vb_Dp0IlAa__Oc27QWOQ=s64",
      "userId": "04677688741139167736"
     },
     "user_tz": -60
    },
    "id": "xb4rvJrqicgu",
    "outputId": "01f92e03-8906-47b0-f07a-d142115c02d6"
   },
   "outputs": [
    {
     "name": "stderr",
     "output_type": "stream",
     "text": [
      "/home/biglifa/anaconda3/lib/python3.7/site-packages/ipykernel_launcher.py:2: DeprecationWarning: use options instead of chrome_options\n",
      "  \n",
      "/home/biglifa/anaconda3/lib/python3.7/site-packages/ipykernel_launcher.py:3: DeprecationWarning: use options instead of chrome_options\n",
      "  This is separate from the ipykernel package so we can avoid doing imports until\n"
     ]
    }
   ],
   "source": [
    "#Session pour les collections de persee et les collections d'erudits\n",
    "site_persee= webdriver.Chrome(\"chromedriver\",chrome_options=chrome_options) \n",
    "site_erudit= webdriver.Chrome(\"chromedriver\",chrome_options=chrome_options) \n",
    "\n",
    "def f_collection(doc):\n",
    "    \"\"\"\n",
    "        Pour un document donné en paramètre, il renvoie les infos sur les collections\n",
    "            \n",
    "    \"\"\"\n",
    "    try:\n",
    "        #Recuperer le lien et se connecter au site\n",
    "        clt=doc.find_element_by_class_name(\"collection\")\n",
    "        lien=clt.find_element_by_css_selector(\"a\").get_attribute(\"href\")\n",
    "        site_persee.get(lien)\n",
    "\n",
    "        #Si le site est un site de persée\n",
    "        try:\n",
    "            info_box=site_persee.find_element_by_class_name(\"info-box\")\n",
    "            divs=info_box.find_elements_by_css_selector(\"div\")\n",
    "            \n",
    "            annee_deb=int(re.search(r\"[0-9]+\",divs[0].text).group(0))\n",
    "            annee_fin=int(re.search(r\" [0-9]+\",divs[0].text).group(0))\n",
    "            nb_num=int(re.search(r\"[0-9]+\",divs[1].text).group(0))\n",
    "            nb_doc=int(re.search(r\"[0-9]+\",divs[2].text).group(0))\n",
    "            try:\n",
    "                issn1=re.search(r\"[0-9]+\\-[0-9]+\",divs[3].text).group(0)\n",
    "                ss=0\n",
    "            except:\n",
    "                issn1=str(annee_deb)+'-'+str(annee_fin)\n",
    "                ss=1\n",
    "\n",
    "            #Cliquer sur INFORMATION de la page persée\n",
    "            bouton = site_persee.find_element_by_id(\"tab-header-item-information\")\n",
    "            if bouton : \n",
    "                if bouton.is_displayed() :\n",
    "                    bouton.click()\n",
    "                    pause()\n",
    "\n",
    "            table=site_persee.find_element_by_css_selector(\"table\")\n",
    "            trs=table.find_elements_by_css_selector(\"tr\")\n",
    "            discipline=trs[2].find_elements_by_css_selector(\"td\")[1].text\n",
    "            editeur=trs[3].find_elements_by_css_selector(\"td\")[1].text\n",
    "\n",
    "            try:\n",
    "                issn2=trs[4].find_elements_by_css_selector(\"td\")[1].text\n",
    "            except:\n",
    "                issn2=issn1\n",
    "                ss=2\n",
    "\n",
    "            if ss==0:\n",
    "                issn=issn1\n",
    "            else:\n",
    "                issn=iss2\n",
    "        \n",
    "\n",
    "            nom_clt=site_persee.find_element_by_id(\"collection-header\").find_element_by_css_selector(\"h2\").text\n",
    "            collection=[issn,nom_clt,nb_num,nb_doc,annee_deb,annee_fin,discipline,editeur]\n",
    "        except:\n",
    "            #Si le site est un site d'érudit\n",
    "            nom_clt=site_persee.find_element_by_class_name(\"journal-title\").text\n",
    "        \n",
    "            #Recuperer le lien de redirection et s'y connecter\n",
    "            link=site_persee.find_element_by_css_selector(\"link\").get_attribute(\"href\")\n",
    "            site_erudit.get(link+\"#back-issues\")\n",
    "        \n",
    "            #Recuperer les infos\n",
    "            back=site_erudit.find_element_by_id(\"back-issues\")\n",
    "            nb_num=re.search(r\"[0-9]+\",back.find_element_by_css_selector('h2').text).group(0)\n",
    "            annees=back.find_elements_by_class_name(\"year-list__title\")\n",
    "            annee_fin=annees[0].text\n",
    "            annee_deb=annees[-1].text\n",
    "            nb_doc=len(back.find_elements_by_css_selector(\"li\"))\n",
    "        \n",
    "            fiche=site_erudit.find_elements_by_class_name(\"sidebar-block\")[2].text\n",
    "\n",
    "            try:\n",
    "                issn=re.search(r\"[0-9]+\\-[0-9]+ \\(numérique\",fiche).group(0)[:-11]\n",
    "            except:\n",
    "                issn=str(annee_deb)+'-'+str(annee_fin)\n",
    "\n",
    "            try:\n",
    "                editeur=re.search(r\"Éditeur[s]?\\n.+\",fiche).group(0)\n",
    "                editeur=editeur.split()[1:]\n",
    "                editeur=' '.join(editeur)    \n",
    "            except:\n",
    "                editeur=''        \n",
    "\n",
    "            try:\n",
    "                discipline=re.search(r\"Discipline[s]?\\n.+\",fiche).group(0)\n",
    "                discipline=discipline.split()[1:]\n",
    "                discipline=' '.join(discipline)\n",
    "            except:\n",
    "                discipline=''\n",
    "\n",
    "            collection=[issn,nom_clt,nb_num,nb_doc,annee_deb,annee_fin,discipline,editeur]\n",
    "            \n",
    "    except NoSuchElementException:\n",
    "        collection=['','','','','','','','']\n",
    "        pass\n",
    "    return collection"
   ]
  },
  {
   "cell_type": "markdown",
   "metadata": {},
   "source": [
    "## Scrapper"
   ]
  },
  {
   "cell_type": "code",
   "execution_count": 5,
   "metadata": {
    "colab": {},
    "colab_type": "code",
    "id": "F3sZy5jzkJ3W"
   },
   "outputs": [],
   "source": [
    "#Creer les dataframes\n",
    "df_article = pd.DataFrame(columns=['num_doc','title','type','annee_publication','num_publication','abstract','issn'])\n",
    "df_auteur= pd.DataFrame(columns=['num','nom','annee_naissance','annee_decès','bio'])\n",
    "df_redige=pd.DataFrame(columns=['nom','num_doc','role'])\n",
    "df_collection=pd.DataFrame(columns=['issn','nom_clt','nb_numeros','nb_document','pre_année_pub','der_année_pub','discpline','editeur'])"
   ]
  },
  {
   "cell_type": "code",
   "execution_count": 6,
   "metadata": {
    "colab": {
     "base_uri": "https://localhost:8080/",
     "height": 51
    },
    "colab_type": "code",
    "executionInfo": {
     "elapsed": 13512,
     "status": "ok",
     "timestamp": 1584394920039,
     "user": {
      "displayName": "Fallou BAH",
      "photoUrl": "https://lh3.googleusercontent.com/a-/AOh14GgQ3C--84gNEGgo5hZ113Vb_Dp0IlAa__Oc27QWOQ=s64",
      "userId": "04677688741139167736"
     },
     "user_tz": -60
    },
    "id": "6aa0uaInIPNB",
    "outputId": "b4595632-eec0-4644-fc59-d5012763b1ca"
   },
   "outputs": [
    {
     "name": "stderr",
     "output_type": "stream",
     "text": [
      "/home/biglifa/anaconda3/lib/python3.7/site-packages/ipykernel_launcher.py:2: DeprecationWarning: use options instead of chrome_options\n",
      "  \n"
     ]
    }
   ],
   "source": [
    "#Mettre le bon chemin \n",
    "driver = webdriver.Chrome(\"chromedriver\",chrome_options=chrome_options) \n",
    "\n",
    "#Recupérer la page web\n",
    "driver.get(\"https://www.persee.fr/search?ta=article&q=fuite+des+cerveaux+europe\")\n",
    "\n",
    "#Fonction pause\n",
    "def pause():\n",
    "    time_break = random.randint(1, 2)\n",
    "    return time.sleep(time_break)"
   ]
  },
  {
   "cell_type": "code",
   "execution_count": 7,
   "metadata": {
    "colab": {},
    "colab_type": "code",
    "id": "0tVP6x1iKl6e"
   },
   "outputs": [],
   "source": [
    "#Initialiser\n",
    "j=0\n",
    "M=0\n",
    "N=0"
   ]
  },
  {
   "cell_type": "code",
   "execution_count": 8,
   "metadata": {
    "colab": {
     "base_uri": "https://localhost:8080/",
     "height": 238
    },
    "colab_type": "code",
    "executionInfo": {
     "elapsed": 11762381,
     "status": "ok",
     "timestamp": 1584406688056,
     "user": {
      "displayName": "Fallou BAH",
      "photoUrl": "https://lh3.googleusercontent.com/a-/AOh14GgQ3C--84gNEGgo5hZ113Vb_Dp0IlAa__Oc27QWOQ=s64",
      "userId": "04677688741139167736"
     },
     "user_tz": -60
    },
    "id": "6E69LgVPmSiL",
    "outputId": "d7106366-e803-4a7b-a6de-ac59d2d2eea2"
   },
   "outputs": [],
   "source": [
    "#On recupere les 10000 premieres articles\n",
    "\n",
    "while N<10000:\n",
    "    \n",
    "    # scroller jusqu'en bas de page\n",
    "    driver.execute_script(\"window.scrollTo (0, document.body.scrollHeight);\")\n",
    "    docs=driver.find_elements_by_class_name(\"doc-result\")\n",
    "    N=len(docs)\n",
    "\n",
    "    #Se positionner au dernière élement recuperé\n",
    "    driver.execute_script(\"arguments[0].scrollIntoView({behavior: 'smooth', block: 'center', inline: 'nearest'});\", docs[N-1])\n",
    "    pause()"
   ]
  },
  {
   "cell_type": "code",
   "execution_count": 9,
   "metadata": {
    "colab": {
     "base_uri": "https://localhost:8080/",
     "height": 255
    },
    "colab_type": "code",
    "executionInfo": {
     "elapsed": 3059399,
     "status": "ok",
     "timestamp": 1584301037020,
     "user": {
      "displayName": "Fallou BAH",
      "photoUrl": "https://lh3.googleusercontent.com/a-/AOh14GgQ3C--84gNEGgo5hZ113Vb_Dp0IlAa__Oc27QWOQ=s64",
      "userId": "04677688741139167736"
     },
     "user_tz": -60
    },
    "id": "lxFZ2pc5k0uB",
    "outputId": "a8c62e95-3d6d-4d56-8724-5058c025ccd7"
   },
   "outputs": [],
   "source": [
    "#Une fois recuperer, inserer\n",
    "for i in range(M,N): \n",
    "    doc=docs[i]\n",
    "        \n",
    "    #Inserer collection\n",
    "    collection=f_collection(doc)\n",
    "    if collection[0] not in list(df_collection['issn']):\n",
    "        df_collection.loc[i,:]=collection\n",
    "    \n",
    "    #Inserer article\n",
    "    article=f_article(doc)\n",
    "    article.insert(0,i+1)\n",
    "    article.append(collection[0])\n",
    "    df_article.loc[i,:]=article\n",
    "    \n",
    "    #Inserer auteur\n",
    "    auteurs=f_auteur(doc,i)\n",
    "    for auteur in auteurs:\n",
    "        if auteur[0] not in list(df_auteur['num']):\n",
    "            df_auteur.loc[j,:]=auteur[:-1]\n",
    "\n",
    "    #Inserer redige\n",
    "        df_redige.loc[j,:]=[auteur[0],i+1,auteur[-1]]\n",
    "        j+=1\n",
    "M=N   "
   ]
  },
  {
   "cell_type": "code",
   "execution_count": 10,
   "metadata": {
    "colab": {
     "base_uri": "https://localhost:8080/",
     "height": 214
    },
    "colab_type": "code",
    "executionInfo": {
     "elapsed": 1311,
     "status": "error",
     "timestamp": 1584394849134,
     "user": {
      "displayName": "Fallou BAH",
      "photoUrl": "https://lh3.googleusercontent.com/a-/AOh14GgQ3C--84gNEGgo5hZ113Vb_Dp0IlAa__Oc27QWOQ=s64",
      "userId": "04677688741139167736"
     },
     "user_tz": -60
    },
    "id": "nhahdw3pIPOT",
    "outputId": "b2675a8a-4590-48ff-f3f0-7cb01d57e4b1"
   },
   "outputs": [],
   "source": [
    "#Tranformer en csv\n",
    "df_collection.to_csv(sep=',', path_or_buf='../data/df_collection.csv',index=False)\n",
    "df_article.to_csv(sep=',', path_or_buf='../data/df_article.csv',index=False)\n",
    "df_auteur.to_csv(sep=',', path_or_buf='../data/df_auteur.csv',index=False)\n",
    "df_redige.to_csv(sep=',', path_or_buf='../data/df_redige.csv',index=False)"
   ]
  },
  {
   "cell_type": "code",
   "execution_count": 11,
   "metadata": {
    "colab": {
     "base_uri": "https://localhost:8080/",
     "height": 530
    },
    "colab_type": "code",
    "executionInfo": {
     "elapsed": 674,
     "status": "error",
     "timestamp": 1584238113997,
     "user": {
      "displayName": "Fallou BAH",
      "photoUrl": "https://lh3.googleusercontent.com/a-/AOh14GgQ3C--84gNEGgo5hZ113Vb_Dp0IlAa__Oc27QWOQ=s64",
      "userId": "04677688741139167736"
     },
     "user_tz": -60
    },
    "id": "t_bTWqy30P1U",
    "outputId": "53aa200a-f0b3-484a-f55f-8fec9f00e366"
   },
   "outputs": [],
   "source": [
    "#Fermer les sessions\n",
    "driver.close()\n",
    "site_erudit.close()\n",
    "site_persee.close()\n",
    "site_personne.close()"
   ]
  },
  {
   "cell_type": "code",
   "execution_count": null,
   "metadata": {
    "colab": {},
    "colab_type": "code",
    "id": "lJf7f4o2801y"
   },
   "outputs": [],
   "source": []
  }
 ],
 "metadata": {
  "colab": {
   "collapsed_sections": [],
   "name": "Extraction_vf.ipynb",
   "provenance": []
  },
  "kernelspec": {
   "display_name": "Python 3",
   "language": "python",
   "name": "python3"
  },
  "language_info": {
   "codemirror_mode": {
    "name": "ipython",
    "version": 3
   },
   "file_extension": ".py",
   "mimetype": "text/x-python",
   "name": "python",
   "nbconvert_exporter": "python",
   "pygments_lexer": "ipython3",
   "version": "3.7.4"
  }
 },
 "nbformat": 4,
 "nbformat_minor": 4
}
