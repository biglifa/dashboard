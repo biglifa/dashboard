{
  "nbformat": 4,
  "nbformat_minor": 0,
  "metadata": {
    "colab": {
      "name": "Pretraitement.ipynb",
      "provenance": [],
      "collapsed_sections": [
        "KdvOGn7VrMQz"
      ],
      "toc_visible": true
    },
    "kernelspec": {
      "name": "python3",
      "display_name": "Python 3"
    }
  },
  "cells": [
    {
      "cell_type": "code",
      "metadata": {
        "id": "YtlqKe-2ovDA",
        "colab_type": "code",
        "outputId": "0e68acc7-2318-4616-ac1e-d1dae3e2c188",
        "colab": {
          "base_uri": "https://localhost:8080/",
          "height": 357
        }
      },
      "source": [
        "#Installer des modules qu'on aurait besoin\n",
        "!pip install pycountry\n",
        "!pip install pays"
      ],
      "execution_count": 0,
      "outputs": [
        {
          "output_type": "stream",
          "text": [
            "Collecting pycountry\n",
            "\u001b[?25l  Downloading https://files.pythonhosted.org/packages/16/b6/154fe93072051d8ce7bf197690957b6d0ac9a21d51c9a1d05bd7c6fdb16f/pycountry-19.8.18.tar.gz (10.0MB)\n",
            "\u001b[K     |████████████████████████████████| 10.0MB 553kB/s \n",
            "\u001b[?25hBuilding wheels for collected packages: pycountry\n",
            "  Building wheel for pycountry (setup.py) ... \u001b[?25l\u001b[?25hdone\n",
            "  Created wheel for pycountry: filename=pycountry-19.8.18-py2.py3-none-any.whl size=10627361 sha256=f9b9f69f810a5fdd24b8cc1a54bb139aa2afc62008b52bc167cddcad26ef53c5\n",
            "  Stored in directory: /root/.cache/pip/wheels/a2/98/bf/f0fa1c6bf8cf2cbdb750d583f84be51c2cd8272460b8b36bd3\n",
            "Successfully built pycountry\n",
            "Installing collected packages: pycountry\n",
            "Successfully installed pycountry-19.8.18\n",
            "Collecting pays\n",
            "\u001b[?25l  Downloading https://files.pythonhosted.org/packages/01/e1/aad71394624467fbe91cc88f257cadb2dee758b3ba1e11cf88ff1044e1ee/pays-0.2.3.tar.gz (112kB)\n",
            "\u001b[K     |████████████████████████████████| 112kB 2.7MB/s \n",
            "\u001b[?25hBuilding wheels for collected packages: pays\n",
            "  Building wheel for pays (setup.py) ... \u001b[?25l\u001b[?25hdone\n",
            "  Created wheel for pays: filename=pays-0.2.3-cp36-none-any.whl size=116955 sha256=ccdcb926dc28ea2de6907f526fca3d0ef4a7f454f07c1776fcc229b43496d520\n",
            "  Stored in directory: /root/.cache/pip/wheels/00/6b/52/3741cf41083453c269d6948d6716d84363e464fb5698ee5c6f\n",
            "Successfully built pays\n",
            "Installing collected packages: pays\n",
            "Successfully installed pays-0.2.3\n"
          ],
          "name": "stdout"
        }
      ]
    },
    {
      "cell_type": "code",
      "metadata": {
        "id": "hQ0WzDZKpiId",
        "colab_type": "code",
        "outputId": "7cdbbb5a-cf76-439f-f94e-40b4707e8725",
        "colab": {
          "base_uri": "https://localhost:8080/",
          "height": 51
        }
      },
      "source": [
        "import pycountry as py\n",
        "import pandas as pd\n",
        "import re\n",
        "import numpy as np\n",
        "import nltk \n",
        "from nltk import PorterStemmer, download\n",
        "from nltk.corpus import stopwords\n",
        "from string import punctuation\n",
        "download('stopwords')\n",
        "import collections as c"
      ],
      "execution_count": 0,
      "outputs": [
        {
          "output_type": "stream",
          "text": [
            "[nltk_data] Downloading package stopwords to /root/nltk_data...\n",
            "[nltk_data]   Unzipping corpora/stopwords.zip.\n"
          ],
          "name": "stdout"
        }
      ]
    },
    {
      "cell_type": "code",
      "metadata": {
        "id": "NXuNwnRLqxAn",
        "colab_type": "code",
        "outputId": "ef9269d9-3966-459a-f95e-3f74a0126fee",
        "colab": {
          "base_uri": "https://localhost:8080/",
          "height": 122
        }
      },
      "source": [
        "from google.colab import drive\n",
        "drive.mount('/content/drive')"
      ],
      "execution_count": 0,
      "outputs": [
        {
          "output_type": "stream",
          "text": [
            "Go to this URL in a browser: https://accounts.google.com/o/oauth2/auth?client_id=947318989803-6bn6qk8qdgf4n4g3pfee6491hc0brc4i.apps.googleusercontent.com&redirect_uri=urn%3aietf%3awg%3aoauth%3a2.0%3aoob&response_type=code&scope=email%20https%3a%2f%2fwww.googleapis.com%2fauth%2fdocs.test%20https%3a%2f%2fwww.googleapis.com%2fauth%2fdrive%20https%3a%2f%2fwww.googleapis.com%2fauth%2fdrive.photos.readonly%20https%3a%2f%2fwww.googleapis.com%2fauth%2fpeopleapi.readonly\n",
            "\n",
            "Enter your authorization code:\n",
            "··········\n",
            "Mounted at /content/drive\n"
          ],
          "name": "stdout"
        }
      ]
    },
    {
      "cell_type": "code",
      "metadata": {
        "id": "Dk0u82VdrCLp",
        "colab_type": "code",
        "colab": {}
      },
      "source": [
        "df_collection=pd.read_csv('/content/drive/My Drive/Colab Notebooks/collection_v51.csv')\n",
        "df_article=pd.read_csv('/content/drive/My Drive/Colab Notebooks/documents_v51.csv')\n",
        "df_auteur=pd.read_csv('/content/drive/My Drive/Colab Notebooks/personne_v51.csv')\n",
        "df_redige=pd.read_csv('/content/drive/My Drive/Colab Notebooks/redige_v51.csv')"
      ],
      "execution_count": 0,
      "outputs": []
    },
    {
      "cell_type": "markdown",
      "metadata": {
        "id": "KdvOGn7VrMQz",
        "colab_type": "text"
      },
      "source": [
        "# Collection"
      ]
    },
    {
      "cell_type": "code",
      "metadata": {
        "id": "yQaT25aMrgEZ",
        "colab_type": "code",
        "outputId": "870667d5-133e-474c-fbc4-d3097e24618b",
        "colab": {
          "base_uri": "https://localhost:8080/",
          "height": 204
        }
      },
      "source": [
        "df_collection.head()"
      ],
      "execution_count": 0,
      "outputs": [
        {
          "output_type": "execute_result",
          "data": {
            "text/html": [
              "<div>\n",
              "<style scoped>\n",
              "    .dataframe tbody tr th:only-of-type {\n",
              "        vertical-align: middle;\n",
              "    }\n",
              "\n",
              "    .dataframe tbody tr th {\n",
              "        vertical-align: top;\n",
              "    }\n",
              "\n",
              "    .dataframe thead th {\n",
              "        text-align: right;\n",
              "    }\n",
              "</style>\n",
              "<table border=\"1\" class=\"dataframe\">\n",
              "  <thead>\n",
              "    <tr style=\"text-align: right;\">\n",
              "      <th></th>\n",
              "      <th>issn</th>\n",
              "      <th>nom_clt</th>\n",
              "      <th>nb_numeros</th>\n",
              "      <th>nb_document</th>\n",
              "      <th>pre_année_pub</th>\n",
              "      <th>der_année_pub</th>\n",
              "      <th>discpline</th>\n",
              "      <th>editeur</th>\n",
              "    </tr>\n",
              "  </thead>\n",
              "  <tbody>\n",
              "    <tr>\n",
              "      <th>0</th>\n",
              "      <td>2262-3353</td>\n",
              "      <td>Hommes &amp; Migrations</td>\n",
              "      <td>180.0</td>\n",
              "      <td>4523.0</td>\n",
              "      <td>1987.0</td>\n",
              "      <td>2008.0</td>\n",
              "      <td>démographie, science politique</td>\n",
              "      <td>Musée de l'Histoire de l'Immigration</td>\n",
              "    </tr>\n",
              "    <tr>\n",
              "      <th>1</th>\n",
              "      <td>1950-6694</td>\n",
              "      <td>Revue économique</td>\n",
              "      <td>320.0</td>\n",
              "      <td>6776.0</td>\n",
              "      <td>1950.0</td>\n",
              "      <td>2002.0</td>\n",
              "      <td>économie</td>\n",
              "      <td>SciencesPo</td>\n",
              "    </tr>\n",
              "    <tr>\n",
              "      <th>2</th>\n",
              "      <td>1783-1768</td>\n",
              "      <td>Revue Philosophique de Louvain</td>\n",
              "      <td>441.0</td>\n",
              "      <td>12292.0</td>\n",
              "      <td>1894.0</td>\n",
              "      <td>2015.0</td>\n",
              "      <td>philosophie</td>\n",
              "      <td>Peeters</td>\n",
              "    </tr>\n",
              "    <tr>\n",
              "      <th>3</th>\n",
              "      <td>1957-7966</td>\n",
              "      <td>Population</td>\n",
              "      <td>320.0</td>\n",
              "      <td>12794.0</td>\n",
              "      <td>1946.0</td>\n",
              "      <td>2004.0</td>\n",
              "      <td>démographie</td>\n",
              "      <td>INED (Institut national d’études démographiques)</td>\n",
              "    </tr>\n",
              "    <tr>\n",
              "      <th>4</th>\n",
              "      <td>1777-5418</td>\n",
              "      <td>Revue Européenne des Migrations Internationales</td>\n",
              "      <td>49.0</td>\n",
              "      <td>814.0</td>\n",
              "      <td>1985.0</td>\n",
              "      <td>2001.0</td>\n",
              "      <td>démographie</td>\n",
              "      <td>MSH Poitiers</td>\n",
              "    </tr>\n",
              "  </tbody>\n",
              "</table>\n",
              "</div>"
            ],
            "text/plain": [
              "        issn  ...                                           editeur\n",
              "0  2262-3353  ...              Musée de l'Histoire de l'Immigration\n",
              "1  1950-6694  ...                                        SciencesPo\n",
              "2  1783-1768  ...                                           Peeters\n",
              "3  1957-7966  ...  INED (Institut national d’études démographiques)\n",
              "4  1777-5418  ...                                      MSH Poitiers\n",
              "\n",
              "[5 rows x 8 columns]"
            ]
          },
          "metadata": {
            "tags": []
          },
          "execution_count": 13
        }
      ]
    },
    {
      "cell_type": "code",
      "metadata": {
        "id": "3yZL2CW-mDd3",
        "colab_type": "code",
        "outputId": "35b37183-7583-408e-c154-41debc513601",
        "colab": {
          "base_uri": "https://localhost:8080/",
          "height": 49
        }
      },
      "source": [
        "df_collection[df_collection['discpline'].isnull()]"
      ],
      "execution_count": 0,
      "outputs": [
        {
          "output_type": "execute_result",
          "data": {
            "text/html": [
              "<div>\n",
              "<style scoped>\n",
              "    .dataframe tbody tr th:only-of-type {\n",
              "        vertical-align: middle;\n",
              "    }\n",
              "\n",
              "    .dataframe tbody tr th {\n",
              "        vertical-align: top;\n",
              "    }\n",
              "\n",
              "    .dataframe thead th {\n",
              "        text-align: right;\n",
              "    }\n",
              "</style>\n",
              "<table border=\"1\" class=\"dataframe\">\n",
              "  <thead>\n",
              "    <tr style=\"text-align: right;\">\n",
              "      <th></th>\n",
              "      <th>issn</th>\n",
              "      <th>nom_clt</th>\n",
              "      <th>nb_numeros</th>\n",
              "      <th>nb_document</th>\n",
              "      <th>pre_année_pub</th>\n",
              "      <th>der_année_pub</th>\n",
              "      <th>discpline</th>\n",
              "      <th>editeur</th>\n",
              "    </tr>\n",
              "  </thead>\n",
              "  <tbody>\n",
              "  </tbody>\n",
              "</table>\n",
              "</div>"
            ],
            "text/plain": [
              "Empty DataFrame\n",
              "Columns: [issn, nom_clt, nb_numeros, nb_document, pre_année_pub, der_année_pub, discpline, editeur]\n",
              "Index: []"
            ]
          },
          "metadata": {
            "tags": []
          },
          "execution_count": 76
        }
      ]
    },
    {
      "cell_type": "code",
      "metadata": {
        "id": "gcnRk1QMs7sD",
        "colab_type": "code",
        "colab": {}
      },
      "source": [
        "#Supprimer des collections non referencées\n",
        "df_collection.drop([26,166,215], inplace=True)"
      ],
      "execution_count": 0,
      "outputs": []
    },
    {
      "cell_type": "code",
      "metadata": {
        "id": "albpCunmueiI",
        "colab_type": "code",
        "colab": {}
      },
      "source": [
        "df_collection=df_collection.fillna('')"
      ],
      "execution_count": 0,
      "outputs": []
    },
    {
      "cell_type": "code",
      "metadata": {
        "id": "w0S-BceurpD1",
        "colab_type": "code",
        "outputId": "56b5c1bc-b3bc-4f10-b510-38088abd73a7",
        "colab": {
          "base_uri": "https://localhost:8080/",
          "height": 204
        }
      },
      "source": [
        "df_collection['nb_numeros']=df_collection['nb_numeros'].astype(int)\n",
        "df_collection['nb_document']=df_collection['nb_document'].astype(int)\n",
        "df_collection['pre_année_pub']=df_collection['pre_année_pub'].astype(int)\n",
        "df_collection['der_année_pub']=df_collection['der_année_pub'].astype(int)\n",
        "df_collection.head()"
      ],
      "execution_count": 0,
      "outputs": [
        {
          "output_type": "execute_result",
          "data": {
            "text/html": [
              "<div>\n",
              "<style scoped>\n",
              "    .dataframe tbody tr th:only-of-type {\n",
              "        vertical-align: middle;\n",
              "    }\n",
              "\n",
              "    .dataframe tbody tr th {\n",
              "        vertical-align: top;\n",
              "    }\n",
              "\n",
              "    .dataframe thead th {\n",
              "        text-align: right;\n",
              "    }\n",
              "</style>\n",
              "<table border=\"1\" class=\"dataframe\">\n",
              "  <thead>\n",
              "    <tr style=\"text-align: right;\">\n",
              "      <th></th>\n",
              "      <th>issn</th>\n",
              "      <th>nom_clt</th>\n",
              "      <th>nb_numeros</th>\n",
              "      <th>nb_document</th>\n",
              "      <th>pre_année_pub</th>\n",
              "      <th>der_année_pub</th>\n",
              "      <th>discpline</th>\n",
              "      <th>editeur</th>\n",
              "    </tr>\n",
              "  </thead>\n",
              "  <tbody>\n",
              "    <tr>\n",
              "      <th>0</th>\n",
              "      <td>2262-3353</td>\n",
              "      <td>Hommes &amp; Migrations</td>\n",
              "      <td>180</td>\n",
              "      <td>4523</td>\n",
              "      <td>1987</td>\n",
              "      <td>2008</td>\n",
              "      <td>démographie, science politique</td>\n",
              "      <td>Musée de l'Histoire de l'Immigration</td>\n",
              "    </tr>\n",
              "    <tr>\n",
              "      <th>1</th>\n",
              "      <td>1950-6694</td>\n",
              "      <td>Revue économique</td>\n",
              "      <td>320</td>\n",
              "      <td>6776</td>\n",
              "      <td>1950</td>\n",
              "      <td>2002</td>\n",
              "      <td>économie</td>\n",
              "      <td>SciencesPo</td>\n",
              "    </tr>\n",
              "    <tr>\n",
              "      <th>2</th>\n",
              "      <td>1783-1768</td>\n",
              "      <td>Revue Philosophique de Louvain</td>\n",
              "      <td>441</td>\n",
              "      <td>12292</td>\n",
              "      <td>1894</td>\n",
              "      <td>2015</td>\n",
              "      <td>philosophie</td>\n",
              "      <td>Peeters</td>\n",
              "    </tr>\n",
              "    <tr>\n",
              "      <th>3</th>\n",
              "      <td>1957-7966</td>\n",
              "      <td>Population</td>\n",
              "      <td>320</td>\n",
              "      <td>12794</td>\n",
              "      <td>1946</td>\n",
              "      <td>2004</td>\n",
              "      <td>démographie</td>\n",
              "      <td>INED (Institut national d’études démographiques)</td>\n",
              "    </tr>\n",
              "    <tr>\n",
              "      <th>4</th>\n",
              "      <td>1777-5418</td>\n",
              "      <td>Revue Européenne des Migrations Internationales</td>\n",
              "      <td>49</td>\n",
              "      <td>814</td>\n",
              "      <td>1985</td>\n",
              "      <td>2001</td>\n",
              "      <td>démographie</td>\n",
              "      <td>MSH Poitiers</td>\n",
              "    </tr>\n",
              "  </tbody>\n",
              "</table>\n",
              "</div>"
            ],
            "text/plain": [
              "        issn  ...                                           editeur\n",
              "0  2262-3353  ...              Musée de l'Histoire de l'Immigration\n",
              "1  1950-6694  ...                                        SciencesPo\n",
              "2  1783-1768  ...                                           Peeters\n",
              "3  1957-7966  ...  INED (Institut national d’études démographiques)\n",
              "4  1777-5418  ...                                      MSH Poitiers\n",
              "\n",
              "[5 rows x 8 columns]"
            ]
          },
          "metadata": {
            "tags": []
          },
          "execution_count": 77
        }
      ]
    },
    {
      "cell_type": "code",
      "metadata": {
        "id": "3jEs0iCswe8w",
        "colab_type": "code",
        "colab": {}
      },
      "source": [
        "df_collection.to_csv(sep=',', path_or_buf='/content/drive/My Drive/Colab Notebooks/t_collection.csv',index=False)"
      ],
      "execution_count": 0,
      "outputs": []
    },
    {
      "cell_type": "markdown",
      "metadata": {
        "id": "JuXL0o4lxSc2",
        "colab_type": "text"
      },
      "source": [
        "# Article\n"
      ]
    },
    {
      "cell_type": "code",
      "metadata": {
        "id": "WzTeXn_kx_yA",
        "colab_type": "code",
        "outputId": "ba8a5663-441b-47f2-841d-e926a9a3cc92",
        "colab": {
          "base_uri": "https://localhost:8080/",
          "height": 204
        }
      },
      "source": [
        "df_article[['num_doc','annee_publication']]=df_article[['num_doc','annee_publication']].astype(int)\n",
        "df_article.head()"
      ],
      "execution_count": 0,
      "outputs": [
        {
          "output_type": "execute_result",
          "data": {
            "text/html": [
              "<div>\n",
              "<style scoped>\n",
              "    .dataframe tbody tr th:only-of-type {\n",
              "        vertical-align: middle;\n",
              "    }\n",
              "\n",
              "    .dataframe tbody tr th {\n",
              "        vertical-align: top;\n",
              "    }\n",
              "\n",
              "    .dataframe thead th {\n",
              "        text-align: right;\n",
              "    }\n",
              "</style>\n",
              "<table border=\"1\" class=\"dataframe\">\n",
              "  <thead>\n",
              "    <tr style=\"text-align: right;\">\n",
              "      <th></th>\n",
              "      <th>num_doc</th>\n",
              "      <th>title</th>\n",
              "      <th>type</th>\n",
              "      <th>annee_publication</th>\n",
              "      <th>num_publication</th>\n",
              "      <th>abstract</th>\n",
              "      <th>issn</th>\n",
              "    </tr>\n",
              "  </thead>\n",
              "  <tbody>\n",
              "    <tr>\n",
              "      <th>0</th>\n",
              "      <td>1</td>\n",
              "      <td>La fuite des cerveaux : le cas de l'ex-URSS</td>\n",
              "      <td>article</td>\n",
              "      <td>1992</td>\n",
              "      <td>1155</td>\n",
              "      <td>La fuite des cerveaux : le cas de l'ex-URSS......</td>\n",
              "      <td>2262-3353</td>\n",
              "    </tr>\n",
              "    <tr>\n",
              "      <th>1</th>\n",
              "      <td>2</td>\n",
              "      <td>Croissance, redistribution et inégalités dans ...</td>\n",
              "      <td>article</td>\n",
              "      <td>1999</td>\n",
              "      <td>50-3</td>\n",
              "      <td>Croissance, redistribution et inégalités dans ...</td>\n",
              "      <td>1950-6694</td>\n",
              "    </tr>\n",
              "    <tr>\n",
              "      <th>2</th>\n",
              "      <td>3</td>\n",
              "      <td>Que nous devons-nous les uns aux autres ? Le c...</td>\n",
              "      <td>article</td>\n",
              "      <td>2008</td>\n",
              "      <td>106-4</td>\n",
              "      <td>La fuite des cerveaux est-elle un phénomène in...</td>\n",
              "      <td>1783-1768</td>\n",
              "    </tr>\n",
              "    <tr>\n",
              "      <th>3</th>\n",
              "      <td>4</td>\n",
              "      <td>Chorafas Dimitri N. — La fuite des cerveaux. L...</td>\n",
              "      <td>compte-rendu</td>\n",
              "      <td>1970</td>\n",
              "      <td>25-5</td>\n",
              "      <td>Chorafas Dimitri N. — La fuite des cerveaux. L...</td>\n",
              "      <td>1957-7966</td>\n",
              "    </tr>\n",
              "    <tr>\n",
              "      <th>4</th>\n",
              "      <td>5</td>\n",
              "      <td>Au-delà de la « fuite des cerveaux » : la mobi...</td>\n",
              "      <td>article</td>\n",
              "      <td>1997</td>\n",
              "      <td>13-1</td>\n",
              "      <td>Au-delà de la « fuite des cerveaux » : la mobi...</td>\n",
              "      <td>1777-5418</td>\n",
              "    </tr>\n",
              "  </tbody>\n",
              "</table>\n",
              "</div>"
            ],
            "text/plain": [
              "   num_doc  ...       issn\n",
              "0        1  ...  2262-3353\n",
              "1        2  ...  1950-6694\n",
              "2        3  ...  1783-1768\n",
              "3        4  ...  1957-7966\n",
              "4        5  ...  1777-5418\n",
              "\n",
              "[5 rows x 7 columns]"
            ]
          },
          "metadata": {
            "tags": []
          },
          "execution_count": 29
        }
      ]
    },
    {
      "cell_type": "code",
      "metadata": {
        "id": "f7Bg97CQVQhH",
        "colab_type": "code",
        "colab": {}
      },
      "source": [
        "df_=df_article[df_article['issn'].notnull()]"
      ],
      "execution_count": 0,
      "outputs": []
    },
    {
      "cell_type": "code",
      "metadata": {
        "id": "CbCWjz_jyx8r",
        "colab_type": "code",
        "colab": {}
      },
      "source": [
        "t_article=df_[['num_doc','title','annee_publication','issn']]\n",
        "abstract=df_article[['num_doc','abstract']]"
      ],
      "execution_count": 0,
      "outputs": []
    },
    {
      "cell_type": "code",
      "metadata": {
        "id": "Tcl2RrjKzvaR",
        "colab_type": "code",
        "colab": {}
      },
      "source": [
        "t_article.to_csv(sep=',', path_or_buf='/content/drive/My Drive/Colab Notebooks/t_article.csv',index=False)"
      ],
      "execution_count": 0,
      "outputs": []
    },
    {
      "cell_type": "code",
      "metadata": {
        "id": "4sQzsPmPwAJZ",
        "colab_type": "code",
        "outputId": "dbba34e6-b795-48ab-f33c-1110c06edf97",
        "colab": {
          "base_uri": "https://localhost:8080/",
          "height": 204
        }
      },
      "source": [
        "df_null=df_article[df_article['issn'].isnull()]\n",
        "df_null.head()"
      ],
      "execution_count": 0,
      "outputs": [
        {
          "output_type": "execute_result",
          "data": {
            "text/html": [
              "<div>\n",
              "<style scoped>\n",
              "    .dataframe tbody tr th:only-of-type {\n",
              "        vertical-align: middle;\n",
              "    }\n",
              "\n",
              "    .dataframe tbody tr th {\n",
              "        vertical-align: top;\n",
              "    }\n",
              "\n",
              "    .dataframe thead th {\n",
              "        text-align: right;\n",
              "    }\n",
              "</style>\n",
              "<table border=\"1\" class=\"dataframe\">\n",
              "  <thead>\n",
              "    <tr style=\"text-align: right;\">\n",
              "      <th></th>\n",
              "      <th>num_doc</th>\n",
              "      <th>title</th>\n",
              "      <th>type</th>\n",
              "      <th>annee_publication</th>\n",
              "      <th>num_publication</th>\n",
              "      <th>abstract</th>\n",
              "      <th>issn</th>\n",
              "    </tr>\n",
              "  </thead>\n",
              "  <tbody>\n",
              "    <tr>\n",
              "      <th>39</th>\n",
              "      <td>40</td>\n",
              "      <td>I. Formation, emploi, territoires (Professionn...</td>\n",
              "      <td>dossier thématique</td>\n",
              "      <td>2004</td>\n",
              "      <td>81-2</td>\n",
              "      <td>la fuite et l'attraction des cerveaux Le dével...</td>\n",
              "      <td>NaN</td>\n",
              "    </tr>\n",
              "    <tr>\n",
              "      <th>40</th>\n",
              "      <td>41</td>\n",
              "      <td>La géographie, une discipline qui stimule les ...</td>\n",
              "      <td>autre</td>\n",
              "      <td>1998</td>\n",
              "      <td>22</td>\n",
              "      <td>La géographie, une discipline qui stimule les ...</td>\n",
              "      <td>NaN</td>\n",
              "    </tr>\n",
              "    <tr>\n",
              "      <th>42</th>\n",
              "      <td>43</td>\n",
              "      <td>Fuite et nostalgie romantiques de la Grèce</td>\n",
              "      <td>article</td>\n",
              "      <td>1994</td>\n",
              "      <td>4</td>\n",
              "      <td>Fuite et nostalgie romantiques de la Grèce...F...</td>\n",
              "      <td>NaN</td>\n",
              "    </tr>\n",
              "    <tr>\n",
              "      <th>70</th>\n",
              "      <td>71</td>\n",
              "      <td>La Révolution française et l'Événement : la fu...</td>\n",
              "      <td>article</td>\n",
              "      <td>1992</td>\n",
              "      <td>104-1</td>\n",
              "      <td>Mona Ozouf, La Révolution française et l'Événe...</td>\n",
              "      <td>NaN</td>\n",
              "    </tr>\n",
              "    <tr>\n",
              "      <th>84</th>\n",
              "      <td>85</td>\n",
              "      <td>L’affaire du cerveau. Quelques remarques sur l...</td>\n",
              "      <td>article</td>\n",
              "      <td>2006</td>\n",
              "      <td>25</td>\n",
              "      <td>La place et le rôle du cerveau dans la médecin...</td>\n",
              "      <td>NaN</td>\n",
              "    </tr>\n",
              "  </tbody>\n",
              "</table>\n",
              "</div>"
            ],
            "text/plain": [
              "    num_doc  ... issn\n",
              "39       40  ...  NaN\n",
              "40       41  ...  NaN\n",
              "42       43  ...  NaN\n",
              "70       71  ...  NaN\n",
              "84       85  ...  NaN\n",
              "\n",
              "[5 rows x 7 columns]"
            ]
          },
          "metadata": {
            "tags": []
          },
          "execution_count": 80
        }
      ]
    },
    {
      "cell_type": "code",
      "metadata": {
        "id": "NIS5kr-jyfoO",
        "colab_type": "code",
        "outputId": "8b1de183-c8b3-4de4-dce7-cfb8152826ee",
        "colab": {
          "base_uri": "https://localhost:8080/",
          "height": 119
        }
      },
      "source": [
        "for i in df_null.index:\n",
        "  if i in df_collection.index:\n",
        "    df_null.loc[i,['issn']]=df_collection.loc[i,['issn']][0]"
      ],
      "execution_count": 0,
      "outputs": [
        {
          "output_type": "stream",
          "text": [
            "/usr/local/lib/python3.6/dist-packages/pandas/core/indexing.py:494: SettingWithCopyWarning: \n",
            "A value is trying to be set on a copy of a slice from a DataFrame.\n",
            "Try using .loc[row_indexer,col_indexer] = value instead\n",
            "\n",
            "See the caveats in the documentation: http://pandas.pydata.org/pandas-docs/stable/user_guide/indexing.html#returning-a-view-versus-a-copy\n",
            "  self.obj[item] = s\n"
          ],
          "name": "stderr"
        }
      ]
    },
    {
      "cell_type": "code",
      "metadata": {
        "id": "6f6Lf6CWxTsS",
        "colab_type": "code",
        "outputId": "4d1be28e-df7c-496c-ba92-1121d716b79a",
        "colab": {
          "base_uri": "https://localhost:8080/",
          "height": 470
        }
      },
      "source": [
        "df_null[df_null['issn'].isnull()]"
      ],
      "execution_count": 0,
      "outputs": [
        {
          "output_type": "execute_result",
          "data": {
            "text/html": [
              "<div>\n",
              "<style scoped>\n",
              "    .dataframe tbody tr th:only-of-type {\n",
              "        vertical-align: middle;\n",
              "    }\n",
              "\n",
              "    .dataframe tbody tr th {\n",
              "        vertical-align: top;\n",
              "    }\n",
              "\n",
              "    .dataframe thead th {\n",
              "        text-align: right;\n",
              "    }\n",
              "</style>\n",
              "<table border=\"1\" class=\"dataframe\">\n",
              "  <thead>\n",
              "    <tr style=\"text-align: right;\">\n",
              "      <th></th>\n",
              "      <th>num_doc</th>\n",
              "      <th>title</th>\n",
              "      <th>type</th>\n",
              "      <th>annee_publication</th>\n",
              "      <th>num_publication</th>\n",
              "      <th>abstract</th>\n",
              "      <th>issn</th>\n",
              "    </tr>\n",
              "  </thead>\n",
              "  <tbody>\n",
              "    <tr>\n",
              "      <th>234</th>\n",
              "      <td>235</td>\n",
              "      <td>Le déracinement du vrai et la « fuite des dieu...</td>\n",
              "      <td>article</td>\n",
              "      <td>1994</td>\n",
              "      <td>74-2</td>\n",
              "      <td>Le déracinement du vrai et la « fuite des dieu...</td>\n",
              "      <td>NaN</td>\n",
              "    </tr>\n",
              "    <tr>\n",
              "      <th>250</th>\n",
              "      <td>251</td>\n",
              "      <td>Deux Universités : Strasbourg et Nancy</td>\n",
              "      <td>article</td>\n",
              "      <td>1896</td>\n",
              "      <td>32</td>\n",
              "      <td>de Nancy, pour le nombre et la valeur du perso...</td>\n",
              "      <td>NaN</td>\n",
              "    </tr>\n",
              "    <tr>\n",
              "      <th>273</th>\n",
              "      <td>274</td>\n",
              "      <td>Commémoration d’un jeune poète : Charles Argentin</td>\n",
              "      <td>article</td>\n",
              "      <td>1968</td>\n",
              "      <td>211</td>\n",
              "      <td>, le délire et la foi. Insatiable dans son dés...</td>\n",
              "      <td>NaN</td>\n",
              "    </tr>\n",
              "    <tr>\n",
              "      <th>280</th>\n",
              "      <td>281</td>\n",
              "      <td>Adresses du directoire du département de la Lo...</td>\n",
              "      <td>travail de l'Assemblée et productions du roi e...</td>\n",
              "      <td>1791</td>\n",
              "      <td>27</td>\n",
              "      <td>Adresses du directoire du département de la Lo...</td>\n",
              "      <td>NaN</td>\n",
              "    </tr>\n",
              "    <tr>\n",
              "      <th>281</th>\n",
              "      <td>282</td>\n",
              "      <td>Discussion sur la délibération du directoire d...</td>\n",
              "      <td>travail de l'Assemblée et productions du roi e...</td>\n",
              "      <td>1791</td>\n",
              "      <td>27</td>\n",
              "      <td>Discussion sur la délibération du directoire d...</td>\n",
              "      <td>NaN</td>\n",
              "    </tr>\n",
              "    <tr>\n",
              "      <th>...</th>\n",
              "      <td>...</td>\n",
              "      <td>...</td>\n",
              "      <td>...</td>\n",
              "      <td>...</td>\n",
              "      <td>...</td>\n",
              "      <td>...</td>\n",
              "      <td>...</td>\n",
              "    </tr>\n",
              "    <tr>\n",
              "      <th>5009</th>\n",
              "      <td>5010</td>\n",
              "      <td>Environmental Liabilities and Régulation in Eu...</td>\n",
              "      <td>compte-rendu</td>\n",
              "      <td>1993</td>\n",
              "      <td>1</td>\n",
              "      <td>Environmental Liabilities and Régulation in Eu...</td>\n",
              "      <td>NaN</td>\n",
              "    </tr>\n",
              "    <tr>\n",
              "      <th>5065</th>\n",
              "      <td>5066</td>\n",
              "      <td>Histoire des relations entre l'Europe et l'Ori...</td>\n",
              "      <td>autre</td>\n",
              "      <td>1985</td>\n",
              "      <td>2</td>\n",
              "      <td>Histoire des relations entre l'Europe et l'Ori...</td>\n",
              "      <td>NaN</td>\n",
              "    </tr>\n",
              "    <tr>\n",
              "      <th>5066</th>\n",
              "      <td>5067</td>\n",
              "      <td>Histoire des relations entre l'Europe et l'Ori...</td>\n",
              "      <td>autre</td>\n",
              "      <td>1987</td>\n",
              "      <td>3</td>\n",
              "      <td>Histoire des relations entre l'Europe et l'Ori...</td>\n",
              "      <td>NaN</td>\n",
              "    </tr>\n",
              "    <tr>\n",
              "      <th>5067</th>\n",
              "      <td>5068</td>\n",
              "      <td>Histoire des relations entre l'Europe et l'Ori...</td>\n",
              "      <td>autre</td>\n",
              "      <td>1994</td>\n",
              "      <td>4</td>\n",
              "      <td>Histoire des relations entre l'Europe et l'Ori...</td>\n",
              "      <td>NaN</td>\n",
              "    </tr>\n",
              "    <tr>\n",
              "      <th>5068</th>\n",
              "      <td>5069</td>\n",
              "      <td>Histoire des relations entre l'Europe et l'Ori...</td>\n",
              "      <td>autre</td>\n",
              "      <td>1994</td>\n",
              "      <td>5</td>\n",
              "      <td>Histoire des relations entre l'Europe et l'Ori...</td>\n",
              "      <td>NaN</td>\n",
              "    </tr>\n",
              "  </tbody>\n",
              "</table>\n",
              "<p>584 rows × 7 columns</p>\n",
              "</div>"
            ],
            "text/plain": [
              "      num_doc  ... issn\n",
              "234       235  ...  NaN\n",
              "250       251  ...  NaN\n",
              "273       274  ...  NaN\n",
              "280       281  ...  NaN\n",
              "281       282  ...  NaN\n",
              "...       ...  ...  ...\n",
              "5009     5010  ...  NaN\n",
              "5065     5066  ...  NaN\n",
              "5066     5067  ...  NaN\n",
              "5067     5068  ...  NaN\n",
              "5068     5069  ...  NaN\n",
              "\n",
              "[584 rows x 7 columns]"
            ]
          },
          "metadata": {
            "tags": []
          },
          "execution_count": 95
        }
      ]
    },
    {
      "cell_type": "markdown",
      "metadata": {
        "id": "NguaXHR40Pfe",
        "colab_type": "text"
      },
      "source": [
        "# Mot article"
      ]
    },
    {
      "cell_type": "code",
      "metadata": {
        "id": "mtjM6Ioi0fxx",
        "colab_type": "code",
        "outputId": "21a8defd-f9a3-4369-a696-93020dd363e6",
        "colab": {
          "base_uri": "https://localhost:8080/",
          "height": 204
        }
      },
      "source": [
        "abstract.head()"
      ],
      "execution_count": 0,
      "outputs": [
        {
          "output_type": "execute_result",
          "data": {
            "text/html": [
              "<div>\n",
              "<style scoped>\n",
              "    .dataframe tbody tr th:only-of-type {\n",
              "        vertical-align: middle;\n",
              "    }\n",
              "\n",
              "    .dataframe tbody tr th {\n",
              "        vertical-align: top;\n",
              "    }\n",
              "\n",
              "    .dataframe thead th {\n",
              "        text-align: right;\n",
              "    }\n",
              "</style>\n",
              "<table border=\"1\" class=\"dataframe\">\n",
              "  <thead>\n",
              "    <tr style=\"text-align: right;\">\n",
              "      <th></th>\n",
              "      <th>num_doc</th>\n",
              "      <th>abstract</th>\n",
              "    </tr>\n",
              "  </thead>\n",
              "  <tbody>\n",
              "    <tr>\n",
              "      <th>0</th>\n",
              "      <td>1</td>\n",
              "      <td>La fuite des cerveaux : le cas de l'ex-URSS......</td>\n",
              "    </tr>\n",
              "    <tr>\n",
              "      <th>1</th>\n",
              "      <td>2</td>\n",
              "      <td>Croissance, redistribution et inégalités dans ...</td>\n",
              "    </tr>\n",
              "    <tr>\n",
              "      <th>2</th>\n",
              "      <td>3</td>\n",
              "      <td>La fuite des cerveaux est-elle un phénomène in...</td>\n",
              "    </tr>\n",
              "    <tr>\n",
              "      <th>3</th>\n",
              "      <td>4</td>\n",
              "      <td>Chorafas Dimitri N. — La fuite des cerveaux. L...</td>\n",
              "    </tr>\n",
              "    <tr>\n",
              "      <th>4</th>\n",
              "      <td>5</td>\n",
              "      <td>Au-delà de la « fuite des cerveaux » : la mobi...</td>\n",
              "    </tr>\n",
              "  </tbody>\n",
              "</table>\n",
              "</div>"
            ],
            "text/plain": [
              "   num_doc                                           abstract\n",
              "0        1  La fuite des cerveaux : le cas de l'ex-URSS......\n",
              "1        2  Croissance, redistribution et inégalités dans ...\n",
              "2        3  La fuite des cerveaux est-elle un phénomène in...\n",
              "3        4  Chorafas Dimitri N. — La fuite des cerveaux. L...\n",
              "4        5  Au-delà de la « fuite des cerveaux » : la mobi..."
            ]
          },
          "metadata": {
            "tags": []
          },
          "execution_count": 33
        }
      ]
    },
    {
      "cell_type": "code",
      "metadata": {
        "id": "dcZdBSPM02fM",
        "colab_type": "code",
        "colab": {}
      },
      "source": [
        "def nettoyer_abstract(df):\n",
        "       \n",
        "    #Recuperer les stopswords \n",
        "    sr = nltk.corpus.stopwords.words('french')\n",
        "    sc = ['cet','cette','celui','celle','celles','leurs','quoi','quel','lequel','laquelle','lesquels','lesquelles']\n",
        "    stopwordss=list(set().union(sr,sc))\n",
        "  \n",
        "    \n",
        "    #Recuperer les ponctuations\n",
        "    poncts=punctuation\n",
        "    poncts+='’'\n",
        "    \n",
        "    #lemmatisation\n",
        "    stemmer=nltk.stem.snowball.FrenchStemmer()\n",
        "    \n",
        "    for i in df.index:\n",
        "        doc=df.loc[i,['abstract']][0]\n",
        "        clean_tokens=[]\n",
        "        doc=str(doc)\n",
        "        \n",
        "        #Enlever les ponctuations\n",
        "        for p in poncts :\n",
        "            doc=doc.replace(p,\" \")\n",
        "            \n",
        "        doc=doc.lower()\n",
        "        tokens=doc.split()\n",
        "\n",
        "        #Enlever les stopwords et raciniser\n",
        "        clean_tokens=[stemmer.stem(token) for token in tokens if (token not in stopwordss and len(token)>3)]\n",
        "\n",
        "        #Enlever les chiffres\n",
        "        clean_tokenss=[token for token in clean_tokens if token.isnumeric()==False]\n",
        "        \n",
        "        df.loc[i,['abstract']]=' '.join(clean_tokenss)\n",
        "    \n",
        "    return df"
      ],
      "execution_count": 0,
      "outputs": []
    },
    {
      "cell_type": "code",
      "metadata": {
        "id": "XIEm-23VWRWp",
        "colab_type": "code",
        "outputId": "ca94119a-5fee-4f7e-b33e-92c209df72fb",
        "colab": {
          "base_uri": "https://localhost:8080/",
          "height": 306
        }
      },
      "source": [
        "abstract=nettoyer_abstract(abstract)\n",
        "abstract.head()"
      ],
      "execution_count": 0,
      "outputs": [
        {
          "output_type": "stream",
          "text": [
            "/usr/local/lib/python3.6/dist-packages/pandas/core/indexing.py:494: SettingWithCopyWarning: \n",
            "A value is trying to be set on a copy of a slice from a DataFrame.\n",
            "Try using .loc[row_indexer,col_indexer] = value instead\n",
            "\n",
            "See the caveats in the documentation: http://pandas.pydata.org/pandas-docs/stable/user_guide/indexing.html#returning-a-view-versus-a-copy\n",
            "  self.obj[item] = s\n"
          ],
          "name": "stderr"
        },
        {
          "output_type": "execute_result",
          "data": {
            "text/html": [
              "<div>\n",
              "<style scoped>\n",
              "    .dataframe tbody tr th:only-of-type {\n",
              "        vertical-align: middle;\n",
              "    }\n",
              "\n",
              "    .dataframe tbody tr th {\n",
              "        vertical-align: top;\n",
              "    }\n",
              "\n",
              "    .dataframe thead th {\n",
              "        text-align: right;\n",
              "    }\n",
              "</style>\n",
              "<table border=\"1\" class=\"dataframe\">\n",
              "  <thead>\n",
              "    <tr style=\"text-align: right;\">\n",
              "      <th></th>\n",
              "      <th>num_doc</th>\n",
              "      <th>abstract</th>\n",
              "    </tr>\n",
              "  </thead>\n",
              "  <tbody>\n",
              "    <tr>\n",
              "      <th>0</th>\n",
              "      <td>1</td>\n",
              "      <td>fuit cerveau urss exod inte¬ rieur cess accéle...</td>\n",
              "    </tr>\n",
              "    <tr>\n",
              "      <th>1</th>\n",
              "      <td>2</td>\n",
              "      <td>croissanc redistribu inégal model fuit cerveau...</td>\n",
              "    </tr>\n",
              "    <tr>\n",
              "      <th>2</th>\n",
              "      <td>3</td>\n",
              "      <td>fuit cerveau phénomen individuel légitim socia...</td>\n",
              "    </tr>\n",
              "    <tr>\n",
              "      <th>3</th>\n",
              "      <td>4</td>\n",
              "      <td>choraf dimitr fuit cerveau conquêt sav choraf ...</td>\n",
              "    </tr>\n",
              "    <tr>\n",
              "      <th>4</th>\n",
              "      <td>5</td>\n",
              "      <td>delà fuit cerveau mobil person haut qualifi ou...</td>\n",
              "    </tr>\n",
              "  </tbody>\n",
              "</table>\n",
              "</div>"
            ],
            "text/plain": [
              "   num_doc                                           abstract\n",
              "0        1  fuit cerveau urss exod inte¬ rieur cess accéle...\n",
              "1        2  croissanc redistribu inégal model fuit cerveau...\n",
              "2        3  fuit cerveau phénomen individuel légitim socia...\n",
              "3        4  choraf dimitr fuit cerveau conquêt sav choraf ...\n",
              "4        5  delà fuit cerveau mobil person haut qualifi ou..."
            ]
          },
          "metadata": {
            "tags": []
          },
          "execution_count": 35
        }
      ]
    },
    {
      "cell_type": "code",
      "metadata": {
        "id": "uws5e1KVZnk8",
        "colab_type": "code",
        "outputId": "7a9ddfaf-5cdd-4358-c545-c16bb7fd17db",
        "colab": {
          "base_uri": "https://localhost:8080/",
          "height": 34
        }
      },
      "source": [
        "mots=(' '.join(abstract['abstract'].values.tolist())).split()\n",
        "mots[:5]"
      ],
      "execution_count": 0,
      "outputs": [
        {
          "output_type": "execute_result",
          "data": {
            "text/plain": [
              "['fuit', 'cerveau', 'urss', 'exod', 'inte¬']"
            ]
          },
          "metadata": {
            "tags": []
          },
          "execution_count": 36
        }
      ]
    },
    {
      "cell_type": "code",
      "metadata": {
        "id": "lAlK84xdarvw",
        "colab_type": "code",
        "outputId": "32bb8d5e-1c83-4ed0-99e9-bec18fc9c9ee",
        "colab": {
          "base_uri": "https://localhost:8080/",
          "height": 34
        }
      },
      "source": [
        "count_mot=c.Counter()\n",
        "for mot in mots:\n",
        "  count_mot[mot]+=1\n",
        "len(count_mot)"
      ],
      "execution_count": 0,
      "outputs": [
        {
          "output_type": "execute_result",
          "data": {
            "text/plain": [
              "25742"
            ]
          },
          "metadata": {
            "tags": []
          },
          "execution_count": 37
        }
      ]
    },
    {
      "cell_type": "code",
      "metadata": {
        "id": "jinyUWu0VL-J",
        "colab_type": "code",
        "outputId": "ab1292b9-9a38-40a2-b091-699ded222c3d",
        "colab": {
          "base_uri": "https://localhost:8080/",
          "height": 221
        }
      },
      "source": [
        "#Je prends les 10 mots les plus frequents comme mots clé\n",
        "mots_cles=count_mot.most_common(12)\n",
        "mots_cles"
      ],
      "execution_count": 0,
      "outputs": [
        {
          "output_type": "execute_result",
          "data": {
            "text/plain": [
              "[('europ', 14943),\n",
              " ('cerveau', 2100),\n",
              " ('plus', 1900),\n",
              " ('des', 1795),\n",
              " ('fuit', 1733),\n",
              " ('pay', 1684),\n",
              " ('polit', 1375),\n",
              " ('européen', 1241),\n",
              " ('franc', 1060),\n",
              " ('entre', 1051),\n",
              " ('comm', 1038),\n",
              " ('économ', 1016)]"
            ]
          },
          "metadata": {
            "tags": []
          },
          "execution_count": 38
        }
      ]
    },
    {
      "cell_type": "code",
      "metadata": {
        "id": "PZEjoYxFoqaj",
        "colab_type": "code",
        "outputId": "563a039e-a1b8-475b-ebc4-186cc85cfec4",
        "colab": {
          "base_uri": "https://localhost:8080/",
          "height": 187
        }
      },
      "source": [
        "mots_cles=[mot[0] for mot in mots_cles]\n",
        "mots_cles.remove('cerveau')\n",
        "mots_cles.remove('fuit')\n",
        "mots_cles"
      ],
      "execution_count": 0,
      "outputs": [
        {
          "output_type": "execute_result",
          "data": {
            "text/plain": [
              "['europ',\n",
              " 'plus',\n",
              " 'des',\n",
              " 'pay',\n",
              " 'polit',\n",
              " 'européen',\n",
              " 'franc',\n",
              " 'entre',\n",
              " 'comm',\n",
              " 'économ']"
            ]
          },
          "metadata": {
            "tags": []
          },
          "execution_count": 39
        }
      ]
    },
    {
      "cell_type": "code",
      "metadata": {
        "id": "Q3IMqP1XWu7-",
        "colab_type": "code",
        "outputId": "9d97a81b-6521-4131-cb9a-025d6987f58f",
        "colab": {
          "base_uri": "https://localhost:8080/",
          "height": 204
        }
      },
      "source": [
        "#Creer le dataframe mot_article\n",
        "t_mot_article=pd.DataFrame(columns=['mot','num_article','frequence'])\n",
        "j=0\n",
        "for i in abstract.index:\n",
        "  for mot in mots_cles:\n",
        "    text=abstract.loc[i,['abstract']][0].split()\n",
        "    if mot in text:\n",
        "      freq=text.count(mot)\n",
        "      t_mot_article.loc[j,:]=[mot,i+1,freq]\n",
        "      j+=1\n",
        "t_mot_article.head()"
      ],
      "execution_count": 0,
      "outputs": [
        {
          "output_type": "execute_result",
          "data": {
            "text/html": [
              "<div>\n",
              "<style scoped>\n",
              "    .dataframe tbody tr th:only-of-type {\n",
              "        vertical-align: middle;\n",
              "    }\n",
              "\n",
              "    .dataframe tbody tr th {\n",
              "        vertical-align: top;\n",
              "    }\n",
              "\n",
              "    .dataframe thead th {\n",
              "        text-align: right;\n",
              "    }\n",
              "</style>\n",
              "<table border=\"1\" class=\"dataframe\">\n",
              "  <thead>\n",
              "    <tr style=\"text-align: right;\">\n",
              "      <th></th>\n",
              "      <th>mot</th>\n",
              "      <th>num_article</th>\n",
              "      <th>frequence</th>\n",
              "    </tr>\n",
              "  </thead>\n",
              "  <tbody>\n",
              "    <tr>\n",
              "      <th>0</th>\n",
              "      <td>plus</td>\n",
              "      <td>2</td>\n",
              "      <td>1</td>\n",
              "    </tr>\n",
              "    <tr>\n",
              "      <th>1</th>\n",
              "      <td>polit</td>\n",
              "      <td>3</td>\n",
              "      <td>1</td>\n",
              "    </tr>\n",
              "    <tr>\n",
              "      <th>2</th>\n",
              "      <td>économ</td>\n",
              "      <td>3</td>\n",
              "      <td>3</td>\n",
              "    </tr>\n",
              "    <tr>\n",
              "      <th>3</th>\n",
              "      <td>europ</td>\n",
              "      <td>4</td>\n",
              "      <td>1</td>\n",
              "    </tr>\n",
              "    <tr>\n",
              "      <th>4</th>\n",
              "      <td>plus</td>\n",
              "      <td>4</td>\n",
              "      <td>1</td>\n",
              "    </tr>\n",
              "  </tbody>\n",
              "</table>\n",
              "</div>"
            ],
            "text/plain": [
              "      mot num_article frequence\n",
              "0    plus           2         1\n",
              "1   polit           3         1\n",
              "2  économ           3         3\n",
              "3   europ           4         1\n",
              "4    plus           4         1"
            ]
          },
          "metadata": {
            "tags": []
          },
          "execution_count": 40
        }
      ]
    },
    {
      "cell_type": "code",
      "metadata": {
        "id": "qBFEW9cjqkga",
        "colab_type": "code",
        "colab": {}
      },
      "source": [
        "t_mot_article.to_csv(sep=',', path_or_buf='/content/drive/My Drive/Colab Notebooks/t_mot_article.csv',index=False)"
      ],
      "execution_count": 0,
      "outputs": []
    },
    {
      "cell_type": "markdown",
      "metadata": {
        "id": "50e-ckmWVJln",
        "colab_type": "text"
      },
      "source": [
        "#Pays article"
      ]
    },
    {
      "cell_type": "code",
      "metadata": {
        "id": "wLZFTa8zp7Nd",
        "colab_type": "code",
        "colab": {}
      },
      "source": [
        "#Une fonction qui renvoi la liste des pays du monde\n",
        "def f_pays():\n",
        "    list_pays=[]\n",
        "    for pays in list(py.countries):\n",
        "        a= re.search(\"name='\"+'.+'+\", numeric=\",str(pays))\n",
        "        if a:\n",
        "            a=a.group(0)[6:-11]\n",
        "            list_pays.append(a.lower())\n",
        "    return list_pays"
      ],
      "execution_count": 0,
      "outputs": []
    },
    {
      "cell_type": "code",
      "metadata": {
        "id": "cf-ztKFEteYR",
        "colab_type": "code",
        "outputId": "539542fa-4749-4ec8-fa78-9fd905447c39",
        "colab": {
          "base_uri": "https://localhost:8080/",
          "height": 204
        }
      },
      "source": [
        "t_pays_article=pd.DataFrame(columns=['nom_pays','num_article'])\n",
        "list_pays=f_pays()\n",
        "j=0\n",
        "for i in abstract.index:\n",
        "    text=abstract.loc[i,['abstract']][0]\n",
        "    for pays in list_pays:\n",
        "      p=re.search(pays,text)\n",
        "      if p:\n",
        "        t_pays_article.loc[j,:]=[p.group(0),i+1]\n",
        "        j+=1\n",
        "t_pays_article.head()"
      ],
      "execution_count": 0,
      "outputs": [
        {
          "output_type": "execute_result",
          "data": {
            "text/html": [
              "<div>\n",
              "<style scoped>\n",
              "    .dataframe tbody tr th:only-of-type {\n",
              "        vertical-align: middle;\n",
              "    }\n",
              "\n",
              "    .dataframe tbody tr th {\n",
              "        vertical-align: top;\n",
              "    }\n",
              "\n",
              "    .dataframe thead th {\n",
              "        text-align: right;\n",
              "    }\n",
              "</style>\n",
              "<table border=\"1\" class=\"dataframe\">\n",
              "  <thead>\n",
              "    <tr style=\"text-align: right;\">\n",
              "      <th></th>\n",
              "      <th>nom_pays</th>\n",
              "      <th>num_article</th>\n",
              "    </tr>\n",
              "  </thead>\n",
              "  <tbody>\n",
              "    <tr>\n",
              "      <th>0</th>\n",
              "      <td>réunion</td>\n",
              "      <td>15</td>\n",
              "    </tr>\n",
              "    <tr>\n",
              "      <th>1</th>\n",
              "      <td>poland</td>\n",
              "      <td>36</td>\n",
              "    </tr>\n",
              "    <tr>\n",
              "      <th>2</th>\n",
              "      <td>oman</td>\n",
              "      <td>43</td>\n",
              "    </tr>\n",
              "    <tr>\n",
              "      <th>3</th>\n",
              "      <td>pakistan</td>\n",
              "      <td>62</td>\n",
              "    </tr>\n",
              "    <tr>\n",
              "      <th>4</th>\n",
              "      <td>egypt</td>\n",
              "      <td>66</td>\n",
              "    </tr>\n",
              "  </tbody>\n",
              "</table>\n",
              "</div>"
            ],
            "text/plain": [
              "   nom_pays num_article\n",
              "0   réunion          15\n",
              "1    poland          36\n",
              "2      oman          43\n",
              "3  pakistan          62\n",
              "4     egypt          66"
            ]
          },
          "metadata": {
            "tags": []
          },
          "execution_count": 43
        }
      ]
    },
    {
      "cell_type": "code",
      "metadata": {
        "id": "x43LiV8TwzUf",
        "colab_type": "code",
        "colab": {}
      },
      "source": [
        "t_pays_article.to_csv(sep=',', path_or_buf='/content/drive/My Drive/Colab Notebooks/t_pays_article.csv',index=False)"
      ],
      "execution_count": 0,
      "outputs": []
    },
    {
      "cell_type": "markdown",
      "metadata": {
        "id": "QVMlox6904nq",
        "colab_type": "text"
      },
      "source": [
        "# Auteur"
      ]
    },
    {
      "cell_type": "code",
      "metadata": {
        "id": "Gr4ofG_b1EZU",
        "colab_type": "code",
        "outputId": "87756ce8-0cad-4f72-b4e1-2bcdfb6bba3d",
        "colab": {
          "base_uri": "https://localhost:8080/",
          "height": 204
        }
      },
      "source": [
        "#Remplacer les Nan par vide\n",
        "df_auteur=df_auteur.fillna('')\n",
        "df_auteur.head()"
      ],
      "execution_count": 0,
      "outputs": [
        {
          "output_type": "execute_result",
          "data": {
            "text/html": [
              "<div>\n",
              "<style scoped>\n",
              "    .dataframe tbody tr th:only-of-type {\n",
              "        vertical-align: middle;\n",
              "    }\n",
              "\n",
              "    .dataframe tbody tr th {\n",
              "        vertical-align: top;\n",
              "    }\n",
              "\n",
              "    .dataframe thead th {\n",
              "        text-align: right;\n",
              "    }\n",
              "</style>\n",
              "<table border=\"1\" class=\"dataframe\">\n",
              "  <thead>\n",
              "    <tr style=\"text-align: right;\">\n",
              "      <th></th>\n",
              "      <th>nom</th>\n",
              "      <th>annee_naissance</th>\n",
              "      <th>annee_decès</th>\n",
              "      <th>bio</th>\n",
              "    </tr>\n",
              "  </thead>\n",
              "  <tbody>\n",
              "    <tr>\n",
              "      <th>0</th>\n",
              "      <td>Kortunov Andrei</td>\n",
              "      <td></td>\n",
              "      <td></td>\n",
              "      <td></td>\n",
              "    </tr>\n",
              "    <tr>\n",
              "      <th>1</th>\n",
              "      <td>Bouyssou Rachel</td>\n",
              "      <td></td>\n",
              "      <td></td>\n",
              "      <td></td>\n",
              "    </tr>\n",
              "    <tr>\n",
              "      <th>2</th>\n",
              "      <td>Docquier Frédéric</td>\n",
              "      <td></td>\n",
              "      <td></td>\n",
              "      <td>Docteur en sciences économiques. - Macroéconom...</td>\n",
              "    </tr>\n",
              "    <tr>\n",
              "      <th>3</th>\n",
              "      <td>Rapoport Hillel</td>\n",
              "      <td>1963</td>\n",
              "      <td></td>\n",
              "      <td></td>\n",
              "    </tr>\n",
              "    <tr>\n",
              "      <th>4</th>\n",
              "      <td>Chauvier Stéphane</td>\n",
              "      <td>1959</td>\n",
              "      <td></td>\n",
              "      <td>Maître de conférences de philosophie à l'Unive...</td>\n",
              "    </tr>\n",
              "  </tbody>\n",
              "</table>\n",
              "</div>"
            ],
            "text/plain": [
              "                  nom  ...                                                bio\n",
              "0     Kortunov Andrei  ...                                                   \n",
              "1     Bouyssou Rachel  ...                                                   \n",
              "2   Docquier Frédéric  ...  Docteur en sciences économiques. - Macroéconom...\n",
              "3    Rapoport Hillel   ...                                                   \n",
              "4  Chauvier Stéphane   ...  Maître de conférences de philosophie à l'Unive...\n",
              "\n",
              "[5 rows x 4 columns]"
            ]
          },
          "metadata": {
            "tags": []
          },
          "execution_count": 46
        }
      ]
    },
    {
      "cell_type": "code",
      "metadata": {
        "id": "7O62CF3A4IGp",
        "colab_type": "code",
        "outputId": "247aef6b-e223-43a9-a5f4-c2d86e338f2d",
        "colab": {
          "base_uri": "https://localhost:8080/",
          "height": 204
        }
      },
      "source": [
        "#Attribuer un numéro à un auteur\n",
        "df_auteur['num_auteur']=list(np.arange(1,len(df_auteur)+1))\n",
        "df_auteur.head()"
      ],
      "execution_count": 0,
      "outputs": [
        {
          "output_type": "execute_result",
          "data": {
            "text/html": [
              "<div>\n",
              "<style scoped>\n",
              "    .dataframe tbody tr th:only-of-type {\n",
              "        vertical-align: middle;\n",
              "    }\n",
              "\n",
              "    .dataframe tbody tr th {\n",
              "        vertical-align: top;\n",
              "    }\n",
              "\n",
              "    .dataframe thead th {\n",
              "        text-align: right;\n",
              "    }\n",
              "</style>\n",
              "<table border=\"1\" class=\"dataframe\">\n",
              "  <thead>\n",
              "    <tr style=\"text-align: right;\">\n",
              "      <th></th>\n",
              "      <th>nom</th>\n",
              "      <th>annee_naissance</th>\n",
              "      <th>annee_decès</th>\n",
              "      <th>bio</th>\n",
              "      <th>num_auteur</th>\n",
              "    </tr>\n",
              "  </thead>\n",
              "  <tbody>\n",
              "    <tr>\n",
              "      <th>0</th>\n",
              "      <td>Kortunov Andrei</td>\n",
              "      <td></td>\n",
              "      <td></td>\n",
              "      <td></td>\n",
              "      <td>1</td>\n",
              "    </tr>\n",
              "    <tr>\n",
              "      <th>1</th>\n",
              "      <td>Bouyssou Rachel</td>\n",
              "      <td></td>\n",
              "      <td></td>\n",
              "      <td></td>\n",
              "      <td>2</td>\n",
              "    </tr>\n",
              "    <tr>\n",
              "      <th>2</th>\n",
              "      <td>Docquier Frédéric</td>\n",
              "      <td></td>\n",
              "      <td></td>\n",
              "      <td>Docteur en sciences économiques. - Macroéconom...</td>\n",
              "      <td>3</td>\n",
              "    </tr>\n",
              "    <tr>\n",
              "      <th>3</th>\n",
              "      <td>Rapoport Hillel</td>\n",
              "      <td>1963</td>\n",
              "      <td></td>\n",
              "      <td></td>\n",
              "      <td>4</td>\n",
              "    </tr>\n",
              "    <tr>\n",
              "      <th>4</th>\n",
              "      <td>Chauvier Stéphane</td>\n",
              "      <td>1959</td>\n",
              "      <td></td>\n",
              "      <td>Maître de conférences de philosophie à l'Unive...</td>\n",
              "      <td>5</td>\n",
              "    </tr>\n",
              "  </tbody>\n",
              "</table>\n",
              "</div>"
            ],
            "text/plain": [
              "                  nom  ... num_auteur\n",
              "0     Kortunov Andrei  ...          1\n",
              "1     Bouyssou Rachel  ...          2\n",
              "2   Docquier Frédéric  ...          3\n",
              "3    Rapoport Hillel   ...          4\n",
              "4  Chauvier Stéphane   ...          5\n",
              "\n",
              "[5 rows x 5 columns]"
            ]
          },
          "metadata": {
            "tags": []
          },
          "execution_count": 47
        }
      ]
    },
    {
      "cell_type": "code",
      "metadata": {
        "id": "KBLMGbbR6gWk",
        "colab_type": "code",
        "colab": {}
      },
      "source": [
        "bios=df_auteur[['num_auteur','bio']]"
      ],
      "execution_count": 0,
      "outputs": []
    },
    {
      "cell_type": "code",
      "metadata": {
        "id": "QBWSmrIZ70G9",
        "colab_type": "code",
        "colab": {}
      },
      "source": [
        "#Ajouter les professions des auteurs\n",
        "df_auteur['profession']=''\n",
        "for i in df_auteur.index:\n",
        "  bio=df_auteur.loc[i,['bio']][0]\n",
        "  if bio!='':\n",
        "    b=bio[:3]\n",
        "    prof=re.search(r\"\"+b+\"\\w*(['\\(\\) ]\\w*)*[,\\.-]\",bio)\n",
        "    bio=bio.lower()\n",
        "\n",
        "    if prof:\n",
        "      df_auteur.loc[i,'profession']=prof.group(0)[:-1]\n"
      ],
      "execution_count": 0,
      "outputs": []
    },
    {
      "cell_type": "code",
      "metadata": {
        "id": "oYr_y6x2CUh4",
        "colab_type": "code",
        "colab": {}
      },
      "source": [
        "t_auteur=df_auteur[['num_auteur','nom','annee_naissance','annee_decès','profession']]"
      ],
      "execution_count": 0,
      "outputs": []
    },
    {
      "cell_type": "code",
      "metadata": {
        "id": "j73IVP0ar9eL",
        "colab_type": "code",
        "outputId": "577b1f5a-d094-4d58-9a49-61ad67215d59",
        "colab": {
          "base_uri": "https://localhost:8080/",
          "height": 204
        }
      },
      "source": [
        "t_auteur.head()"
      ],
      "execution_count": 0,
      "outputs": [
        {
          "output_type": "execute_result",
          "data": {
            "text/html": [
              "<div>\n",
              "<style scoped>\n",
              "    .dataframe tbody tr th:only-of-type {\n",
              "        vertical-align: middle;\n",
              "    }\n",
              "\n",
              "    .dataframe tbody tr th {\n",
              "        vertical-align: top;\n",
              "    }\n",
              "\n",
              "    .dataframe thead th {\n",
              "        text-align: right;\n",
              "    }\n",
              "</style>\n",
              "<table border=\"1\" class=\"dataframe\">\n",
              "  <thead>\n",
              "    <tr style=\"text-align: right;\">\n",
              "      <th></th>\n",
              "      <th>num_auteur</th>\n",
              "      <th>nom</th>\n",
              "      <th>annee_naissance</th>\n",
              "      <th>annee_decès</th>\n",
              "      <th>profession</th>\n",
              "    </tr>\n",
              "  </thead>\n",
              "  <tbody>\n",
              "    <tr>\n",
              "      <th>0</th>\n",
              "      <td>1</td>\n",
              "      <td>Kortunov Andrei</td>\n",
              "      <td></td>\n",
              "      <td></td>\n",
              "      <td></td>\n",
              "    </tr>\n",
              "    <tr>\n",
              "      <th>1</th>\n",
              "      <td>2</td>\n",
              "      <td>Bouyssou Rachel</td>\n",
              "      <td></td>\n",
              "      <td></td>\n",
              "      <td></td>\n",
              "    </tr>\n",
              "    <tr>\n",
              "      <th>2</th>\n",
              "      <td>3</td>\n",
              "      <td>Docquier Frédéric</td>\n",
              "      <td></td>\n",
              "      <td></td>\n",
              "      <td>Docteur en sciences économiques</td>\n",
              "    </tr>\n",
              "    <tr>\n",
              "      <th>3</th>\n",
              "      <td>4</td>\n",
              "      <td>Rapoport Hillel</td>\n",
              "      <td>1963</td>\n",
              "      <td></td>\n",
              "      <td></td>\n",
              "    </tr>\n",
              "    <tr>\n",
              "      <th>4</th>\n",
              "      <td>5</td>\n",
              "      <td>Chauvier Stéphane</td>\n",
              "      <td>1959</td>\n",
              "      <td></td>\n",
              "      <td>Maître de conférences de philosophie à l'Unive...</td>\n",
              "    </tr>\n",
              "  </tbody>\n",
              "</table>\n",
              "</div>"
            ],
            "text/plain": [
              "   num_auteur  ...                                         profession\n",
              "0           1  ...                                                   \n",
              "1           2  ...                                                   \n",
              "2           3  ...                    Docteur en sciences économiques\n",
              "3           4  ...                                                   \n",
              "4           5  ...  Maître de conférences de philosophie à l'Unive...\n",
              "\n",
              "[5 rows x 5 columns]"
            ]
          },
          "metadata": {
            "tags": []
          },
          "execution_count": 54
        }
      ]
    },
    {
      "cell_type": "code",
      "metadata": {
        "id": "BMSRrmlIDaqB",
        "colab_type": "code",
        "colab": {}
      },
      "source": [
        "t_auteur.to_csv(sep=',', path_or_buf='/content/drive/My Drive/Colab Notebooks/t_auteur.csv',index=False)"
      ],
      "execution_count": 0,
      "outputs": []
    },
    {
      "cell_type": "markdown",
      "metadata": {
        "id": "Ll6f6sazIil1",
        "colab_type": "text"
      },
      "source": [
        "# Pays auteur\n"
      ]
    },
    {
      "cell_type": "code",
      "metadata": {
        "id": "N9mZUJSMqLVO",
        "colab_type": "code",
        "outputId": "04ac04ba-6d54-4dee-b017-41753d3c17e9",
        "colab": {
          "base_uri": "https://localhost:8080/",
          "height": 408
        }
      },
      "source": [
        "list_pays=f_pays()\n",
        "bios['nom_pays']=''\n",
        "for i in bios.index:\n",
        "  bio=bios.loc[i,['bio']][0]\n",
        "  if bio!='':\n",
        "    bio=bio.lower()\n",
        "    for pays in list_pays:\n",
        "        pp=re.search(pays,bio)\n",
        "        if pp:\n",
        "          bios.loc[i,['nom_pays']]+=' '+pp.group(0)\n",
        "bios.head()"
      ],
      "execution_count": 0,
      "outputs": [
        {
          "output_type": "stream",
          "text": [
            "/usr/local/lib/python3.6/dist-packages/ipykernel_launcher.py:2: SettingWithCopyWarning: \n",
            "A value is trying to be set on a copy of a slice from a DataFrame.\n",
            "Try using .loc[row_indexer,col_indexer] = value instead\n",
            "\n",
            "See the caveats in the documentation: http://pandas.pydata.org/pandas-docs/stable/user_guide/indexing.html#returning-a-view-versus-a-copy\n",
            "  \n",
            "/usr/local/lib/python3.6/dist-packages/pandas/core/indexing.py:494: SettingWithCopyWarning: \n",
            "A value is trying to be set on a copy of a slice from a DataFrame.\n",
            "Try using .loc[row_indexer,col_indexer] = value instead\n",
            "\n",
            "See the caveats in the documentation: http://pandas.pydata.org/pandas-docs/stable/user_guide/indexing.html#returning-a-view-versus-a-copy\n",
            "  self.obj[item] = s\n"
          ],
          "name": "stderr"
        },
        {
          "output_type": "execute_result",
          "data": {
            "text/html": [
              "<div>\n",
              "<style scoped>\n",
              "    .dataframe tbody tr th:only-of-type {\n",
              "        vertical-align: middle;\n",
              "    }\n",
              "\n",
              "    .dataframe tbody tr th {\n",
              "        vertical-align: top;\n",
              "    }\n",
              "\n",
              "    .dataframe thead th {\n",
              "        text-align: right;\n",
              "    }\n",
              "</style>\n",
              "<table border=\"1\" class=\"dataframe\">\n",
              "  <thead>\n",
              "    <tr style=\"text-align: right;\">\n",
              "      <th></th>\n",
              "      <th>num_auteur</th>\n",
              "      <th>bio</th>\n",
              "      <th>nom_pays</th>\n",
              "    </tr>\n",
              "  </thead>\n",
              "  <tbody>\n",
              "    <tr>\n",
              "      <th>0</th>\n",
              "      <td>1</td>\n",
              "      <td></td>\n",
              "      <td></td>\n",
              "    </tr>\n",
              "    <tr>\n",
              "      <th>1</th>\n",
              "      <td>2</td>\n",
              "      <td></td>\n",
              "      <td></td>\n",
              "    </tr>\n",
              "    <tr>\n",
              "      <th>2</th>\n",
              "      <td>3</td>\n",
              "      <td>Docteur en sciences économiques. - Macroéconom...</td>\n",
              "      <td></td>\n",
              "    </tr>\n",
              "    <tr>\n",
              "      <th>3</th>\n",
              "      <td>4</td>\n",
              "      <td></td>\n",
              "      <td></td>\n",
              "    </tr>\n",
              "    <tr>\n",
              "      <th>4</th>\n",
              "      <td>5</td>\n",
              "      <td>Maître de conférences de philosophie à l'Unive...</td>\n",
              "      <td></td>\n",
              "    </tr>\n",
              "  </tbody>\n",
              "</table>\n",
              "</div>"
            ],
            "text/plain": [
              "   num_auteur                                                bio nom_pays\n",
              "0           1                                                            \n",
              "1           2                                                            \n",
              "2           3  Docteur en sciences économiques. - Macroéconom...         \n",
              "3           4                                                            \n",
              "4           5  Maître de conférences de philosophie à l'Unive...         "
            ]
          },
          "metadata": {
            "tags": []
          },
          "execution_count": 55
        }
      ]
    },
    {
      "cell_type": "code",
      "metadata": {
        "id": "TrFaQm8mStUg",
        "colab_type": "code",
        "colab": {}
      },
      "source": [
        "nationalite=bios[['num_auteur','nom_pays']]"
      ],
      "execution_count": 0,
      "outputs": []
    },
    {
      "cell_type": "code",
      "metadata": {
        "id": "_c5_Z_xfTmTB",
        "colab_type": "code",
        "outputId": "8320e3b7-2737-44ea-d7f8-9743ee7c9a14",
        "colab": {
          "base_uri": "https://localhost:8080/",
          "height": 204
        }
      },
      "source": [
        "t_nationalite=nationalite[nationalite['nom_pays']!='']\n",
        "t_nationalite.head()"
      ],
      "execution_count": 0,
      "outputs": [
        {
          "output_type": "execute_result",
          "data": {
            "text/html": [
              "<div>\n",
              "<style scoped>\n",
              "    .dataframe tbody tr th:only-of-type {\n",
              "        vertical-align: middle;\n",
              "    }\n",
              "\n",
              "    .dataframe tbody tr th {\n",
              "        vertical-align: top;\n",
              "    }\n",
              "\n",
              "    .dataframe thead th {\n",
              "        text-align: right;\n",
              "    }\n",
              "</style>\n",
              "<table border=\"1\" class=\"dataframe\">\n",
              "  <thead>\n",
              "    <tr style=\"text-align: right;\">\n",
              "      <th></th>\n",
              "      <th>num_auteur</th>\n",
              "      <th>nom_pays</th>\n",
              "    </tr>\n",
              "  </thead>\n",
              "  <tbody>\n",
              "    <tr>\n",
              "      <th>18</th>\n",
              "      <td>19</td>\n",
              "      <td>france</td>\n",
              "    </tr>\n",
              "    <tr>\n",
              "      <th>45</th>\n",
              "      <td>46</td>\n",
              "      <td>france</td>\n",
              "    </tr>\n",
              "    <tr>\n",
              "      <th>50</th>\n",
              "      <td>51</td>\n",
              "      <td>france</td>\n",
              "    </tr>\n",
              "    <tr>\n",
              "      <th>73</th>\n",
              "      <td>74</td>\n",
              "      <td>france</td>\n",
              "    </tr>\n",
              "    <tr>\n",
              "      <th>102</th>\n",
              "      <td>103</td>\n",
              "      <td>france</td>\n",
              "    </tr>\n",
              "  </tbody>\n",
              "</table>\n",
              "</div>"
            ],
            "text/plain": [
              "     num_auteur nom_pays\n",
              "18           19   france\n",
              "45           46   france\n",
              "50           51   france\n",
              "73           74   france\n",
              "102         103   france"
            ]
          },
          "metadata": {
            "tags": []
          },
          "execution_count": 57
        }
      ]
    },
    {
      "cell_type": "code",
      "metadata": {
        "id": "Jk6JuKuDUEGC",
        "colab_type": "code",
        "colab": {}
      },
      "source": [
        "t_nationalite.to_csv(sep=',', path_or_buf='/content/drive/My Drive/Colab Notebooks/t_nationalite.csv',index=False)"
      ],
      "execution_count": 0,
      "outputs": []
    },
    {
      "cell_type": "markdown",
      "metadata": {
        "id": "BRq0il24U5w_",
        "colab_type": "text"
      },
      "source": [
        "# Redige"
      ]
    },
    {
      "cell_type": "code",
      "metadata": {
        "id": "B3I7Cs0lxhAt",
        "colab_type": "code",
        "outputId": "5f1d7db8-6144-499b-cb76-7d404b918720",
        "colab": {
          "base_uri": "https://localhost:8080/",
          "height": 419
        }
      },
      "source": [
        "df_redige"
      ],
      "execution_count": 0,
      "outputs": [
        {
          "output_type": "execute_result",
          "data": {
            "text/html": [
              "<div>\n",
              "<style scoped>\n",
              "    .dataframe tbody tr th:only-of-type {\n",
              "        vertical-align: middle;\n",
              "    }\n",
              "\n",
              "    .dataframe tbody tr th {\n",
              "        vertical-align: top;\n",
              "    }\n",
              "\n",
              "    .dataframe thead th {\n",
              "        text-align: right;\n",
              "    }\n",
              "</style>\n",
              "<table border=\"1\" class=\"dataframe\">\n",
              "  <thead>\n",
              "    <tr style=\"text-align: right;\">\n",
              "      <th></th>\n",
              "      <th>nom</th>\n",
              "      <th>num_doc</th>\n",
              "      <th>role</th>\n",
              "    </tr>\n",
              "  </thead>\n",
              "  <tbody>\n",
              "    <tr>\n",
              "      <th>0</th>\n",
              "      <td>Kortunov Andrei</td>\n",
              "      <td>1</td>\n",
              "      <td>Auteur</td>\n",
              "    </tr>\n",
              "    <tr>\n",
              "      <th>1</th>\n",
              "      <td>Bouyssou Rachel</td>\n",
              "      <td>1</td>\n",
              "      <td>Traducteur</td>\n",
              "    </tr>\n",
              "    <tr>\n",
              "      <th>2</th>\n",
              "      <td>Docquier Frédéric</td>\n",
              "      <td>2</td>\n",
              "      <td>Auteur</td>\n",
              "    </tr>\n",
              "    <tr>\n",
              "      <th>3</th>\n",
              "      <td>Rapoport Hillel</td>\n",
              "      <td>2</td>\n",
              "      <td>Auteur</td>\n",
              "    </tr>\n",
              "    <tr>\n",
              "      <th>4</th>\n",
              "      <td>Chauvier Stéphane</td>\n",
              "      <td>3</td>\n",
              "      <td>Auteur</td>\n",
              "    </tr>\n",
              "    <tr>\n",
              "      <th>...</th>\n",
              "      <td>...</td>\n",
              "      <td>...</td>\n",
              "      <td>...</td>\n",
              "    </tr>\n",
              "    <tr>\n",
              "      <th>5140</th>\n",
              "      <td>Barseghian Jeanne</td>\n",
              "      <td>4996</td>\n",
              "      <td>Auteur</td>\n",
              "    </tr>\n",
              "    <tr>\n",
              "      <th>5141</th>\n",
              "      <td>Guignier Armelle</td>\n",
              "      <td>4997</td>\n",
              "      <td>Auteur</td>\n",
              "    </tr>\n",
              "    <tr>\n",
              "      <th>5142</th>\n",
              "      <td>Comte Françoise</td>\n",
              "      <td>4998</td>\n",
              "      <td>Auteur</td>\n",
              "    </tr>\n",
              "    <tr>\n",
              "      <th>5143</th>\n",
              "      <td>Coussy Jean</td>\n",
              "      <td>4999</td>\n",
              "      <td>Auteur</td>\n",
              "    </tr>\n",
              "    <tr>\n",
              "      <th>5144</th>\n",
              "      <td>Bouvier Jean</td>\n",
              "      <td>5000</td>\n",
              "      <td>Auteur</td>\n",
              "    </tr>\n",
              "  </tbody>\n",
              "</table>\n",
              "<p>5145 rows × 3 columns</p>\n",
              "</div>"
            ],
            "text/plain": [
              "                     nom  num_doc        role\n",
              "0        Kortunov Andrei        1      Auteur\n",
              "1        Bouyssou Rachel        1  Traducteur\n",
              "2      Docquier Frédéric        2      Auteur\n",
              "3       Rapoport Hillel         2      Auteur\n",
              "4     Chauvier Stéphane         3      Auteur\n",
              "...                  ...      ...         ...\n",
              "5140   Barseghian Jeanne     4996      Auteur\n",
              "5141    Guignier Armelle     4997      Auteur\n",
              "5142     Comte Françoise     4998      Auteur\n",
              "5143         Coussy Jean     4999      Auteur\n",
              "5144       Bouvier Jean      5000      Auteur\n",
              "\n",
              "[5145 rows x 3 columns]"
            ]
          },
          "metadata": {
            "tags": []
          },
          "execution_count": 53
        }
      ]
    },
    {
      "cell_type": "code",
      "metadata": {
        "id": "Nml1O0THxjjO",
        "colab_type": "code",
        "colab": {}
      },
      "source": [
        "df_redige['num_doc']=df_redige['num_doc'].astype(int)"
      ],
      "execution_count": 0,
      "outputs": []
    },
    {
      "cell_type": "code",
      "metadata": {
        "id": "ZXH-yJN_x2rr",
        "colab_type": "code",
        "colab": {}
      },
      "source": [
        "df_redige['num_auteur']=list(np.arange(1,len(df_redige)+1))"
      ],
      "execution_count": 0,
      "outputs": []
    },
    {
      "cell_type": "code",
      "metadata": {
        "id": "75X69Af2yE8-",
        "colab_type": "code",
        "outputId": "b5586f23-0a8b-4b77-d8f0-a980cd668641",
        "colab": {
          "base_uri": "https://localhost:8080/",
          "height": 204
        }
      },
      "source": [
        "t_redige=df_redige[['num_auteur','num_doc']]\n",
        "t_redige.head()"
      ],
      "execution_count": 0,
      "outputs": [
        {
          "output_type": "execute_result",
          "data": {
            "text/html": [
              "<div>\n",
              "<style scoped>\n",
              "    .dataframe tbody tr th:only-of-type {\n",
              "        vertical-align: middle;\n",
              "    }\n",
              "\n",
              "    .dataframe tbody tr th {\n",
              "        vertical-align: top;\n",
              "    }\n",
              "\n",
              "    .dataframe thead th {\n",
              "        text-align: right;\n",
              "    }\n",
              "</style>\n",
              "<table border=\"1\" class=\"dataframe\">\n",
              "  <thead>\n",
              "    <tr style=\"text-align: right;\">\n",
              "      <th></th>\n",
              "      <th>num_auteur</th>\n",
              "      <th>num_doc</th>\n",
              "    </tr>\n",
              "  </thead>\n",
              "  <tbody>\n",
              "    <tr>\n",
              "      <th>0</th>\n",
              "      <td>1</td>\n",
              "      <td>1</td>\n",
              "    </tr>\n",
              "    <tr>\n",
              "      <th>1</th>\n",
              "      <td>2</td>\n",
              "      <td>1</td>\n",
              "    </tr>\n",
              "    <tr>\n",
              "      <th>2</th>\n",
              "      <td>3</td>\n",
              "      <td>2</td>\n",
              "    </tr>\n",
              "    <tr>\n",
              "      <th>3</th>\n",
              "      <td>4</td>\n",
              "      <td>2</td>\n",
              "    </tr>\n",
              "    <tr>\n",
              "      <th>4</th>\n",
              "      <td>5</td>\n",
              "      <td>3</td>\n",
              "    </tr>\n",
              "  </tbody>\n",
              "</table>\n",
              "</div>"
            ],
            "text/plain": [
              "   num_auteur  num_doc\n",
              "0           1        1\n",
              "1           2        1\n",
              "2           3        2\n",
              "3           4        2\n",
              "4           5        3"
            ]
          },
          "metadata": {
            "tags": []
          },
          "execution_count": 61
        }
      ]
    },
    {
      "cell_type": "code",
      "metadata": {
        "id": "zvTSBHubzApO",
        "colab_type": "code",
        "colab": {}
      },
      "source": [
        "t_redige.to_csv(sep=',', path_or_buf='/content/drive/My Drive/Colab Notebooks/t_redige.csv',index=False)"
      ],
      "execution_count": 0,
      "outputs": []
    },
    {
      "cell_type": "code",
      "metadata": {
        "id": "RTTzsn2Vza-e",
        "colab_type": "code",
        "colab": {}
      },
      "source": [
        ""
      ],
      "execution_count": 0,
      "outputs": []
    }
  ]
}