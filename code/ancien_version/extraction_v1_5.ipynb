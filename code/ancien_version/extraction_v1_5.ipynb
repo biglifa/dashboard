{
  "nbformat": 4,
  "nbformat_minor": 0,
  "metadata": {
    "kernelspec": {
      "display_name": "Python 3",
      "language": "python",
      "name": "python3"
    },
    "language_info": {
      "codemirror_mode": {
        "name": "ipython",
        "version": 3
      },
      "file_extension": ".py",
      "mimetype": "text/x-python",
      "name": "python",
      "nbconvert_exporter": "python",
      "pygments_lexer": "ipython3",
      "version": "3.7.4"
    },
    "colab": {
      "name": "Extraction_vf.ipynb",
      "provenance": [],
      "collapsed_sections": [],
      "toc_visible": true
    }
  },
  "cells": [
    {
      "cell_type": "code",
      "metadata": {
        "id": "FE68ikcqIWvS",
        "colab_type": "code",
        "outputId": "dea816a6-4501-45b2-d51d-2a47ead3f876",
        "colab": {
          "base_uri": "https://localhost:8080/",
          "height": 1000
        }
      },
      "source": [
        "\n",
        "!pip install selenium\n",
        "!apt-get update # to update ubuntu to correctly run apt install\n",
        "!apt install chromium-chromedriver\n",
        "!cp /usr/lib/chromium-browser/chromedriver /usr/bin"
      ],
      "execution_count": 1,
      "outputs": [
        {
          "output_type": "stream",
          "text": [
            "Collecting selenium\n",
            "\u001b[?25l  Downloading https://files.pythonhosted.org/packages/80/d6/4294f0b4bce4de0abf13e17190289f9d0613b0a44e5dd6a7f5ca98459853/selenium-3.141.0-py2.py3-none-any.whl (904kB)\n",
            "\r\u001b[K     |▍                               | 10kB 28.3MB/s eta 0:00:01\r\u001b[K     |▊                               | 20kB 3.0MB/s eta 0:00:01\r\u001b[K     |█                               | 30kB 4.3MB/s eta 0:00:01\r\u001b[K     |█▌                              | 40kB 2.9MB/s eta 0:00:01\r\u001b[K     |█▉                              | 51kB 3.5MB/s eta 0:00:01\r\u001b[K     |██▏                             | 61kB 4.2MB/s eta 0:00:01\r\u001b[K     |██▌                             | 71kB 4.9MB/s eta 0:00:01\r\u001b[K     |███                             | 81kB 5.5MB/s eta 0:00:01\r\u001b[K     |███▎                            | 92kB 6.1MB/s eta 0:00:01\r\u001b[K     |███▋                            | 102kB 4.7MB/s eta 0:00:01\r\u001b[K     |████                            | 112kB 4.7MB/s eta 0:00:01\r\u001b[K     |████▍                           | 122kB 4.7MB/s eta 0:00:01\r\u001b[K     |████▊                           | 133kB 4.7MB/s eta 0:00:01\r\u001b[K     |█████                           | 143kB 4.7MB/s eta 0:00:01\r\u001b[K     |█████▍                          | 153kB 4.7MB/s eta 0:00:01\r\u001b[K     |█████▉                          | 163kB 4.7MB/s eta 0:00:01\r\u001b[K     |██████▏                         | 174kB 4.7MB/s eta 0:00:01\r\u001b[K     |██████▌                         | 184kB 4.7MB/s eta 0:00:01\r\u001b[K     |██████▉                         | 194kB 4.7MB/s eta 0:00:01\r\u001b[K     |███████▎                        | 204kB 4.7MB/s eta 0:00:01\r\u001b[K     |███████▋                        | 215kB 4.7MB/s eta 0:00:01\r\u001b[K     |████████                        | 225kB 4.7MB/s eta 0:00:01\r\u001b[K     |████████▎                       | 235kB 4.7MB/s eta 0:00:01\r\u001b[K     |████████▊                       | 245kB 4.7MB/s eta 0:00:01\r\u001b[K     |█████████                       | 256kB 4.7MB/s eta 0:00:01\r\u001b[K     |█████████▍                      | 266kB 4.7MB/s eta 0:00:01\r\u001b[K     |█████████▉                      | 276kB 4.7MB/s eta 0:00:01\r\u001b[K     |██████████▏                     | 286kB 4.7MB/s eta 0:00:01\r\u001b[K     |██████████▌                     | 296kB 4.7MB/s eta 0:00:01\r\u001b[K     |██████████▉                     | 307kB 4.7MB/s eta 0:00:01\r\u001b[K     |███████████▎                    | 317kB 4.7MB/s eta 0:00:01\r\u001b[K     |███████████▋                    | 327kB 4.7MB/s eta 0:00:01\r\u001b[K     |████████████                    | 337kB 4.7MB/s eta 0:00:01\r\u001b[K     |████████████▎                   | 348kB 4.7MB/s eta 0:00:01\r\u001b[K     |████████████▊                   | 358kB 4.7MB/s eta 0:00:01\r\u001b[K     |█████████████                   | 368kB 4.7MB/s eta 0:00:01\r\u001b[K     |█████████████▍                  | 378kB 4.7MB/s eta 0:00:01\r\u001b[K     |█████████████▊                  | 389kB 4.7MB/s eta 0:00:01\r\u001b[K     |██████████████▏                 | 399kB 4.7MB/s eta 0:00:01\r\u001b[K     |██████████████▌                 | 409kB 4.7MB/s eta 0:00:01\r\u001b[K     |██████████████▉                 | 419kB 4.7MB/s eta 0:00:01\r\u001b[K     |███████████████▏                | 430kB 4.7MB/s eta 0:00:01\r\u001b[K     |███████████████▋                | 440kB 4.7MB/s eta 0:00:01\r\u001b[K     |████████████████                | 450kB 4.7MB/s eta 0:00:01\r\u001b[K     |████████████████▎               | 460kB 4.7MB/s eta 0:00:01\r\u001b[K     |████████████████▋               | 471kB 4.7MB/s eta 0:00:01\r\u001b[K     |█████████████████               | 481kB 4.7MB/s eta 0:00:01\r\u001b[K     |█████████████████▍              | 491kB 4.7MB/s eta 0:00:01\r\u001b[K     |█████████████████▊              | 501kB 4.7MB/s eta 0:00:01\r\u001b[K     |██████████████████▏             | 512kB 4.7MB/s eta 0:00:01\r\u001b[K     |██████████████████▌             | 522kB 4.7MB/s eta 0:00:01\r\u001b[K     |██████████████████▉             | 532kB 4.7MB/s eta 0:00:01\r\u001b[K     |███████████████████▏            | 542kB 4.7MB/s eta 0:00:01\r\u001b[K     |███████████████████▋            | 552kB 4.7MB/s eta 0:00:01\r\u001b[K     |████████████████████            | 563kB 4.7MB/s eta 0:00:01\r\u001b[K     |████████████████████▎           | 573kB 4.7MB/s eta 0:00:01\r\u001b[K     |████████████████████▋           | 583kB 4.7MB/s eta 0:00:01\r\u001b[K     |█████████████████████           | 593kB 4.7MB/s eta 0:00:01\r\u001b[K     |█████████████████████▍          | 604kB 4.7MB/s eta 0:00:01\r\u001b[K     |█████████████████████▊          | 614kB 4.7MB/s eta 0:00:01\r\u001b[K     |██████████████████████          | 624kB 4.7MB/s eta 0:00:01\r\u001b[K     |██████████████████████▌         | 634kB 4.7MB/s eta 0:00:01\r\u001b[K     |██████████████████████▉         | 645kB 4.7MB/s eta 0:00:01\r\u001b[K     |███████████████████████▏        | 655kB 4.7MB/s eta 0:00:01\r\u001b[K     |███████████████████████▌        | 665kB 4.7MB/s eta 0:00:01\r\u001b[K     |████████████████████████        | 675kB 4.7MB/s eta 0:00:01\r\u001b[K     |████████████████████████▎       | 686kB 4.7MB/s eta 0:00:01\r\u001b[K     |████████████████████████▋       | 696kB 4.7MB/s eta 0:00:01\r\u001b[K     |█████████████████████████       | 706kB 4.7MB/s eta 0:00:01\r\u001b[K     |█████████████████████████▍      | 716kB 4.7MB/s eta 0:00:01\r\u001b[K     |█████████████████████████▊      | 727kB 4.7MB/s eta 0:00:01\r\u001b[K     |██████████████████████████      | 737kB 4.7MB/s eta 0:00:01\r\u001b[K     |██████████████████████████▍     | 747kB 4.7MB/s eta 0:00:01\r\u001b[K     |██████████████████████████▉     | 757kB 4.7MB/s eta 0:00:01\r\u001b[K     |███████████████████████████▏    | 768kB 4.7MB/s eta 0:00:01\r\u001b[K     |███████████████████████████▌    | 778kB 4.7MB/s eta 0:00:01\r\u001b[K     |████████████████████████████    | 788kB 4.7MB/s eta 0:00:01\r\u001b[K     |████████████████████████████▎   | 798kB 4.7MB/s eta 0:00:01\r\u001b[K     |████████████████████████████▋   | 808kB 4.7MB/s eta 0:00:01\r\u001b[K     |█████████████████████████████   | 819kB 4.7MB/s eta 0:00:01\r\u001b[K     |█████████████████████████████▍  | 829kB 4.7MB/s eta 0:00:01\r\u001b[K     |█████████████████████████████▊  | 839kB 4.7MB/s eta 0:00:01\r\u001b[K     |██████████████████████████████  | 849kB 4.7MB/s eta 0:00:01\r\u001b[K     |██████████████████████████████▍ | 860kB 4.7MB/s eta 0:00:01\r\u001b[K     |██████████████████████████████▉ | 870kB 4.7MB/s eta 0:00:01\r\u001b[K     |███████████████████████████████▏| 880kB 4.7MB/s eta 0:00:01\r\u001b[K     |███████████████████████████████▌| 890kB 4.7MB/s eta 0:00:01\r\u001b[K     |███████████████████████████████▉| 901kB 4.7MB/s eta 0:00:01\r\u001b[K     |████████████████████████████████| 911kB 4.7MB/s \n",
            "\u001b[?25hRequirement already satisfied: urllib3 in /usr/local/lib/python3.6/dist-packages (from selenium) (1.24.3)\n",
            "Installing collected packages: selenium\n",
            "Successfully installed selenium-3.141.0\n",
            "Get:1 https://cloud.r-project.org/bin/linux/ubuntu bionic-cran35/ InRelease [3,626 B]\n",
            "Ign:2 https://developer.download.nvidia.com/compute/cuda/repos/ubuntu1804/x86_64  InRelease\n",
            "Get:3 http://security.ubuntu.com/ubuntu bionic-security InRelease [88.7 kB]\n",
            "Ign:4 https://developer.download.nvidia.com/compute/machine-learning/repos/ubuntu1804/x86_64  InRelease\n",
            "Get:5 https://developer.download.nvidia.com/compute/cuda/repos/ubuntu1804/x86_64  Release [564 B]\n",
            "Hit:6 https://developer.download.nvidia.com/compute/machine-learning/repos/ubuntu1804/x86_64  Release\n",
            "Get:7 https://developer.download.nvidia.com/compute/cuda/repos/ubuntu1804/x86_64  Release.gpg [819 B]\n",
            "Hit:8 http://archive.ubuntu.com/ubuntu bionic InRelease\n",
            "Get:9 http://ppa.launchpad.net/graphics-drivers/ppa/ubuntu bionic InRelease [21.3 kB]\n",
            "Get:10 http://archive.ubuntu.com/ubuntu bionic-updates InRelease [88.7 kB]\n",
            "Get:11 https://cloud.r-project.org/bin/linux/ubuntu bionic-cran35/ Packages [87.3 kB]\n",
            "Get:13 https://developer.download.nvidia.com/compute/cuda/repos/ubuntu1804/x86_64  Packages [141 kB]\n",
            "Get:14 http://ppa.launchpad.net/marutter/c2d4u3.5/ubuntu bionic InRelease [15.4 kB]\n",
            "Get:15 http://archive.ubuntu.com/ubuntu bionic-backports InRelease [74.6 kB]\n",
            "Get:16 http://security.ubuntu.com/ubuntu bionic-security/main amd64 Packages [836 kB]\n",
            "Get:17 http://security.ubuntu.com/ubuntu bionic-security/universe amd64 Packages [826 kB]\n",
            "Get:18 http://ppa.launchpad.net/graphics-drivers/ppa/ubuntu bionic/main amd64 Packages [37.1 kB]\n",
            "Get:19 http://security.ubuntu.com/ubuntu bionic-security/multiverse amd64 Packages [7,640 B]\n",
            "Get:20 http://archive.ubuntu.com/ubuntu bionic-updates/main amd64 Packages [1,128 kB]\n",
            "Get:21 http://ppa.launchpad.net/marutter/c2d4u3.5/ubuntu bionic/main Sources [1,782 kB]\n",
            "Get:22 http://archive.ubuntu.com/ubuntu bionic-updates/multiverse amd64 Packages [11.7 kB]\n",
            "Get:23 http://archive.ubuntu.com/ubuntu bionic-updates/universe amd64 Packages [1,355 kB]\n",
            "Get:24 http://archive.ubuntu.com/ubuntu bionic-backports/universe amd64 Packages [4,245 B]\n",
            "Get:25 http://ppa.launchpad.net/marutter/c2d4u3.5/ubuntu bionic/main amd64 Packages [861 kB]\n",
            "Fetched 7,372 kB in 4s (1,869 kB/s)\n",
            "Reading package lists... Done\n",
            "Reading package lists... Done\n",
            "Building dependency tree       \n",
            "Reading state information... Done\n",
            "The following additional packages will be installed:\n",
            "  chromium-browser chromium-browser-l10n chromium-codecs-ffmpeg-extra\n",
            "Suggested packages:\n",
            "  webaccounts-chromium-extension unity-chromium-extension adobe-flashplugin\n",
            "The following NEW packages will be installed:\n",
            "  chromium-browser chromium-browser-l10n chromium-chromedriver\n",
            "  chromium-codecs-ffmpeg-extra\n",
            "0 upgraded, 4 newly installed, 0 to remove and 84 not upgraded.\n",
            "Need to get 74.4 MB of archives.\n",
            "After this operation, 264 MB of additional disk space will be used.\n",
            "Get:1 http://archive.ubuntu.com/ubuntu bionic-updates/universe amd64 chromium-codecs-ffmpeg-extra amd64 80.0.3987.87-0ubuntu0.18.04.1 [1,095 kB]\n",
            "Get:2 http://archive.ubuntu.com/ubuntu bionic-updates/universe amd64 chromium-browser amd64 80.0.3987.87-0ubuntu0.18.04.1 [66.1 MB]\n",
            "Get:3 http://archive.ubuntu.com/ubuntu bionic-updates/universe amd64 chromium-browser-l10n all 80.0.3987.87-0ubuntu0.18.04.1 [3,155 kB]\n",
            "Get:4 http://archive.ubuntu.com/ubuntu bionic-updates/universe amd64 chromium-chromedriver amd64 80.0.3987.87-0ubuntu0.18.04.1 [4,044 kB]\n",
            "Fetched 74.4 MB in 5s (15.4 MB/s)\n",
            "Selecting previously unselected package chromium-codecs-ffmpeg-extra.\n",
            "(Reading database ... 134448 files and directories currently installed.)\n",
            "Preparing to unpack .../chromium-codecs-ffmpeg-extra_80.0.3987.87-0ubuntu0.18.04.1_amd64.deb ...\n",
            "Unpacking chromium-codecs-ffmpeg-extra (80.0.3987.87-0ubuntu0.18.04.1) ...\n",
            "Selecting previously unselected package chromium-browser.\n",
            "Preparing to unpack .../chromium-browser_80.0.3987.87-0ubuntu0.18.04.1_amd64.deb ...\n",
            "Unpacking chromium-browser (80.0.3987.87-0ubuntu0.18.04.1) ...\n",
            "Selecting previously unselected package chromium-browser-l10n.\n",
            "Preparing to unpack .../chromium-browser-l10n_80.0.3987.87-0ubuntu0.18.04.1_all.deb ...\n",
            "Unpacking chromium-browser-l10n (80.0.3987.87-0ubuntu0.18.04.1) ...\n",
            "Selecting previously unselected package chromium-chromedriver.\n",
            "Preparing to unpack .../chromium-chromedriver_80.0.3987.87-0ubuntu0.18.04.1_amd64.deb ...\n",
            "Unpacking chromium-chromedriver (80.0.3987.87-0ubuntu0.18.04.1) ...\n",
            "Setting up chromium-codecs-ffmpeg-extra (80.0.3987.87-0ubuntu0.18.04.1) ...\n",
            "Setting up chromium-browser (80.0.3987.87-0ubuntu0.18.04.1) ...\n",
            "update-alternatives: using /usr/bin/chromium-browser to provide /usr/bin/x-www-browser (x-www-browser) in auto mode\n",
            "update-alternatives: using /usr/bin/chromium-browser to provide /usr/bin/gnome-www-browser (gnome-www-browser) in auto mode\n",
            "Setting up chromium-chromedriver (80.0.3987.87-0ubuntu0.18.04.1) ...\n",
            "Setting up chromium-browser-l10n (80.0.3987.87-0ubuntu0.18.04.1) ...\n",
            "Processing triggers for hicolor-icon-theme (0.17-2) ...\n",
            "Processing triggers for mime-support (3.60ubuntu1) ...\n",
            "Processing triggers for man-db (2.8.3-2ubuntu0.1) ...\n",
            "cp: '/usr/lib/chromium-browser/chromedriver' and '/usr/bin/chromedriver' are the same file\n"
          ],
          "name": "stdout"
        }
      ]
    },
    {
      "cell_type": "code",
      "metadata": {
        "id": "Lzhxfh5bIPMz",
        "colab_type": "code",
        "colab": {}
      },
      "source": [
        "import pandas as pd\n",
        "import re\n",
        "import time\n",
        "import numpy as np\n",
        "import random\n",
        "import sys\n",
        "sys.path.append('/usr/lib/chromium-browser/chromedriver')\n",
        "from selenium import webdriver\n",
        "from selenium.webdriver import Chrome\n",
        "from selenium.webdriver.chrome.options import Options\n",
        "from selenium.webdriver.common.by import By \n",
        "from selenium.webdriver.support.ui import WebDriverWait \n",
        "from selenium.webdriver.support import expected_conditions as EC\n",
        "from selenium.webdriver.chrome.options import Options\n",
        "from selenium.common.exceptions import NoSuchElementException\n",
        "\n",
        "# Activation of Chrome Options\n",
        "chrome_options = Options()\n",
        "chrome_options.add_argument('--headless')\n",
        "chrome_options.add_argument('--no-sandbox')\n",
        "chrome_options.add_argument('--disable-dev-shm-usage')\n",
        "chrome_options.add_argument('--disable-impl-side-painting')"
      ],
      "execution_count": 0,
      "outputs": []
    },
    {
      "cell_type": "markdown",
      "metadata": {
        "id": "6TikcVeflRSR",
        "colab_type": "text"
      },
      "source": [
        "# Fonctions de scrappe"
      ]
    },
    {
      "cell_type": "code",
      "metadata": {
        "id": "HLOr-nHlIPNT",
        "colab_type": "code",
        "outputId": "51a0466e-d37c-44b2-acbc-0fb030f19303",
        "colab": {
          "base_uri": "https://localhost:8080/",
          "height": 71
        }
      },
      "source": [
        "#La session pour les auteurs.\n",
        "site_auteur= webdriver.Chrome(\"chromedriver\",chrome_options=chrome_options) \n",
        "\n",
        "def f_auteur(doc,i):\n",
        "    \"\"\"\n",
        "        Une fonction pour un document donné en paramère renvoie les infos des auteurs\n",
        "    \n",
        "    \"\"\"\n",
        "    auteurs=[]\n",
        "    try:\n",
        "        contributeur=doc.find_elements_by_class_name(\"contributor\")   \n",
        "        c=1     \n",
        "        for con in contributeur:\n",
        "            #Au cas ou le lien n'existe pas\n",
        "            try:\n",
        "                #Recuperer le lien et se connecter au site de l'auteur\n",
        "                lien=con.find_element_by_class_name(\"authority\").get_attribute(\"href\")\n",
        "                site_auteur.get(lien)\n",
        "\n",
        "                #Recuperer son numero\n",
        "                num=lien[32:]\n",
        "\n",
        "                #Recuper les infos de l'auteur\n",
        "                infos=site_auteur.find_element_by_class_name(\"authority-idcard\")\n",
        "                info=infos.find_element_by_xpath(\"//h2[@itemprop]\").text\n",
        "\n",
        "                #Son nom\n",
        "                nom=re.search(r\"([A-Z]*\\w*[, .-]*)*\",info).group(0).replace(\",\",\"\")\n",
        "\n",
        "                #Date naissance s'il existe\n",
        "                try:\n",
        "                    birth=re.search(r\"\\([0-9]{4}\",info).group(0)\n",
        "                    birth=str(birth)[1:]\n",
        "                except:\n",
        "                    birth=''\n",
        "\n",
        "                #Date de decès s'il existe\n",
        "                try:\n",
        "                    death=re.search(r\"\\-[0-9]{4}\",info).group(0)\n",
        "                    death=str(death)[1:]\n",
        "                except:\n",
        "                    death=''\n",
        "\n",
        "                #Son biographie s'il existe. Cela nous permettra après de recuperer sa profession et son pays d'origine\n",
        "                try:\n",
        "                    bio=site_auteur.find_element_by_class_name(\"authority-bio\").text\n",
        "                except:\n",
        "                    bio=''\n",
        "            except:\n",
        "                num='000'+str(i)+str(c)\n",
        "                nom=con.find_element_by_class_name(\"authority\").text.replace(\",\",\"\")\n",
        "                birth=''\n",
        "                death=''\n",
        "                bio=''\n",
        "                pass\n",
        "                 \n",
        "            #Son role s'il exite\n",
        "            try:\n",
        "                role=con.find_element_by_class_name(\"role\").text\n",
        "                role=str(role)[1:-1]\n",
        "            except NoSuchElementException:\n",
        "                role=''\n",
        "                pass\n",
        "            \n",
        "            \n",
        "            auteurs.append([num,nom,birth,death,bio,role])\n",
        "            c+=1\n",
        "    except NoSuchElementException:\n",
        "        auteurs=[['','','','','','']]\n",
        "        \n",
        "    return auteurs"
      ],
      "execution_count": 17,
      "outputs": [
        {
          "output_type": "stream",
          "text": [
            "/usr/local/lib/python3.6/dist-packages/ipykernel_launcher.py:1: DeprecationWarning: use options instead of chrome_options\n",
            "  \"\"\"Entry point for launching an IPython kernel.\n"
          ],
          "name": "stderr"
        }
      ]
    },
    {
      "cell_type": "code",
      "metadata": {
        "id": "JdpLyBzrIPNb",
        "colab_type": "code",
        "colab": {}
      },
      "source": [
        "def f_article(doc):\n",
        "    \"\"\"\n",
        "        Pour un document donné, la fonction renvoie son titre, date publication ...\n",
        "    \"\"\"\n",
        "    \n",
        "    #Title\n",
        "    try:\n",
        "        title=doc.find_elements_by_class_name(\"title\")[0].text\n",
        "    except NoSuchElementException:\n",
        "        title=''\n",
        "        pass\n",
        "    \n",
        "    #Type\n",
        "    try:\n",
        "        typee=re.search(r\"\\[\\w+([ ',-]\\w+)*\\]\",doc.find_elements_by_css_selector(\"div\")[0].text).group(0)\n",
        "        typee=str(typee)[1:-1]\n",
        "    except:\n",
        "        typee=''\n",
        "        pass\n",
        "    \n",
        "    #Date de publication\n",
        "    try:\n",
        "        datePub=int(doc.find_element_by_class_name(\"documentYear\").text[5:])\n",
        "    except NoSuchElementException:\n",
        "        datePub=''\n",
        "        pass\n",
        "    \n",
        "    \n",
        "    #Numero publication\n",
        "    try:\n",
        "        numPub=doc.find_element_by_class_name(\"documentIssue\").text\n",
        "    except NoSuchElementException:\n",
        "        numPub=''\n",
        "        pass\n",
        "\n",
        "    #Abstract\n",
        "    try:\n",
        "        abstract=doc.find_element_by_class_name(\"searchContext\").text\n",
        "    except NoSuchElementException:\n",
        "        abstract=''\n",
        "        pass\n",
        "    \n",
        "    return [title,typee,datePub,numPub,abstract]"
      ],
      "execution_count": 0,
      "outputs": []
    },
    {
      "cell_type": "code",
      "metadata": {
        "id": "xb4rvJrqicgu",
        "colab_type": "code",
        "outputId": "7ebc294a-cb2d-4032-f854-3cde74476f51",
        "colab": {
          "base_uri": "https://localhost:8080/",
          "height": 105
        }
      },
      "source": [
        "#Session pour les collections de persee et les collections erudits\n",
        "site_persee= webdriver.Chrome(\"chromedriver\",chrome_options=chrome_options) \n",
        "site_erudit= webdriver.Chrome(\"chromedriver\",chrome_options=chrome_options) \n",
        "\n",
        "def f_collection(doc):\n",
        "    \"\"\"\n",
        "        Pour un document donné en paramètre, il renvoie son eissn, nom ...\n",
        "            \n",
        "    \"\"\"\n",
        "    try:\n",
        "        #Recuperer le lien et se connecter au site\n",
        "        clt=doc.find_element_by_class_name(\"collection\")\n",
        "        lien=clt.find_element_by_css_selector(\"a\").get_attribute(\"href\")\n",
        "        site_persee.get(lien)\n",
        "\n",
        "        #Si le site est un site de persée\n",
        "        try:\n",
        "            info_box=site_persee.find_element_by_class_name(\"info-box\")\n",
        "            divs=info_box.find_elements_by_css_selector(\"div\")\n",
        "            \n",
        "            annee_deb=int(re.search(r\"[0-9]+\",divs[0].text).group(0))\n",
        "            annee_fin=int(re.search(r\" [0-9]+\",divs[0].text).group(0))\n",
        "            nb_num=int(re.search(r\"[0-9]+\",divs[1].text).group(0))\n",
        "            nb_doc=int(re.search(r\"[0-9]+\",divs[2].text).group(0))\n",
        "            try:\n",
        "                issn1=re.search(r\"[0-9]+\\-[0-9]+\",divs[3].text).group(0)\n",
        "                ss=0\n",
        "            except:\n",
        "                issn1=str(annee_deb)+'-'+str(annee_fin)\n",
        "                ss=1\n",
        "\n",
        "            #Cliquer sur INFORMATION de la page persée\n",
        "            bouton = site_persee.find_element_by_id(\"tab-header-item-information\")\n",
        "            if bouton : \n",
        "                if bouton.is_displayed() :\n",
        "                    bouton.click()\n",
        "                    pause()\n",
        "\n",
        "            table=site_persee.find_element_by_css_selector(\"table\")\n",
        "            trs=table.find_elements_by_css_selector(\"tr\")\n",
        "            discipline=trs[2].find_elements_by_css_selector(\"td\")[1].text\n",
        "            editeur=trs[3].find_elements_by_css_selector(\"td\")[1].text\n",
        "\n",
        "            try:\n",
        "                issn2=trs[4].find_elements_by_css_selector(\"td\")[1].text\n",
        "            except:\n",
        "                issn2=issn1\n",
        "                ss=2\n",
        "\n",
        "            if ss==0:\n",
        "                issn=issn1\n",
        "            else:\n",
        "                issn=iss2\n",
        "        \n",
        "\n",
        "            nom_clt=site_persee.find_element_by_id(\"collection-header\").find_element_by_css_selector(\"h2\").text\n",
        "            collection=[issn,nom_clt,nb_num,nb_doc,annee_deb,annee_fin,discipline,editeur]\n",
        "        except:\n",
        "            #Si le site est un site d'érudit\n",
        "            nom_clt=site_persee.find_element_by_class_name(\"journal-title\").text\n",
        "        \n",
        "            #Recuperer le lien de redirection et s'y connecter\n",
        "            link=site_persee.find_element_by_css_selector(\"link\").get_attribute(\"href\")\n",
        "            site_erudit.get(link+\"#back-issues\")\n",
        "        \n",
        "        \n",
        "            back=site_erudit.find_element_by_id(\"back-issues\")\n",
        "            nb_num=re.search(r\"[0-9]+\",back.find_element_by_css_selector('h2').text).group(0)\n",
        "            annees=back.find_elements_by_class_name(\"year-list__title\")\n",
        "            annee_fin=annees[0].text\n",
        "            annee_deb=annees[-1].text\n",
        "            nb_doc=len(back.find_elements_by_css_selector(\"li\"))\n",
        "        \n",
        "            fiche=site_erudit.find_elements_by_class_name(\"sidebar-block\")[2].text\n",
        "\n",
        "            try:\n",
        "                issn=re.search(r\"[0-9]+\\-[0-9]+ \\(numérique\",fiche).group(0)[:-11]\n",
        "            except:\n",
        "                issn=str(annee_deb)+'-'+str(annee_fin)\n",
        "\n",
        "            try:\n",
        "                editeur=re.search(r\"Éditeur[s]?\\n.+\",fiche).group(0)\n",
        "                editeur=editeur.split()[1:]\n",
        "                editeur=' '.join(editeur)    \n",
        "            except:\n",
        "                editeur=''        \n",
        "\n",
        "            try:\n",
        "                discipline=re.search(r\"Discipline[s]?\\n.+\",fiche).group(0)\n",
        "                discipline=discipline.split()[1:]\n",
        "                discipline=' '.join(discipline)\n",
        "            except:\n",
        "                discipline=''\n",
        "\n",
        "            collection=[issn,nom_clt,nb_num,nb_doc,annee_deb,annee_fin,discipline,editeur]\n",
        "            \n",
        "    except NoSuchElementException:\n",
        "        collection=['','','','','','','','']\n",
        "        pass\n",
        "    return collection"
      ],
      "execution_count": 5,
      "outputs": [
        {
          "output_type": "stream",
          "text": [
            "/usr/local/lib/python3.6/dist-packages/ipykernel_launcher.py:1: DeprecationWarning: use options instead of chrome_options\n",
            "  \"\"\"Entry point for launching an IPython kernel.\n",
            "/usr/local/lib/python3.6/dist-packages/ipykernel_launcher.py:2: DeprecationWarning: use options instead of chrome_options\n",
            "  \n"
          ],
          "name": "stderr"
        }
      ]
    },
    {
      "cell_type": "code",
      "metadata": {
        "id": "F3sZy5jzkJ3W",
        "colab_type": "code",
        "colab": {}
      },
      "source": [
        "#Creer les dataframes\n",
        "df_article = pd.DataFrame(columns=['num_doc','title','type','annee_publication','num_publication','abstract','issn'])\n",
        "df_auteur= pd.DataFrame(columns=['num','nom','annee_naissance','annee_decès','bio'])\n",
        "df_redige=pd.DataFrame(columns=['nom','num_doc','role'])\n",
        "df_collection=pd.DataFrame(columns=['issn','nom_clt','nb_numeros','nb_document','pre_année_pub','der_année_pub','discpline','editeur'])"
      ],
      "execution_count": 0,
      "outputs": []
    },
    {
      "cell_type": "code",
      "metadata": {
        "id": "6aa0uaInIPNB",
        "colab_type": "code",
        "outputId": "f746ab94-4931-4fd4-f64c-4e1ad103c1ae",
        "colab": {
          "base_uri": "https://localhost:8080/",
          "height": 71
        }
      },
      "source": [
        "#mettre le bon chemin \n",
        "driver = webdriver.Chrome(\"chromedriver\",chrome_options=chrome_options) \n",
        "\n",
        "#recupérer la page web\n",
        "driver.get(\"https://www.persee.fr/search?ta=article&q=fuite+des+cerveaux+europe\")\n",
        "\n",
        "# fonction pause\n",
        "def pause():\n",
        "    time_break = random.randint(1, 2)\n",
        "    return time.sleep(time_break)"
      ],
      "execution_count": 7,
      "outputs": [
        {
          "output_type": "stream",
          "text": [
            "/usr/local/lib/python3.6/dist-packages/ipykernel_launcher.py:1: DeprecationWarning: use options instead of chrome_options\n",
            "  \"\"\"Entry point for launching an IPython kernel.\n"
          ],
          "name": "stderr"
        }
      ]
    },
    {
      "cell_type": "code",
      "metadata": {
        "id": "0tVP6x1iKl6e",
        "colab_type": "code",
        "colab": {}
      },
      "source": [
        "#Initialiser\n",
        "j=0\n",
        "M=0\n",
        "N=0"
      ],
      "execution_count": 0,
      "outputs": []
    },
    {
      "cell_type": "code",
      "metadata": {
        "id": "6E69LgVPmSiL",
        "colab_type": "code",
        "outputId": "c7b759b2-3f9e-4e96-a364-17c6c9fe5ed3",
        "colab": {
          "base_uri": "https://localhost:8080/",
          "height": 187
        }
      },
      "source": [
        "# CHACUN ESSAYER DE RECUPERER LE MAX QUI LUI EST POSSIBLE.\n",
        "# CONSEIL: RECUPERER PAR 1000\n",
        "while N<5000:\n",
        "    \n",
        "    # scroller jusqu'en bas de page\n",
        "    driver.execute_script(\"window.scrollTo (0, document.body.scrollHeight);\")\n",
        "    docs=driver.find_elements_by_class_name(\"doc-result\")\n",
        "    N=len(docs)\n",
        "\n",
        "    #Se positionner au dernière élement recuperé\n",
        "    driver.execute_script(\"arguments[0].scrollIntoView({behavior: 'smooth', block: 'center', inline: 'nearest'});\", docs[N-1])\n",
        "    pause()\n",
        "    if N%500==0:\n",
        "        print(\"Recuperer:\",N)"
      ],
      "execution_count": 26,
      "outputs": [
        {
          "output_type": "stream",
          "text": [
            "Recuperer: 500\n",
            "Recuperer: 1000\n",
            "Recuperer: 1500\n",
            "Recuperer: 2000\n",
            "Recuperer: 2500\n",
            "Recuperer: 3000\n",
            "Recuperer: 3500\n",
            "Recuperer: 4000\n",
            "Recuperer: 4500\n",
            "Recuperer: 5000\n"
          ],
          "name": "stdout"
        }
      ]
    },
    {
      "cell_type": "code",
      "metadata": {
        "id": "wQctUpz7K9MC",
        "colab_type": "code",
        "outputId": "6cb9da75-9b12-4c3b-ed49-8f6c56b080ba",
        "colab": {
          "base_uri": "https://localhost:8080/",
          "height": 122
        }
      },
      "source": [
        "from google.colab import drive\n",
        "drive.mount('/content/drive')"
      ],
      "execution_count": 8,
      "outputs": [
        {
          "output_type": "stream",
          "text": [
            "Go to this URL in a browser: https://accounts.google.com/o/oauth2/auth?client_id=947318989803-6bn6qk8qdgf4n4g3pfee6491hc0brc4i.apps.googleusercontent.com&redirect_uri=urn%3aietf%3awg%3aoauth%3a2.0%3aoob&response_type=code&scope=email%20https%3a%2f%2fwww.googleapis.com%2fauth%2fdocs.test%20https%3a%2f%2fwww.googleapis.com%2fauth%2fdrive%20https%3a%2f%2fwww.googleapis.com%2fauth%2fdrive.photos.readonly%20https%3a%2f%2fwww.googleapis.com%2fauth%2fpeopleapi.readonly\n",
            "\n",
            "Enter your authorization code:\n",
            "··········\n",
            "Mounted at /content/drive\n"
          ],
          "name": "stdout"
        }
      ]
    },
    {
      "cell_type": "code",
      "metadata": {
        "id": "r7YfX-_nkUtX",
        "colab_type": "code",
        "colab": {}
      },
      "source": [
        "df_collection=pd.read_csv('/content/drive/My Drive/Colab Notebooks/collection_v6.csv')\n",
        "df_article=pd.read_csv('/content/drive/My Drive/Colab Notebooks/documents_v6.csv')\n",
        "df_auteur=pd.read_csv('/content/drive/My Drive/Colab Notebooks/personne_v6.csv')\n",
        "df_redige=pd.read_csv('/content/drive/My Drive/Colab Notebooks/redige_v6.csv')"
      ],
      "execution_count": 0,
      "outputs": []
    },
    {
      "cell_type": "code",
      "metadata": {
        "id": "hKK7_KMDnnmc",
        "colab_type": "code",
        "colab": {}
      },
      "source": [
        "#Reprendre là ou je m'etais arreté\n",
        "j=len(df_redige)\n",
        "M=len(df_article)\n",
        "j,M"
      ],
      "execution_count": 0,
      "outputs": []
    },
    {
      "cell_type": "code",
      "metadata": {
        "id": "lxFZ2pc5k0uB",
        "colab_type": "code",
        "colab": {}
      },
      "source": [
        "#Une fois recuperer, inserer\n",
        "for i in range(M,N): \n",
        "    doc=docs[i]\n",
        "        \n",
        "    #Inserer dans le Dataframe collection\n",
        "    collection=f_collection(doc)\n",
        "    if collection[0] not in list(df_collection['issn']):\n",
        "        df_collection.loc[i,:]=collection\n",
        "    \n",
        "    #Inserer dans le Dataframe article\n",
        "    article=f_article(doc)\n",
        "    article.insert(0,i+1)\n",
        "    article.append(collection[0])\n",
        "    df_article.loc[i,:]=article\n",
        "    \n",
        "    #Inserer dans le Dataframe auteur\n",
        "    auteurs=f_auteur(doc,i)\n",
        "    for auteur in auteurs:\n",
        "        if auteur[0] not in list(df_auteur['num']):\n",
        "            df_auteur.loc[j,:]=auteur[:-1]\n",
        "    #Inserer dans le Dataframe Redige\n",
        "        df_redige.loc[j,:]=[auteur[0],i+1,auteur[-1]]\n",
        "        j+=1\n",
        "  \n",
        "    if (i+1)%500==0:\n",
        "       print(\"Inserer:\",i+1)\n",
        "M=N       "
      ],
      "execution_count": 0,
      "outputs": []
    },
    {
      "cell_type": "code",
      "metadata": {
        "id": "nhahdw3pIPOT",
        "colab_type": "code",
        "colab": {}
      },
      "source": [
        "#Tranformer en csv\n",
        "df_collection.to_csv(sep=',', path_or_buf='/content/drive/My Drive/Colab Notebooks/collection_v6.csv',index=False)\n",
        "df_article.to_csv(sep=',', path_or_buf='/content/drive/My Drive/Colab Notebooks/documents_v6.csv',index=False)\n",
        "df_auteur.to_csv(sep=',', path_or_buf='/content/drive/My Drive/Colab Notebooks/personne_v6.csv',index=False)\n",
        "df_redige.to_csv(sep=',', path_or_buf='/content/drive/My Drive/Colab Notebooks/redige_v6.csv',index=False)"
      ],
      "execution_count": 0,
      "outputs": []
    },
    {
      "cell_type": "code",
      "metadata": {
        "id": "t_bTWqy30P1U",
        "colab_type": "code",
        "colab": {}
      },
      "source": [
        "#Fermer les sessions\n",
        "#driver.close()\n",
        "#site_erudit.close()\n",
        "#site_persee.close()\n",
        "#site_personne.close()"
      ],
      "execution_count": 0,
      "outputs": []
    }
  ]
}