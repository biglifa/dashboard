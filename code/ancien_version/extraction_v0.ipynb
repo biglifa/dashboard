{
 "cells": [
  {
   "cell_type": "code",
   "execution_count": 1,
   "metadata": {},
   "outputs": [],
   "source": [
    "import ast\n",
    "import requests\n",
    "import json\n",
    "import pandas as pd\n",
    "import re\n",
    "from urllib.request import Request, urlopen\n",
    "import urllib.request\n",
    "from selenium import webdriver\n",
    "from selenium.webdriver import Chrome\n",
    "from selenium.webdriver.chrome.options import Options\n",
    "from selenium.webdriver.common.by import By \n",
    "from selenium.webdriver.support.ui import WebDriverWait \n",
    "from selenium.webdriver.support import expected_conditions as EC\n",
    "from selenium.webdriver.chrome.options import Options"
   ]
  },
  {
   "cell_type": "code",
   "execution_count": 2,
   "metadata": {},
   "outputs": [
    {
     "name": "stderr",
     "output_type": "stream",
     "text": [
      "C:\\ProgramData\\Anaconda3\\lib\\site-packages\\ipykernel_launcher.py:8: DeprecationWarning: use options instead of chrome_options\n",
      "  \n"
     ]
    }
   ],
   "source": [
    "# Activation of Chrome Options\n",
    "\n",
    "chrome_options = Options()\n",
    "chrome_options.add_argument('--headless')\n",
    "chrome_options.add_argument('--no-sandbox')\n",
    "chrome_options.add_argument('--disable-dev-shm-usage')\n",
    "#mettre le bon chemin \n",
    "driver = webdriver.Chrome(\"C:/Users/USER/Desktop/chromedriver_win32/chromedriver.exe\",chrome_options=chrome_options) "
   ]
  },
  {
   "cell_type": "code",
   "execution_count": 3,
   "metadata": {},
   "outputs": [],
   "source": [
    "data = pd.DataFrame(columns=['Data_source','Year_publication','Title','Collection','Auteurs'])"
   ]
  },
  {
   "cell_type": "code",
   "execution_count": 4,
   "metadata": {},
   "outputs": [],
   "source": [
    "#recu^érer la page web\n",
    "driver.get(\"https://www.persee.fr/search?ta=article&q=fuite+des+cerveaux+europe\")"
   ]
  },
  {
   "cell_type": "code",
   "execution_count": 5,
   "metadata": {},
   "outputs": [
    {
     "name": "stdout",
     "output_type": "stream",
     "text": [
      "230105\n"
     ]
    }
   ],
   "source": [
    "#récupérerer le nombre d'articles\n",
    "nb_resulats = driver.find_elements_by_class_name(\"result-count\")[0].text\n",
    "nb_resulats = int(nb_resulats[0:6])\n",
    "print(nb_resulats)\n",
    "\n",
    "liste_date = []\n",
    "liste_collection= []\n",
    "liste_title = []\n",
    "#for i in range(len(nb_resulats)):\n",
    "for i in range(10):\n",
    "    #on récupère les date de publication que l'on stocke dans une liste \n",
    "    date_i = driver.find_elements_by_class_name(\"documentYear\")[i].text\n",
    "    date_i = date_i[5:len(date_i)]\n",
    "    liste_date.append(date_i)\n",
    "    \n",
    "    #recupérer la collection \n",
    "    collection_i = driver.find_elements_by_xpath(\"//*[contains(@class,'collection')]/a\")[i].text\n",
    "    liste_collection.append(collection_i)\n",
    "    \n",
    "    #recupérer le titre \n",
    "    title_i =  driver.find_elements_by_xpath(\"//*[contains(@class,'doc-result')]/div/a\")[i].text\n",
    "    liste_title.append(title_i)\n",
    "    \n",
    "    #recupérer les auteurs\n",
    "    #####......................."
   ]
  },
  {
   "cell_type": "code",
   "execution_count": 6,
   "metadata": {},
   "outputs": [
    {
     "data": {
      "text/html": [
       "<div>\n",
       "<style scoped>\n",
       "    .dataframe tbody tr th:only-of-type {\n",
       "        vertical-align: middle;\n",
       "    }\n",
       "\n",
       "    .dataframe tbody tr th {\n",
       "        vertical-align: top;\n",
       "    }\n",
       "\n",
       "    .dataframe thead th {\n",
       "        text-align: right;\n",
       "    }\n",
       "</style>\n",
       "<table border=\"1\" class=\"dataframe\">\n",
       "  <thead>\n",
       "    <tr style=\"text-align: right;\">\n",
       "      <th></th>\n",
       "      <th>Data_source</th>\n",
       "      <th>Year_publication</th>\n",
       "      <th>Title</th>\n",
       "      <th>Collection</th>\n",
       "      <th>Auteurs</th>\n",
       "    </tr>\n",
       "  </thead>\n",
       "  <tbody>\n",
       "    <tr>\n",
       "      <td>0</td>\n",
       "      <td>Pensée</td>\n",
       "      <td>1992</td>\n",
       "      <td>La fuite des cerveaux : le cas de l'ex-URSS</td>\n",
       "      <td>Hommes et Migrations</td>\n",
       "      <td>NaN</td>\n",
       "    </tr>\n",
       "    <tr>\n",
       "      <td>1</td>\n",
       "      <td>Pensée</td>\n",
       "      <td>2008</td>\n",
       "      <td>Que nous devons-nous les uns aux autres ? Le c...</td>\n",
       "      <td>Revue Philosophique de Louvain</td>\n",
       "      <td>NaN</td>\n",
       "    </tr>\n",
       "    <tr>\n",
       "      <td>2</td>\n",
       "      <td>Pensée</td>\n",
       "      <td>1999</td>\n",
       "      <td>Croissance, redistribution et inégalités dans ...</td>\n",
       "      <td>Revue économique</td>\n",
       "      <td>NaN</td>\n",
       "    </tr>\n",
       "    <tr>\n",
       "      <td>3</td>\n",
       "      <td>Pensée</td>\n",
       "      <td>1997</td>\n",
       "      <td>Au-delà de la « fuite des cerveaux » : la mobi...</td>\n",
       "      <td>Revue européenne des migrations internationales</td>\n",
       "      <td>NaN</td>\n",
       "    </tr>\n",
       "    <tr>\n",
       "      <td>4</td>\n",
       "      <td>Pensée</td>\n",
       "      <td>1970</td>\n",
       "      <td>Chorafas Dimitri N. — La fuite des cerveaux. L...</td>\n",
       "      <td>Population</td>\n",
       "      <td>NaN</td>\n",
       "    </tr>\n",
       "    <tr>\n",
       "      <td>5</td>\n",
       "      <td>Pensée</td>\n",
       "      <td>2008</td>\n",
       "      <td>Migration des Africains diplômés. \"Brain drain...</td>\n",
       "      <td>Hommes et Migrations</td>\n",
       "      <td>NaN</td>\n",
       "    </tr>\n",
       "    <tr>\n",
       "      <td>6</td>\n",
       "      <td>Pensée</td>\n",
       "      <td>2000</td>\n",
       "      <td>Migration Sud-Nord et commerce : une revue de ...</td>\n",
       "      <td>Revue d'économie du développement</td>\n",
       "      <td>NaN</td>\n",
       "    </tr>\n",
       "    <tr>\n",
       "      <td>7</td>\n",
       "      <td>Pensée</td>\n",
       "      <td>1973</td>\n",
       "      <td>L'exode des cerveaux vers les États-Unis. Un c...</td>\n",
       "      <td>Revue Tiers Monde</td>\n",
       "      <td>NaN</td>\n",
       "    </tr>\n",
       "    <tr>\n",
       "      <td>8</td>\n",
       "      <td>Pensée</td>\n",
       "      <td>2004</td>\n",
       "      <td>Mobilité et transferts de savoir : acteurs, ré...</td>\n",
       "      <td>Bulletin de l'Association de Géographes Français</td>\n",
       "      <td>NaN</td>\n",
       "    </tr>\n",
       "    <tr>\n",
       "      <td>9</td>\n",
       "      <td>Pensée</td>\n",
       "      <td>1972</td>\n",
       "      <td>L'exode des cerveaux</td>\n",
       "      <td>Revue économique</td>\n",
       "      <td>NaN</td>\n",
       "    </tr>\n",
       "  </tbody>\n",
       "</table>\n",
       "</div>"
      ],
      "text/plain": [
       "  Data_source Year_publication  \\\n",
       "0      Pensée             1992   \n",
       "1      Pensée             2008   \n",
       "2      Pensée             1999   \n",
       "3      Pensée             1997   \n",
       "4      Pensée             1970   \n",
       "5      Pensée             2008   \n",
       "6      Pensée             2000   \n",
       "7      Pensée             1973   \n",
       "8      Pensée             2004   \n",
       "9      Pensée             1972   \n",
       "\n",
       "                                               Title  \\\n",
       "0        La fuite des cerveaux : le cas de l'ex-URSS   \n",
       "1  Que nous devons-nous les uns aux autres ? Le c...   \n",
       "2  Croissance, redistribution et inégalités dans ...   \n",
       "3  Au-delà de la « fuite des cerveaux » : la mobi...   \n",
       "4  Chorafas Dimitri N. — La fuite des cerveaux. L...   \n",
       "5  Migration des Africains diplômés. \"Brain drain...   \n",
       "6  Migration Sud-Nord et commerce : une revue de ...   \n",
       "7  L'exode des cerveaux vers les États-Unis. Un c...   \n",
       "8  Mobilité et transferts de savoir : acteurs, ré...   \n",
       "9                               L'exode des cerveaux   \n",
       "\n",
       "                                         Collection Auteurs  \n",
       "0                              Hommes et Migrations     NaN  \n",
       "1                    Revue Philosophique de Louvain     NaN  \n",
       "2                                  Revue économique     NaN  \n",
       "3   Revue européenne des migrations internationales     NaN  \n",
       "4                                        Population     NaN  \n",
       "5                              Hommes et Migrations     NaN  \n",
       "6                 Revue d'économie du développement     NaN  \n",
       "7                                 Revue Tiers Monde     NaN  \n",
       "8  Bulletin de l'Association de Géographes Français     NaN  \n",
       "9                                  Revue économique     NaN  "
      ]
     },
     "execution_count": 6,
     "metadata": {},
     "output_type": "execute_result"
    }
   ],
   "source": [
    "#emplir dataframe\n",
    "data['Title'] = liste_title\n",
    "data['Collection'] = liste_collection\n",
    "data['Year_publication'] = liste_date\n",
    "data['Data_source'] = 'Pensée'\n",
    "data"
   ]
  },
  {
   "cell_type": "code",
   "execution_count": 7,
   "metadata": {},
   "outputs": [
    {
     "data": {
      "text/plain": [
       "'Rachel Bouyssou'"
      ]
     },
     "execution_count": 7,
     "metadata": {},
     "output_type": "execute_result"
    }
   ],
   "source": [
    "#recuperer les auteurs\n",
    "#quand il y'a un auteur par pour un article, j'arrive a le recuperer, s'il'y a plus\n",
    "#j'y arrive pas pour le moment\n",
    "\n",
    "driver.find_elements_by_xpath(\"//*[contains(@itemprop,'name')]\")[1].text"
   ]
  },
  {
   "cell_type": "code",
   "execution_count": 21,
   "metadata": {},
   "outputs": [
    {
     "data": {
      "text/plain": [
       "'Andrei Kortunov Rachel Bouyssou [Traducteur]'"
      ]
     },
     "execution_count": 21,
     "metadata": {},
     "output_type": "execute_result"
    }
   ],
   "source": [
    "#ici ca  marche mais comment savoir que c'est 2 auteurs?\n",
    "driver.find_elements_by_xpath(\"//*[contains(@class,'contributors')]\")[0].text"
   ]
  }
 ],
 "metadata": {
  "kernelspec": {
   "display_name": "Python 3",
   "language": "python",
   "name": "python3"
  },
  "language_info": {
   "codemirror_mode": {
    "name": "ipython",
    "version": 3
   },
   "file_extension": ".py",
   "mimetype": "text/x-python",
   "name": "python",
   "nbconvert_exporter": "python",
   "pygments_lexer": "ipython3",
   "version": "3.7.4"
  }
 },
 "nbformat": 4,
 "nbformat_minor": 2
}
